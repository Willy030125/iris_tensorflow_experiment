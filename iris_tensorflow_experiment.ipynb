{
 "cells": [
  {
   "cell_type": "markdown",
   "id": "11140017",
   "metadata": {},
   "source": [
    "# Iris Tensorflow experiment"
   ]
  },
  {
   "cell_type": "markdown",
   "id": "f98dce7c",
   "metadata": {},
   "source": [
    "Experimenting the famous iris dataset using Tensorflow neural networks"
   ]
  },
  {
   "cell_type": "code",
   "execution_count": 1,
   "id": "f0f9bc57",
   "metadata": {},
   "outputs": [],
   "source": [
    "import numpy as np\n",
    "import matplotlib.pyplot as plt\n",
    "import tensorflow as tf\n",
    "from sklearn.datasets import load_iris"
   ]
  },
  {
   "cell_type": "code",
   "execution_count": 2,
   "id": "ba32d51c",
   "metadata": {},
   "outputs": [],
   "source": [
    "data = load_iris()"
   ]
  },
  {
   "cell_type": "code",
   "execution_count": 3,
   "id": "2638b8d4",
   "metadata": {},
   "outputs": [],
   "source": [
    "X = data.data\n",
    "y = data.target"
   ]
  },
  {
   "cell_type": "code",
   "execution_count": 4,
   "id": "cb0b2207",
   "metadata": {},
   "outputs": [
    {
     "data": {
      "text/plain": [
       "array([0, 0, 0, 0, 0, 0, 0, 0, 0, 0, 0, 0, 0, 0, 0, 0, 0, 0, 0, 0, 0, 0,\n",
       "       0, 0, 0, 0, 0, 0, 0, 0, 0, 0, 0, 0, 0, 0, 0, 0, 0, 0, 0, 0, 0, 0,\n",
       "       0, 0, 0, 0, 0, 0, 1, 1, 1, 1, 1, 1, 1, 1, 1, 1, 1, 1, 1, 1, 1, 1,\n",
       "       1, 1, 1, 1, 1, 1, 1, 1, 1, 1, 1, 1, 1, 1, 1, 1, 1, 1, 1, 1, 1, 1,\n",
       "       1, 1, 1, 1, 1, 1, 1, 1, 1, 1, 1, 1, 2, 2, 2, 2, 2, 2, 2, 2, 2, 2,\n",
       "       2, 2, 2, 2, 2, 2, 2, 2, 2, 2, 2, 2, 2, 2, 2, 2, 2, 2, 2, 2, 2, 2,\n",
       "       2, 2, 2, 2, 2, 2, 2, 2, 2, 2, 2, 2, 2, 2, 2, 2, 2, 2])"
      ]
     },
     "execution_count": 4,
     "metadata": {},
     "output_type": "execute_result"
    }
   ],
   "source": [
    "y"
   ]
  },
  {
   "cell_type": "markdown",
   "id": "3ad83367",
   "metadata": {},
   "source": [
    "## Data Preprocessing"
   ]
  },
  {
   "cell_type": "markdown",
   "id": "3a690304",
   "metadata": {},
   "source": [
    "Using One-Hot-Encoder (for categorical_crossentropy loss)<br>\n",
    "and sklearn test train split"
   ]
  },
  {
   "cell_type": "code",
   "execution_count": 5,
   "id": "059c02e8",
   "metadata": {},
   "outputs": [],
   "source": [
    "from sklearn.preprocessing import OneHotEncoder\n",
    "enc = OneHotEncoder(sparse=False)\n",
    "y = enc.fit_transform(y.reshape(-1, 1))"
   ]
  },
  {
   "cell_type": "code",
   "execution_count": 6,
   "id": "976c8514",
   "metadata": {},
   "outputs": [],
   "source": [
    "from sklearn.model_selection import train_test_split\n",
    "X_train, X_test, y_train, y_test = train_test_split(X, y, train_size=0.7, random_state=1)"
   ]
  },
  {
   "cell_type": "markdown",
   "id": "eaade644",
   "metadata": {},
   "source": [
    "## Tensorflow Dense layers (connected NN layers)"
   ]
  },
  {
   "cell_type": "markdown",
   "id": "62f45f14",
   "metadata": {},
   "source": [
    "input layers = 10<br>\n",
    "hidden layers = 100<br>\n",
    "output layers = 3 (label: 3)"
   ]
  },
  {
   "cell_type": "code",
   "execution_count": 7,
   "id": "1b916e7c",
   "metadata": {},
   "outputs": [],
   "source": [
    "model = tf.keras.Sequential([\n",
    "    tf.keras.layers.Dense(10, activation='relu'),\n",
    "    tf.keras.layers.Dense(100, activation='relu'),\n",
    "    tf.keras.layers.Dense(3, activation='softmax')\n",
    "])"
   ]
  },
  {
   "cell_type": "code",
   "execution_count": 8,
   "id": "5ccaad6d",
   "metadata": {},
   "outputs": [],
   "source": [
    "model.compile(optimizer='adam',\n",
    "              loss='categorical_crossentropy',\n",
    "              metrics=['accuracy'])"
   ]
  },
  {
   "cell_type": "code",
   "execution_count": 9,
   "id": "7cef6056",
   "metadata": {},
   "outputs": [
    {
     "name": "stdout",
     "output_type": "stream",
     "text": [
      "Epoch 1/120\n",
      "3/3 [==============================] - 1s 212ms/step - loss: 1.2582 - accuracy: 0.2510 - val_loss: 1.1138 - val_accuracy: 0.1250\n",
      "Epoch 2/120\n",
      "3/3 [==============================] - 0s 23ms/step - loss: 1.1102 - accuracy: 0.2742 - val_loss: 1.1303 - val_accuracy: 0.2812\n",
      "Epoch 3/120\n",
      "3/3 [==============================] - 0s 22ms/step - loss: 1.0804 - accuracy: 0.3793 - val_loss: 1.1580 - val_accuracy: 0.2812\n",
      "Epoch 4/120\n",
      "3/3 [==============================] - 0s 22ms/step - loss: 1.0723 - accuracy: 0.3709 - val_loss: 1.1577 - val_accuracy: 0.2812\n",
      "Epoch 5/120\n",
      "3/3 [==============================] - 0s 23ms/step - loss: 1.0223 - accuracy: 0.4084 - val_loss: 1.1312 - val_accuracy: 0.2812\n",
      "Epoch 6/120\n",
      "3/3 [==============================] - 0s 22ms/step - loss: 1.0212 - accuracy: 0.3834 - val_loss: 1.0875 - val_accuracy: 0.2812\n",
      "Epoch 7/120\n",
      "3/3 [==============================] - 0s 22ms/step - loss: 0.9793 - accuracy: 0.4168 - val_loss: 1.0549 - val_accuracy: 0.2812\n",
      "Epoch 8/120\n",
      "3/3 [==============================] - 0s 24ms/step - loss: 0.9742 - accuracy: 0.3945 - val_loss: 1.0352 - val_accuracy: 0.4688\n",
      "Epoch 9/120\n",
      "3/3 [==============================] - 0s 20ms/step - loss: 0.9612 - accuracy: 0.5654 - val_loss: 1.0141 - val_accuracy: 0.5312\n",
      "Epoch 10/120\n",
      "3/3 [==============================] - ETA: 0s - loss: 0.9522 - accuracy: 0.66 - 0s 21ms/step - loss: 0.9489 - accuracy: 0.6758 - val_loss: 0.9973 - val_accuracy: 0.5312\n",
      "Epoch 11/120\n",
      "3/3 [==============================] - 0s 20ms/step - loss: 0.9251 - accuracy: 0.7145 - val_loss: 0.9896 - val_accuracy: 0.5625\n",
      "Epoch 12/120\n",
      "3/3 [==============================] - 0s 22ms/step - loss: 0.8880 - accuracy: 0.7562 - val_loss: 0.9849 - val_accuracy: 0.5938\n",
      "Epoch 13/120\n",
      "3/3 [==============================] - 0s 27ms/step - loss: 0.8912 - accuracy: 0.7172 - val_loss: 0.9691 - val_accuracy: 0.5938\n",
      "Epoch 14/120\n",
      "3/3 [==============================] - 0s 26ms/step - loss: 0.8563 - accuracy: 0.7407 - val_loss: 0.9531 - val_accuracy: 0.5938\n",
      "Epoch 15/120\n",
      "3/3 [==============================] - 0s 24ms/step - loss: 0.8606 - accuracy: 0.7240 - val_loss: 0.9343 - val_accuracy: 0.5938\n",
      "Epoch 16/120\n",
      "3/3 [==============================] - 0s 24ms/step - loss: 0.8410 - accuracy: 0.7282 - val_loss: 0.9184 - val_accuracy: 0.5938\n",
      "Epoch 17/120\n",
      "3/3 [==============================] - 0s 21ms/step - loss: 0.7975 - accuracy: 0.7532 - val_loss: 0.9040 - val_accuracy: 0.5938\n",
      "Epoch 18/120\n",
      "3/3 [==============================] - 0s 24ms/step - loss: 0.7676 - accuracy: 0.7740 - val_loss: 0.8804 - val_accuracy: 0.5938\n",
      "Epoch 19/120\n",
      "3/3 [==============================] - 0s 21ms/step - loss: 0.7467 - accuracy: 0.7699 - val_loss: 0.8545 - val_accuracy: 0.5938\n",
      "Epoch 20/120\n",
      "3/3 [==============================] - 0s 23ms/step - loss: 0.7366 - accuracy: 0.7574 - val_loss: 0.8271 - val_accuracy: 0.5938\n",
      "Epoch 21/120\n",
      "3/3 [==============================] - 0s 21ms/step - loss: 0.7334 - accuracy: 0.7365 - val_loss: 0.8055 - val_accuracy: 0.5938\n",
      "Epoch 22/120\n",
      "3/3 [==============================] - 0s 20ms/step - loss: 0.6999 - accuracy: 0.7574 - val_loss: 0.7866 - val_accuracy: 0.5938\n",
      "Epoch 23/120\n",
      "3/3 [==============================] - 0s 23ms/step - loss: 0.6790 - accuracy: 0.7574 - val_loss: 0.7696 - val_accuracy: 0.5938\n",
      "Epoch 24/120\n",
      "3/3 [==============================] - 0s 19ms/step - loss: 0.6632 - accuracy: 0.7490 - val_loss: 0.7563 - val_accuracy: 0.5938\n",
      "Epoch 25/120\n",
      "3/3 [==============================] - 0s 22ms/step - loss: 0.6506 - accuracy: 0.7407 - val_loss: 0.7446 - val_accuracy: 0.5938\n",
      "Epoch 26/120\n",
      "3/3 [==============================] - ETA: 0s - loss: 0.6197 - accuracy: 0.76 - 0s 23ms/step - loss: 0.6216 - accuracy: 0.7532 - val_loss: 0.7260 - val_accuracy: 0.5938\n",
      "Epoch 27/120\n",
      "3/3 [==============================] - 0s 22ms/step - loss: 0.6104 - accuracy: 0.7407 - val_loss: 0.7074 - val_accuracy: 0.5938\n",
      "Epoch 28/120\n",
      "3/3 [==============================] - 0s 21ms/step - loss: 0.5815 - accuracy: 0.7615 - val_loss: 0.6972 - val_accuracy: 0.5938\n",
      "Epoch 29/120\n",
      "3/3 [==============================] - ETA: 0s - loss: 0.5082 - accuracy: 0.80 - 0s 22ms/step - loss: 0.5536 - accuracy: 0.7615 - val_loss: 0.6813 - val_accuracy: 0.5938\n",
      "Epoch 30/120\n",
      "3/3 [==============================] - 0s 25ms/step - loss: 0.5645 - accuracy: 0.7407 - val_loss: 0.6623 - val_accuracy: 0.5938\n",
      "Epoch 31/120\n",
      "3/3 [==============================] - ETA: 0s - loss: 0.5615 - accuracy: 0.73 - 0s 22ms/step - loss: 0.5500 - accuracy: 0.7407 - val_loss: 0.6474 - val_accuracy: 0.5938\n",
      "Epoch 32/120\n",
      "3/3 [==============================] - 0s 21ms/step - loss: 0.5353 - accuracy: 0.7407 - val_loss: 0.6287 - val_accuracy: 0.5938\n",
      "Epoch 33/120\n",
      "3/3 [==============================] - 0s 23ms/step - loss: 0.5176 - accuracy: 0.7407 - val_loss: 0.6141 - val_accuracy: 0.5938\n",
      "Epoch 34/120\n",
      "3/3 [==============================] - 0s 21ms/step - loss: 0.4959 - accuracy: 0.7532 - val_loss: 0.6032 - val_accuracy: 0.5938\n",
      "Epoch 35/120\n",
      "3/3 [==============================] - 0s 22ms/step - loss: 0.5039 - accuracy: 0.7199 - val_loss: 0.5929 - val_accuracy: 0.5938\n",
      "Epoch 36/120\n",
      "3/3 [==============================] - 0s 21ms/step - loss: 0.4928 - accuracy: 0.7240 - val_loss: 0.5857 - val_accuracy: 0.5938\n",
      "Epoch 37/120\n",
      "3/3 [==============================] - 0s 23ms/step - loss: 0.5077 - accuracy: 0.6865 - val_loss: 0.5780 - val_accuracy: 0.5938\n",
      "Epoch 38/120\n",
      "3/3 [==============================] - 0s 20ms/step - loss: 0.4718 - accuracy: 0.7282 - val_loss: 0.5788 - val_accuracy: 0.5938\n",
      "Epoch 39/120\n",
      "3/3 [==============================] - 0s 23ms/step - loss: 0.4804 - accuracy: 0.7074 - val_loss: 0.5615 - val_accuracy: 0.5938\n",
      "Epoch 40/120\n",
      "3/3 [==============================] - 0s 20ms/step - loss: 0.4312 - accuracy: 0.7532 - val_loss: 0.5458 - val_accuracy: 0.6250\n",
      "Epoch 41/120\n",
      "3/3 [==============================] - 0s 21ms/step - loss: 0.3996 - accuracy: 0.7782 - val_loss: 0.5264 - val_accuracy: 0.6562\n",
      "Epoch 42/120\n",
      "3/3 [==============================] - 0s 22ms/step - loss: 0.4160 - accuracy: 0.7475 - val_loss: 0.5050 - val_accuracy: 0.7188\n",
      "Epoch 43/120\n",
      "3/3 [==============================] - 0s 20ms/step - loss: 0.4050 - accuracy: 0.8014 - val_loss: 0.4987 - val_accuracy: 0.6875\n",
      "Epoch 44/120\n",
      "3/3 [==============================] - 0s 20ms/step - loss: 0.3891 - accuracy: 0.8071 - val_loss: 0.4904 - val_accuracy: 0.6875\n",
      "Epoch 45/120\n",
      "3/3 [==============================] - ETA: 0s - loss: 0.3767 - accuracy: 0.83 - 0s 23ms/step - loss: 0.3890 - accuracy: 0.8014 - val_loss: 0.4737 - val_accuracy: 0.7812\n",
      "Epoch 46/120\n",
      "3/3 [==============================] - 0s 23ms/step - loss: 0.3757 - accuracy: 0.8925 - val_loss: 0.4596 - val_accuracy: 0.8125\n",
      "Epoch 47/120\n",
      "3/3 [==============================] - ETA: 0s - loss: 0.4100 - accuracy: 0.83 - 0s 20ms/step - loss: 0.3847 - accuracy: 0.8634 - val_loss: 0.4453 - val_accuracy: 0.9062\n",
      "Epoch 48/120\n",
      "3/3 [==============================] - 0s 23ms/step - loss: 0.3683 - accuracy: 0.9339 - val_loss: 0.4380 - val_accuracy: 0.9062\n",
      "Epoch 49/120\n",
      "3/3 [==============================] - 0s 22ms/step - loss: 0.3538 - accuracy: 0.9256 - val_loss: 0.4339 - val_accuracy: 0.9062\n",
      "Epoch 50/120\n",
      "3/3 [==============================] - 0s 27ms/step - loss: 0.3479 - accuracy: 0.8800 - val_loss: 0.4394 - val_accuracy: 0.7812\n",
      "Epoch 51/120\n",
      "3/3 [==============================] - 0s 22ms/step - loss: 0.3408 - accuracy: 0.8592 - val_loss: 0.4346 - val_accuracy: 0.7812\n",
      "Epoch 52/120\n",
      "3/3 [==============================] - 0s 23ms/step - loss: 0.3337 - accuracy: 0.8800 - val_loss: 0.4167 - val_accuracy: 0.8438\n",
      "Epoch 53/120\n",
      "3/3 [==============================] - 0s 23ms/step - loss: 0.3334 - accuracy: 0.8717 - val_loss: 0.4009 - val_accuracy: 0.9062\n",
      "Epoch 54/120\n",
      "3/3 [==============================] - 0s 20ms/step - loss: 0.2982 - accuracy: 0.9449 - val_loss: 0.3896 - val_accuracy: 0.9062\n",
      "Epoch 55/120\n",
      "3/3 [==============================] - 0s 20ms/step - loss: 0.3179 - accuracy: 0.9738 - val_loss: 0.3762 - val_accuracy: 0.9375\n",
      "Epoch 56/120\n",
      "3/3 [==============================] - 0s 21ms/step - loss: 0.3126 - accuracy: 0.9696 - val_loss: 0.3728 - val_accuracy: 0.9375\n",
      "Epoch 57/120\n"
     ]
    },
    {
     "name": "stdout",
     "output_type": "stream",
     "text": [
      "3/3 [==============================] - 0s 22ms/step - loss: 0.2972 - accuracy: 0.9738 - val_loss: 0.3763 - val_accuracy: 0.9062\n",
      "Epoch 58/120\n",
      "3/3 [==============================] - 0s 20ms/step - loss: 0.3076 - accuracy: 0.9214 - val_loss: 0.3778 - val_accuracy: 0.9062\n",
      "Epoch 59/120\n",
      "3/3 [==============================] - 0s 20ms/step - loss: 0.3083 - accuracy: 0.8744 - val_loss: 0.3701 - val_accuracy: 0.9062\n",
      "Epoch 60/120\n",
      "3/3 [==============================] - 0s 20ms/step - loss: 0.3035 - accuracy: 0.9047 - val_loss: 0.3577 - val_accuracy: 0.9062\n",
      "Epoch 61/120\n",
      "3/3 [==============================] - 0s 21ms/step - loss: 0.2638 - accuracy: 0.9670 - val_loss: 0.3478 - val_accuracy: 0.9375\n",
      "Epoch 62/120\n",
      "3/3 [==============================] - 0s 21ms/step - loss: 0.2534 - accuracy: 0.9780 - val_loss: 0.3380 - val_accuracy: 0.9375\n",
      "Epoch 63/120\n",
      "3/3 [==============================] - ETA: 0s - loss: 0.2885 - accuracy: 1.00 - 0s 20ms/step - loss: 0.2752 - accuracy: 0.9780 - val_loss: 0.3281 - val_accuracy: 0.9375\n",
      "Epoch 64/120\n",
      "3/3 [==============================] - 0s 20ms/step - loss: 0.2541 - accuracy: 0.9738 - val_loss: 0.3229 - val_accuracy: 0.9375\n",
      "Epoch 65/120\n",
      "3/3 [==============================] - 0s 21ms/step - loss: 0.2779 - accuracy: 0.9613 - val_loss: 0.3187 - val_accuracy: 0.9375\n",
      "Epoch 66/120\n",
      "3/3 [==============================] - 0s 22ms/step - loss: 0.2682 - accuracy: 0.9613 - val_loss: 0.3143 - val_accuracy: 0.9375\n",
      "Epoch 67/120\n",
      "3/3 [==============================] - 0s 21ms/step - loss: 0.2561 - accuracy: 0.9696 - val_loss: 0.3082 - val_accuracy: 0.9375\n",
      "Epoch 68/120\n",
      "3/3 [==============================] - 0s 20ms/step - loss: 0.2297 - accuracy: 0.9738 - val_loss: 0.3039 - val_accuracy: 0.9375\n",
      "Epoch 69/120\n",
      "3/3 [==============================] - 0s 21ms/step - loss: 0.2523 - accuracy: 0.9738 - val_loss: 0.2949 - val_accuracy: 0.9375\n",
      "Epoch 70/120\n",
      "3/3 [==============================] - 0s 21ms/step - loss: 0.2115 - accuracy: 0.9863 - val_loss: 0.2881 - val_accuracy: 0.9375\n",
      "Epoch 71/120\n",
      "3/3 [==============================] - 0s 20ms/step - loss: 0.2201 - accuracy: 0.9821 - val_loss: 0.2795 - val_accuracy: 0.9688\n",
      "Epoch 72/120\n",
      "3/3 [==============================] - 0s 24ms/step - loss: 0.2301 - accuracy: 0.9696 - val_loss: 0.2772 - val_accuracy: 0.9375\n",
      "Epoch 73/120\n",
      "3/3 [==============================] - 0s 20ms/step - loss: 0.2041 - accuracy: 0.9821 - val_loss: 0.2771 - val_accuracy: 0.9375\n",
      "Epoch 74/120\n",
      "3/3 [==============================] - 0s 21ms/step - loss: 0.2158 - accuracy: 0.9696 - val_loss: 0.2707 - val_accuracy: 0.9375\n",
      "Epoch 75/120\n",
      "3/3 [==============================] - 0s 21ms/step - loss: 0.2154 - accuracy: 0.9696 - val_loss: 0.2646 - val_accuracy: 0.9375\n",
      "Epoch 76/120\n",
      "3/3 [==============================] - 0s 21ms/step - loss: 0.1974 - accuracy: 0.9738 - val_loss: 0.2682 - val_accuracy: 0.9375\n",
      "Epoch 77/120\n",
      "3/3 [==============================] - 0s 20ms/step - loss: 0.2012 - accuracy: 0.9696 - val_loss: 0.2547 - val_accuracy: 0.9375\n",
      "Epoch 78/120\n",
      "3/3 [==============================] - 0s 20ms/step - loss: 0.2083 - accuracy: 0.9696 - val_loss: 0.2486 - val_accuracy: 0.9688\n",
      "Epoch 79/120\n",
      "3/3 [==============================] - 0s 21ms/step - loss: 0.1895 - accuracy: 0.9738 - val_loss: 0.2445 - val_accuracy: 0.9688\n",
      "Epoch 80/120\n",
      "3/3 [==============================] - 0s 19ms/step - loss: 0.1885 - accuracy: 0.9780 - val_loss: 0.2446 - val_accuracy: 0.9375\n",
      "Epoch 81/120\n",
      "3/3 [==============================] - 0s 20ms/step - loss: 0.1879 - accuracy: 0.9696 - val_loss: 0.2393 - val_accuracy: 0.9375\n",
      "Epoch 82/120\n",
      "3/3 [==============================] - 0s 22ms/step - loss: 0.1678 - accuracy: 0.9780 - val_loss: 0.2401 - val_accuracy: 0.9375\n",
      "Epoch 83/120\n",
      "3/3 [==============================] - 0s 22ms/step - loss: 0.1813 - accuracy: 0.9696 - val_loss: 0.2388 - val_accuracy: 0.9375\n",
      "Epoch 84/120\n",
      "3/3 [==============================] - 0s 20ms/step - loss: 0.1624 - accuracy: 0.9821 - val_loss: 0.2276 - val_accuracy: 0.9375\n",
      "Epoch 85/120\n",
      "3/3 [==============================] - 0s 20ms/step - loss: 0.1544 - accuracy: 0.9863 - val_loss: 0.2217 - val_accuracy: 0.9688\n",
      "Epoch 86/120\n",
      "3/3 [==============================] - 0s 21ms/step - loss: 0.1791 - accuracy: 0.9696 - val_loss: 0.2202 - val_accuracy: 0.9375\n",
      "Epoch 87/120\n",
      "3/3 [==============================] - 0s 20ms/step - loss: 0.1830 - accuracy: 0.9696 - val_loss: 0.2149 - val_accuracy: 0.9688\n",
      "Epoch 88/120\n",
      "3/3 [==============================] - 0s 20ms/step - loss: 0.1560 - accuracy: 0.9821 - val_loss: 0.2175 - val_accuracy: 0.9375\n",
      "Epoch 89/120\n",
      "3/3 [==============================] - 0s 21ms/step - loss: 0.1756 - accuracy: 0.9613 - val_loss: 0.2158 - val_accuracy: 0.9375\n",
      "Epoch 90/120\n",
      "3/3 [==============================] - 0s 21ms/step - loss: 0.1716 - accuracy: 0.9613 - val_loss: 0.2103 - val_accuracy: 0.9375\n",
      "Epoch 91/120\n",
      "3/3 [==============================] - 0s 21ms/step - loss: 0.1547 - accuracy: 0.9780 - val_loss: 0.2054 - val_accuracy: 0.9375\n",
      "Epoch 92/120\n",
      "3/3 [==============================] - 0s 20ms/step - loss: 0.1648 - accuracy: 0.9613 - val_loss: 0.2016 - val_accuracy: 0.9688\n",
      "Epoch 93/120\n",
      "3/3 [==============================] - 0s 22ms/step - loss: 0.1453 - accuracy: 0.9780 - val_loss: 0.1979 - val_accuracy: 0.9688\n",
      "Epoch 94/120\n",
      "3/3 [==============================] - 0s 25ms/step - loss: 0.1402 - accuracy: 0.9738 - val_loss: 0.1953 - val_accuracy: 0.9688\n",
      "Epoch 95/120\n",
      "3/3 [==============================] - 0s 25ms/step - loss: 0.1348 - accuracy: 0.9780 - val_loss: 0.1931 - val_accuracy: 0.9688\n",
      "Epoch 96/120\n",
      "3/3 [==============================] - 0s 21ms/step - loss: 0.1401 - accuracy: 0.9821 - val_loss: 0.1929 - val_accuracy: 0.9375\n",
      "Epoch 97/120\n",
      "3/3 [==============================] - 0s 20ms/step - loss: 0.1495 - accuracy: 0.9696 - val_loss: 0.1883 - val_accuracy: 0.9688\n",
      "Epoch 98/120\n",
      "3/3 [==============================] - 0s 20ms/step - loss: 0.1534 - accuracy: 0.9613 - val_loss: 0.1852 - val_accuracy: 0.9688\n",
      "Epoch 99/120\n",
      "3/3 [==============================] - 0s 20ms/step - loss: 0.1494 - accuracy: 0.9696 - val_loss: 0.1825 - val_accuracy: 0.9688\n",
      "Epoch 100/120\n",
      "3/3 [==============================] - 0s 21ms/step - loss: 0.1435 - accuracy: 0.9738 - val_loss: 0.1819 - val_accuracy: 0.9688\n",
      "Epoch 101/120\n",
      "3/3 [==============================] - 0s 20ms/step - loss: 0.1254 - accuracy: 0.9696 - val_loss: 0.1795 - val_accuracy: 0.9688\n",
      "Epoch 102/120\n",
      "3/3 [==============================] - 0s 25ms/step - loss: 0.1418 - accuracy: 0.9696 - val_loss: 0.1768 - val_accuracy: 0.9688\n",
      "Epoch 103/120\n",
      "3/3 [==============================] - 0s 22ms/step - loss: 0.1335 - accuracy: 0.9696 - val_loss: 0.1746 - val_accuracy: 0.9688\n",
      "Epoch 104/120\n",
      "3/3 [==============================] - 0s 25ms/step - loss: 0.1308 - accuracy: 0.9738 - val_loss: 0.1759 - val_accuracy: 0.9375\n",
      "Epoch 105/120\n",
      "3/3 [==============================] - 0s 23ms/step - loss: 0.1231 - accuracy: 0.9821 - val_loss: 0.1716 - val_accuracy: 0.9688\n",
      "Epoch 106/120\n",
      "3/3 [==============================] - 0s 22ms/step - loss: 0.1343 - accuracy: 0.9696 - val_loss: 0.1693 - val_accuracy: 0.9688\n",
      "Epoch 107/120\n",
      "3/3 [==============================] - 0s 22ms/step - loss: 0.1507 - accuracy: 0.9613 - val_loss: 0.1678 - val_accuracy: 0.9688\n",
      "Epoch 108/120\n",
      "3/3 [==============================] - 0s 21ms/step - loss: 0.1296 - accuracy: 0.9696 - val_loss: 0.1655 - val_accuracy: 0.9688\n",
      "Epoch 109/120\n",
      "3/3 [==============================] - 0s 21ms/step - loss: 0.1223 - accuracy: 0.9696 - val_loss: 0.1665 - val_accuracy: 0.9375\n",
      "Epoch 110/120\n",
      "3/3 [==============================] - 0s 21ms/step - loss: 0.1250 - accuracy: 0.9696 - val_loss: 0.1665 - val_accuracy: 0.9375\n",
      "Epoch 111/120\n",
      "3/3 [==============================] - 0s 21ms/step - loss: 0.1333 - accuracy: 0.9613 - val_loss: 0.1612 - val_accuracy: 0.9688\n",
      "Epoch 112/120\n",
      "3/3 [==============================] - 0s 22ms/step - loss: 0.1110 - accuracy: 0.9780 - val_loss: 0.1590 - val_accuracy: 0.9375\n",
      "Epoch 113/120\n",
      "3/3 [==============================] - 0s 21ms/step - loss: 0.1089 - accuracy: 0.9821 - val_loss: 0.1575 - val_accuracy: 0.9688\n",
      "Epoch 114/120\n",
      "3/3 [==============================] - 0s 23ms/step - loss: 0.1171 - accuracy: 0.9696 - val_loss: 0.1561 - val_accuracy: 0.9688\n"
     ]
    },
    {
     "name": "stdout",
     "output_type": "stream",
     "text": [
      "Epoch 115/120\n",
      "3/3 [==============================] - 0s 22ms/step - loss: 0.1030 - accuracy: 0.9821 - val_loss: 0.1556 - val_accuracy: 0.9688\n",
      "Epoch 116/120\n",
      "3/3 [==============================] - 0s 23ms/step - loss: 0.1172 - accuracy: 0.9696 - val_loss: 0.1536 - val_accuracy: 0.9688\n",
      "Epoch 117/120\n",
      "3/3 [==============================] - 0s 23ms/step - loss: 0.1079 - accuracy: 0.9780 - val_loss: 0.1524 - val_accuracy: 0.9688\n",
      "Epoch 118/120\n",
      "3/3 [==============================] - 0s 21ms/step - loss: 0.1119 - accuracy: 0.9738 - val_loss: 0.1516 - val_accuracy: 0.9688\n",
      "Epoch 119/120\n",
      "3/3 [==============================] - 0s 21ms/step - loss: 0.1202 - accuracy: 0.9696 - val_loss: 0.1500 - val_accuracy: 0.9688\n",
      "Epoch 120/120\n",
      "3/3 [==============================] - 0s 21ms/step - loss: 0.1155 - accuracy: 0.9696 - val_loss: 0.1490 - val_accuracy: 0.9688\n"
     ]
    }
   ],
   "source": [
    "history = model.fit(X_train, y_train, validation_split = 0.3, batch_size=30, epochs=120)"
   ]
  },
  {
   "cell_type": "code",
   "execution_count": 10,
   "id": "8b309a62",
   "metadata": {},
   "outputs": [
    {
     "name": "stdout",
     "output_type": "stream",
     "text": [
      "Model: \"sequential\"\n",
      "_________________________________________________________________\n",
      "Layer (type)                 Output Shape              Param #   \n",
      "=================================================================\n",
      "dense (Dense)                (None, 10)                50        \n",
      "_________________________________________________________________\n",
      "dense_1 (Dense)              (None, 100)               1100      \n",
      "_________________________________________________________________\n",
      "dense_2 (Dense)              (None, 3)                 303       \n",
      "=================================================================\n",
      "Total params: 1,453\n",
      "Trainable params: 1,453\n",
      "Non-trainable params: 0\n",
      "_________________________________________________________________\n"
     ]
    }
   ],
   "source": [
    "model.summary()"
   ]
  },
  {
   "cell_type": "code",
   "execution_count": 11,
   "id": "e1c9edde",
   "metadata": {},
   "outputs": [
    {
     "data": {
      "text/plain": [
       "<matplotlib.legend.Legend at 0x189bc140848>"
      ]
     },
     "execution_count": 11,
     "metadata": {},
     "output_type": "execute_result"
    },
    {
     "data": {
      "image/png": "[encoded data removed]",
      "text/plain": [
       "<Figure size 432x288 with 1 Axes>"
      ]
     },
     "metadata": {
      "needs_background": "light"
     },
     "output_type": "display_data"
    }
   ],
   "source": [
    "plt.plot(history.history['accuracy'])\n",
    "plt.plot(history.history['val_accuracy'])\n",
    "plt.legend(['accuracy','validation accuracy'])"
   ]
  },
  {
   "cell_type": "code",
   "execution_count": 12,
   "id": "d404413a",
   "metadata": {},
   "outputs": [
    {
     "data": {
      "text/plain": [
       "<matplotlib.legend.Legend at 0x189c4243e08>"
      ]
     },
     "execution_count": 12,
     "metadata": {},
     "output_type": "execute_result"
    },
    {
     "data": {
      "image/png": "[encoded data removed]",
      "text/plain": [
       "<Figure size 432x288 with 1 Axes>"
      ]
     },
     "metadata": {
      "needs_background": "light"
     },
     "output_type": "display_data"
    }
   ],
   "source": [
    "plt.plot(history.history['loss'])\n",
    "plt.plot(history.history['val_loss'])\n",
    "plt.legend(['loss','validation loss'])"
   ]
  },
  {
   "cell_type": "code",
   "execution_count": 13,
   "id": "cd0b28db",
   "metadata": {},
   "outputs": [
    {
     "name": "stdout",
     "output_type": "stream",
     "text": [
      "Test loss: 0.13367916643619537\n",
      "Test accuracy: 1.0\n"
     ]
    }
   ],
   "source": [
    "loss, accuracy = model.evaluate(X_test, y_test, verbose=0)\n",
    "print('Test loss:', loss)\n",
    "print('Test accuracy:', accuracy)"
   ]
  },
  {
   "cell_type": "code",
   "execution_count": 14,
   "id": "ec9a5c52",
   "metadata": {},
   "outputs": [
    {
     "data": {
      "text/plain": [
       "array([[1., 0., 0.],\n",
       "       [0., 1., 0.],\n",
       "       [0., 1., 0.],\n",
       "       [1., 0., 0.],\n",
       "       [0., 0., 1.],\n",
       "       [0., 1., 0.],\n",
       "       [0., 0., 1.],\n",
       "       [1., 0., 0.],\n",
       "       [1., 0., 0.],\n",
       "       [0., 0., 1.],\n",
       "       [0., 1., 0.],\n",
       "       [1., 0., 0.],\n",
       "       [0., 0., 1.],\n",
       "       [0., 1., 0.],\n",
       "       [0., 1., 0.],\n",
       "       [1., 0., 0.],\n",
       "       [0., 1., 0.],\n",
       "       [0., 1., 0.],\n",
       "       [1., 0., 0.],\n",
       "       [1., 0., 0.],\n",
       "       [0., 1., 0.],\n",
       "       [0., 1., 0.],\n",
       "       [0., 1., 0.],\n",
       "       [1., 0., 0.],\n",
       "       [0., 0., 1.],\n",
       "       [0., 1., 0.],\n",
       "       [1., 0., 0.],\n",
       "       [1., 0., 0.],\n",
       "       [0., 1., 0.],\n",
       "       [0., 0., 1.],\n",
       "       [0., 1., 0.],\n",
       "       [0., 0., 1.],\n",
       "       [0., 1., 0.],\n",
       "       [0., 0., 1.],\n",
       "       [0., 0., 1.],\n",
       "       [1., 0., 0.],\n",
       "       [0., 1., 0.],\n",
       "       [1., 0., 0.],\n",
       "       [0., 1., 0.],\n",
       "       [0., 0., 1.],\n",
       "       [0., 0., 1.],\n",
       "       [1., 0., 0.],\n",
       "       [0., 0., 1.],\n",
       "       [0., 0., 1.],\n",
       "       [0., 1., 0.]], dtype=float32)"
      ]
     },
     "execution_count": 14,
     "metadata": {},
     "output_type": "execute_result"
    }
   ],
   "source": [
    "y_pred = model.predict(X_test)\n",
    "y_pred = np.round(y_pred)\n",
    "y_pred"
   ]
  },
  {
   "cell_type": "code",
   "execution_count": 15,
   "id": "ec0ad39b",
   "metadata": {},
   "outputs": [
    {
     "data": {
      "text/plain": [
       "1.0"
      ]
     },
     "execution_count": 15,
     "metadata": {},
     "output_type": "execute_result"
    }
   ],
   "source": [
    "from sklearn.metrics import accuracy_score\n",
    "pred_accuracy = accuracy_score(y_pred, y_test)\n",
    "pred_accuracy"
   ]
  },
  {
   "cell_type": "code",
   "execution_count": 16,
   "id": "eb5c4588",
   "metadata": {},
   "outputs": [
    {
     "name": "stdout",
     "output_type": "stream",
     "text": [
      "Actual: [0 1 1 0 2 1 2 0 0 2 1 0 2 1 1 0 1 1 0 0 1 1 1 0 2 1 0 0 1 2 1 2 1 2 2 0 1\n",
      " 0 1 2 2 0 2 2 1]\n",
      "Predicted: [0 1 1 0 2 1 2 0 0 2 1 0 2 1 1 0 1 1 0 0 1 1 1 0 2 1 0 0 1 2 1 2 1 2 2 0 1\n",
      " 0 1 2 2 0 2 2 1]\n"
     ]
    }
   ],
   "source": [
    "actual = np.argmax(y_test,axis=1)\n",
    "predicted = np.argmax(y_pred,axis=1)\n",
    "print(\"Actual: {}\".format(actual))\n",
    "print(\"Predicted: {}\".format(predicted))"
   ]
  },
  {
   "cell_type": "code",
   "execution_count": null,
   "id": "1548dd4d",
   "metadata": {},
   "outputs": [],
   "source": []
  }
 ],
 "metadata": {
  "kernelspec": {
   "display_name": "Python 3",
   "language": "python",
   "name": "python3"
  },
  "language_info": {
   "codemirror_mode": {
    "name": "ipython",
    "version": 3
   },
   "file_extension": ".py",
   "mimetype": "text/x-python",
   "name": "python",
   "nbconvert_exporter": "python",
   "pygments_lexer": "ipython3",
   "version": "3.7.8"
  }
 },
 "nbformat": 4,
 "nbformat_minor": 5
}
