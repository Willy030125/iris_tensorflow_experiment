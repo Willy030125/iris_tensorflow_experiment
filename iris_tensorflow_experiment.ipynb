{
 "cells": [
  {
   "cell_type": "markdown",
   "id": "11140017",
   "metadata": {},
   "source": [
    "# Iris Tensorflow experiment"
   ]
  },
  {
   "cell_type": "markdown",
   "id": "f98dce7c",
   "metadata": {},
   "source": [
    "Experimenting the famous iris dataset using Tensorflow neural networks"
   ]
  },
  {
   "cell_type": "code",
   "execution_count": 1,
   "id": "f0f9bc57",
   "metadata": {},
   "outputs": [],
   "source": [
    "import numpy as np\n",
    "import tensorflow as tf\n",
    "from sklearn.datasets import load_iris"
   ]
  },
  {
   "cell_type": "code",
   "execution_count": 2,
   "id": "ba32d51c",
   "metadata": {},
   "outputs": [],
   "source": [
    "data = load_iris()"
   ]
  },
  {
   "cell_type": "code",
   "execution_count": 3,
   "id": "2638b8d4",
   "metadata": {},
   "outputs": [],
   "source": [
    "X = data.data\n",
    "y = data.target"
   ]
  },
  {
   "cell_type": "code",
   "execution_count": 4,
   "id": "cb0b2207",
   "metadata": {},
   "outputs": [
    {
     "data": {
      "text/plain": [
       "array([0, 0, 0, 0, 0, 0, 0, 0, 0, 0, 0, 0, 0, 0, 0, 0, 0, 0, 0, 0, 0, 0,\n",
       "       0, 0, 0, 0, 0, 0, 0, 0, 0, 0, 0, 0, 0, 0, 0, 0, 0, 0, 0, 0, 0, 0,\n",
       "       0, 0, 0, 0, 0, 0, 1, 1, 1, 1, 1, 1, 1, 1, 1, 1, 1, 1, 1, 1, 1, 1,\n",
       "       1, 1, 1, 1, 1, 1, 1, 1, 1, 1, 1, 1, 1, 1, 1, 1, 1, 1, 1, 1, 1, 1,\n",
       "       1, 1, 1, 1, 1, 1, 1, 1, 1, 1, 1, 1, 2, 2, 2, 2, 2, 2, 2, 2, 2, 2,\n",
       "       2, 2, 2, 2, 2, 2, 2, 2, 2, 2, 2, 2, 2, 2, 2, 2, 2, 2, 2, 2, 2, 2,\n",
       "       2, 2, 2, 2, 2, 2, 2, 2, 2, 2, 2, 2, 2, 2, 2, 2, 2, 2])"
      ]
     },
     "execution_count": 4,
     "metadata": {},
     "output_type": "execute_result"
    }
   ],
   "source": [
    "y"
   ]
  },
  {
   "cell_type": "markdown",
   "id": "3ad83367",
   "metadata": {},
   "source": [
    "## Data Preprocessing"
   ]
  },
  {
   "cell_type": "markdown",
   "id": "3a690304",
   "metadata": {},
   "source": [
    "Using One-Hot-Encoder (for categorical_crossentropy loss)<br>\n",
    "and sklearn test train split"
   ]
  },
  {
   "cell_type": "code",
   "execution_count": 5,
   "id": "059c02e8",
   "metadata": {},
   "outputs": [],
   "source": [
    "from sklearn.preprocessing import OneHotEncoder\n",
    "enc = OneHotEncoder(sparse=False)\n",
    "y = enc.fit_transform(y.reshape(-1, 1))"
   ]
  },
  {
   "cell_type": "code",
   "execution_count": 6,
   "id": "976c8514",
   "metadata": {},
   "outputs": [],
   "source": [
    "from sklearn.model_selection import train_test_split\n",
    "X_train, X_test, y_train, y_test = train_test_split(X, y, train_size=0.7, random_state=1)"
   ]
  },
  {
   "cell_type": "markdown",
   "id": "eaade644",
   "metadata": {},
   "source": [
    "## Tensorflow Dense layers (connected NN layers)"
   ]
  },
  {
   "cell_type": "markdown",
   "id": "62f45f14",
   "metadata": {},
   "source": [
    "input layers = 10<br>\n",
    "hidden layers = 100<br>\n",
    "output layers = 3 (label: 3)"
   ]
  },
  {
   "cell_type": "code",
   "execution_count": 7,
   "id": "1b916e7c",
   "metadata": {},
   "outputs": [],
   "source": [
    "model = tf.keras.Sequential([\n",
    "    tf.keras.layers.Dense(10, activation='relu'),\n",
    "    tf.keras.layers.Dense(100, activation='relu'),\n",
    "    tf.keras.layers.Dense(3, activation='softmax')\n",
    "])"
   ]
  },
  {
   "cell_type": "code",
   "execution_count": 8,
   "id": "5ccaad6d",
   "metadata": {},
   "outputs": [],
   "source": [
    "model.compile(optimizer='adam',\n",
    "              loss='categorical_crossentropy',\n",
    "              metrics=['accuracy'])"
   ]
  },
  {
   "cell_type": "code",
   "execution_count": 9,
   "id": "7cef6056",
   "metadata": {},
   "outputs": [
    {
     "name": "stdout",
     "output_type": "stream",
     "text": [
      "Epoch 1/120\n",
      "3/3 [==============================] - 0s 2ms/step - loss: 1.1756 - accuracy: 0.3827\n",
      "Epoch 2/120\n",
      "3/3 [==============================] - 0s 3ms/step - loss: 1.1143 - accuracy: 0.4123\n",
      "Epoch 3/120\n",
      "3/3 [==============================] - 0s 2ms/step - loss: 1.0668 - accuracy: 0.4043\n",
      "Epoch 4/120\n",
      "3/3 [==============================] - 0s 2ms/step - loss: 1.0354 - accuracy: 0.6411\n",
      "Epoch 5/120\n",
      "3/3 [==============================] - 0s 2ms/step - loss: 1.0080 - accuracy: 0.6776\n",
      "Epoch 6/120\n",
      "3/3 [==============================] - 0s 2ms/step - loss: 0.9855 - accuracy: 0.6801\n",
      "Epoch 7/120\n",
      "3/3 [==============================] - 0s 2ms/step - loss: 0.9587 - accuracy: 0.6926\n",
      "Epoch 8/120\n",
      "3/3 [==============================] - 0s 3ms/step - loss: 0.9378 - accuracy: 0.6976\n",
      "Epoch 9/120\n",
      "3/3 [==============================] - 0s 2ms/step - loss: 0.9220 - accuracy: 0.6776\n",
      "Epoch 10/120\n",
      "3/3 [==============================] - 0s 2ms/step - loss: 0.8763 - accuracy: 0.7151\n",
      "Epoch 11/120\n",
      "3/3 [==============================] - 0s 3ms/step - loss: 0.8522 - accuracy: 0.7001\n",
      "Epoch 12/120\n",
      "3/3 [==============================] - 0s 2ms/step - loss: 0.8127 - accuracy: 0.7151\n",
      "Epoch 13/120\n",
      "3/3 [==============================] - 0s 3ms/step - loss: 0.8064 - accuracy: 0.6801\n",
      "Epoch 14/120\n",
      "3/3 [==============================] - 0s 4ms/step - loss: 0.7653 - accuracy: 0.6951\n",
      "Epoch 15/120\n",
      "3/3 [==============================] - 0s 4ms/step - loss: 0.7296 - accuracy: 0.7176\n",
      "Epoch 16/120\n",
      "3/3 [==============================] - 0s 2ms/step - loss: 0.7173 - accuracy: 0.6876\n",
      "Epoch 17/120\n",
      "3/3 [==============================] - 0s 3ms/step - loss: 0.6838 - accuracy: 0.7051\n",
      "Epoch 18/120\n",
      "3/3 [==============================] - 0s 3ms/step - loss: 0.6573 - accuracy: 0.6951\n",
      "Epoch 19/120\n",
      "3/3 [==============================] - 0s 3ms/step - loss: 0.6362 - accuracy: 0.7001\n",
      "Epoch 20/120\n",
      "3/3 [==============================] - 0s 3ms/step - loss: 0.6249 - accuracy: 0.6876\n",
      "Epoch 21/120\n",
      "3/3 [==============================] - 0s 2ms/step - loss: 0.5959 - accuracy: 0.7001\n",
      "Epoch 22/120\n",
      "3/3 [==============================] - 0s 2ms/step - loss: 0.5670 - accuracy: 0.7149\n",
      "Epoch 23/120\n",
      "3/3 [==============================] - 0s 3ms/step - loss: 0.5491 - accuracy: 0.7246\n",
      "Epoch 24/120\n",
      "3/3 [==============================] - 0s 3ms/step - loss: 0.5314 - accuracy: 0.7930\n",
      "Epoch 25/120\n",
      "3/3 [==============================] - ETA: 0s - loss: 0.5014 - accuracy: 0.86 - 0s 3ms/step - loss: 0.5169 - accuracy: 0.8320\n",
      "Epoch 26/120\n",
      "3/3 [==============================] - 0s 3ms/step - loss: 0.5096 - accuracy: 0.8779\n",
      "Epoch 27/120\n",
      "3/3 [==============================] - 0s 3ms/step - loss: 0.5118 - accuracy: 0.8851\n",
      "Epoch 28/120\n",
      "3/3 [==============================] - 0s 3ms/step - loss: 0.4792 - accuracy: 0.9029\n",
      "Epoch 29/120\n",
      "3/3 [==============================] - 0s 4ms/step - loss: 0.4713 - accuracy: 0.8729\n",
      "Epoch 30/120\n",
      "3/3 [==============================] - 0s 2ms/step - loss: 0.4653 - accuracy: 0.8829\n",
      "Epoch 31/120\n",
      "3/3 [==============================] - 0s 2ms/step - loss: 0.4487 - accuracy: 0.8879\n",
      "Epoch 32/120\n",
      "3/3 [==============================] - 0s 4ms/step - loss: 0.4350 - accuracy: 0.8661\n",
      "Epoch 33/120\n",
      "3/3 [==============================] - 0s 3ms/step - loss: 0.4180 - accuracy: 0.7960\n",
      "Epoch 34/120\n",
      "3/3 [==============================] - 0s 2ms/step - loss: 0.4346 - accuracy: 0.7219\n",
      "Epoch 35/120\n",
      "3/3 [==============================] - 0s 3ms/step - loss: 0.4242 - accuracy: 0.7294\n",
      "Epoch 36/120\n",
      "3/3 [==============================] - 0s 3ms/step - loss: 0.4169 - accuracy: 0.7439\n",
      "Epoch 37/120\n",
      "3/3 [==============================] - 0s 4ms/step - loss: 0.4025 - accuracy: 0.7902\n",
      "Epoch 38/120\n",
      "3/3 [==============================] - 0s 3ms/step - loss: 0.4080 - accuracy: 0.8340\n",
      "Epoch 39/120\n",
      "3/3 [==============================] - 0s 3ms/step - loss: 0.3915 - accuracy: 0.8924\n",
      "Epoch 40/120\n",
      "3/3 [==============================] - 0s 3ms/step - loss: 0.3761 - accuracy: 0.9635\n",
      "Epoch 41/120\n",
      "3/3 [==============================] - 0s 3ms/step - loss: 0.3920 - accuracy: 0.9510\n",
      "Epoch 42/120\n",
      "3/3 [==============================] - 0s 3ms/step - loss: 0.3946 - accuracy: 0.9242\n",
      "Epoch 43/120\n",
      "3/3 [==============================] - 0s 3ms/step - loss: 0.3934 - accuracy: 0.9292\n",
      "Epoch 44/120\n",
      "3/3 [==============================] - 0s 3ms/step - loss: 0.3582 - accuracy: 0.9464\n",
      "Epoch 45/120\n",
      "3/3 [==============================] - 0s 3ms/step - loss: 0.3650 - accuracy: 0.9562\n",
      "Epoch 46/120\n",
      "3/3 [==============================] - 0s 3ms/step - loss: 0.3547 - accuracy: 0.9292\n",
      "Epoch 47/120\n",
      "3/3 [==============================] - 0s 3ms/step - loss: 0.3607 - accuracy: 0.9192\n",
      "Epoch 48/120\n",
      "3/3 [==============================] - 0s 3ms/step - loss: 0.3426 - accuracy: 0.9292\n",
      "Epoch 49/120\n",
      "3/3 [==============================] - 0s 4ms/step - loss: 0.3474 - accuracy: 0.9292\n",
      "Epoch 50/120\n",
      "3/3 [==============================] - 0s 3ms/step - loss: 0.3372 - accuracy: 0.9294\n",
      "Epoch 51/120\n",
      "3/3 [==============================] - 0s 3ms/step - loss: 0.3246 - accuracy: 0.9321\n",
      "Epoch 52/120\n",
      "3/3 [==============================] - 0s 3ms/step - loss: 0.3260 - accuracy: 0.9314\n",
      "Epoch 53/120\n",
      "3/3 [==============================] - 0s 3ms/step - loss: 0.3261 - accuracy: 0.9585\n",
      "Epoch 54/120\n",
      "3/3 [==============================] - 0s 3ms/step - loss: 0.3211 - accuracy: 0.9537\n",
      "Epoch 55/120\n",
      "3/3 [==============================] - 0s 2ms/step - loss: 0.3119 - accuracy: 0.9587\n",
      "Epoch 56/120\n",
      "3/3 [==============================] - 0s 3ms/step - loss: 0.3222 - accuracy: 0.9537\n",
      "Epoch 57/120\n",
      "3/3 [==============================] - 0s 3ms/step - loss: 0.2945 - accuracy: 0.9735\n",
      "Epoch 58/120\n",
      "3/3 [==============================] - 0s 3ms/step - loss: 0.3135 - accuracy: 0.9267\n",
      "Epoch 59/120\n",
      "3/3 [==============================] - 0s 3ms/step - loss: 0.2972 - accuracy: 0.9342\n",
      "Epoch 60/120\n",
      "3/3 [==============================] - 0s 3ms/step - loss: 0.2993 - accuracy: 0.9414\n",
      "Epoch 61/120\n",
      "3/3 [==============================] - 0s 3ms/step - loss: 0.3050 - accuracy: 0.9560\n",
      "Epoch 62/120\n",
      "3/3 [==============================] - 0s 2ms/step - loss: 0.3018 - accuracy: 0.9487\n",
      "Epoch 63/120\n",
      "3/3 [==============================] - 0s 3ms/step - loss: 0.2958 - accuracy: 0.9414\n",
      "Epoch 64/120\n",
      "3/3 [==============================] - 0s 2ms/step - loss: 0.2781 - accuracy: 0.9587\n",
      "Epoch 65/120\n",
      "3/3 [==============================] - 0s 3ms/step - loss: 0.2786 - accuracy: 0.9682\n",
      "Epoch 66/120\n",
      "3/3 [==============================] - 0s 3ms/step - loss: 0.2753 - accuracy: 0.9414\n",
      "Epoch 67/120\n",
      "3/3 [==============================] - 0s 2ms/step - loss: 0.2928 - accuracy: 0.9119\n",
      "Epoch 68/120\n",
      "3/3 [==============================] - 0s 3ms/step - loss: 0.2749 - accuracy: 0.8974\n",
      "Epoch 69/120\n",
      "3/3 [==============================] - 0s 3ms/step - loss: 0.2812 - accuracy: 0.9119\n",
      "Epoch 70/120\n",
      "3/3 [==============================] - 0s 3ms/step - loss: 0.2744 - accuracy: 0.9142\n",
      "Epoch 71/120\n",
      "3/3 [==============================] - 0s 3ms/step - loss: 0.2538 - accuracy: 0.9660\n",
      "Epoch 72/120\n",
      "3/3 [==============================] - 0s 3ms/step - loss: 0.2493 - accuracy: 0.9732\n",
      "Epoch 73/120\n",
      "3/3 [==============================] - 0s 2ms/step - loss: 0.2548 - accuracy: 0.9707\n",
      "Epoch 74/120\n",
      "3/3 [==============================] - 0s 3ms/step - loss: 0.2398 - accuracy: 0.9732\n",
      "Epoch 75/120\n",
      "3/3 [==============================] - 0s 3ms/step - loss: 0.2458 - accuracy: 0.9632\n",
      "Epoch 76/120\n",
      "3/3 [==============================] - 0s 2ms/step - loss: 0.2427 - accuracy: 0.9732\n",
      "Epoch 77/120\n",
      "3/3 [==============================] - 0s 3ms/step - loss: 0.2250 - accuracy: 0.9782\n",
      "Epoch 78/120\n",
      "3/3 [==============================] - 0s 2ms/step - loss: 0.2404 - accuracy: 0.9632\n",
      "Epoch 79/120\n",
      "3/3 [==============================] - 0s 2ms/step - loss: 0.2342 - accuracy: 0.9610\n",
      "Epoch 80/120\n",
      "3/3 [==============================] - 0s 3ms/step - loss: 0.2283 - accuracy: 0.9437\n",
      "Epoch 81/120\n",
      "3/3 [==============================] - 0s 2ms/step - loss: 0.2411 - accuracy: 0.9364\n",
      "Epoch 82/120\n",
      "3/3 [==============================] - 0s 2ms/step - loss: 0.2322 - accuracy: 0.9512\n",
      "Epoch 83/120\n",
      "3/3 [==============================] - 0s 3ms/step - loss: 0.2227 - accuracy: 0.9682\n",
      "Epoch 84/120\n"
     ]
    },
    {
     "name": "stdout",
     "output_type": "stream",
     "text": [
      "3/3 [==============================] - 0s 2ms/step - loss: 0.2248 - accuracy: 0.9682\n",
      "Epoch 85/120\n",
      "3/3 [==============================] - 0s 2ms/step - loss: 0.2223 - accuracy: 0.9487\n",
      "Epoch 86/120\n",
      "3/3 [==============================] - 0s 3ms/step - loss: 0.2109 - accuracy: 0.9662\n",
      "Epoch 87/120\n",
      "3/3 [==============================] - 0s 2ms/step - loss: 0.2063 - accuracy: 0.9660\n",
      "Epoch 88/120\n",
      "3/3 [==============================] - 0s 3ms/step - loss: 0.2207 - accuracy: 0.9364\n",
      "Epoch 89/120\n",
      "3/3 [==============================] - 0s 3ms/step - loss: 0.2220 - accuracy: 0.9342\n",
      "Epoch 90/120\n",
      "3/3 [==============================] - 0s 3ms/step - loss: 0.2084 - accuracy: 0.9317\n",
      "Epoch 91/120\n",
      "3/3 [==============================] - 0s 3ms/step - loss: 0.2074 - accuracy: 0.9632\n",
      "Epoch 92/120\n",
      "3/3 [==============================] - 0s 2ms/step - loss: 0.2077 - accuracy: 0.9537\n",
      "Epoch 93/120\n",
      "3/3 [==============================] - 0s 3ms/step - loss: 0.2193 - accuracy: 0.9242\n",
      "Epoch 94/120\n",
      "3/3 [==============================] - 0s 3ms/step - loss: 0.2265 - accuracy: 0.9292\n",
      "Epoch 95/120\n",
      "3/3 [==============================] - 0s 3ms/step - loss: 0.1976 - accuracy: 0.9537\n",
      "Epoch 96/120\n",
      "3/3 [==============================] - 0s 2ms/step - loss: 0.1962 - accuracy: 0.9757\n",
      "Epoch 97/120\n",
      "3/3 [==============================] - 0s 2ms/step - loss: 0.1924 - accuracy: 0.9414\n",
      "Epoch 98/120\n",
      "3/3 [==============================] - 0s 2ms/step - loss: 0.2011 - accuracy: 0.9317\n",
      "Epoch 99/120\n",
      "3/3 [==============================] - 0s 2ms/step - loss: 0.1953 - accuracy: 0.9682\n",
      "Epoch 100/120\n",
      "3/3 [==============================] - 0s 3ms/step - loss: 0.1907 - accuracy: 0.9562\n",
      "Epoch 101/120\n",
      "3/3 [==============================] - 0s 2ms/step - loss: 0.1844 - accuracy: 0.9587\n",
      "Epoch 102/120\n",
      "3/3 [==============================] - 0s 3ms/step - loss: 0.1903 - accuracy: 0.9587\n",
      "Epoch 103/120\n",
      "3/3 [==============================] - 0s 3ms/step - loss: 0.2072 - accuracy: 0.9387\n",
      "Epoch 104/120\n",
      "3/3 [==============================] - 0s 3ms/step - loss: 0.1900 - accuracy: 0.9560\n",
      "Epoch 105/120\n",
      "3/3 [==============================] - 0s 3ms/step - loss: 0.1878 - accuracy: 0.9682\n",
      "Epoch 106/120\n",
      "3/3 [==============================] - 0s 2ms/step - loss: 0.1857 - accuracy: 0.9560\n",
      "Epoch 107/120\n",
      "3/3 [==============================] - ETA: 0s - loss: 0.2049 - accuracy: 0.96 - 0s 2ms/step - loss: 0.1833 - accuracy: 0.9610\n",
      "Epoch 108/120\n",
      "3/3 [==============================] - 0s 3ms/step - loss: 0.1938 - accuracy: 0.9510\n",
      "Epoch 109/120\n",
      "3/3 [==============================] - 0s 2ms/step - loss: 0.1665 - accuracy: 0.9732\n",
      "Epoch 110/120\n",
      "3/3 [==============================] - 0s 3ms/step - loss: 0.1585 - accuracy: 0.9782\n",
      "Epoch 111/120\n",
      "3/3 [==============================] - 0s 3ms/step - loss: 0.1626 - accuracy: 0.9685\n",
      "Epoch 112/120\n",
      "3/3 [==============================] - 0s 3ms/step - loss: 0.1591 - accuracy: 0.9539\n",
      "Epoch 113/120\n",
      "3/3 [==============================] - 0s 2ms/step - loss: 0.1776 - accuracy: 0.9414\n",
      "Epoch 114/120\n",
      "3/3 [==============================] - 0s 3ms/step - loss: 0.1623 - accuracy: 0.9610\n",
      "Epoch 115/120\n",
      "3/3 [==============================] - 0s 3ms/step - loss: 0.1675 - accuracy: 0.9682\n",
      "Epoch 116/120\n",
      "3/3 [==============================] - 0s 3ms/step - loss: 0.1597 - accuracy: 0.9537\n",
      "Epoch 117/120\n",
      "3/3 [==============================] - 0s 3ms/step - loss: 0.1840 - accuracy: 0.9487\n",
      "Epoch 118/120\n",
      "3/3 [==============================] - ETA: 0s - loss: 0.2191 - accuracy: 0.94 - 0s 3ms/step - loss: 0.1833 - accuracy: 0.9487\n",
      "Epoch 119/120\n",
      "3/3 [==============================] - 0s 2ms/step - loss: 0.1513 - accuracy: 0.9662\n",
      "Epoch 120/120\n",
      "3/3 [==============================] - 0s 3ms/step - loss: 0.1585 - accuracy: 0.9610\n"
     ]
    },
    {
     "data": {
      "text/plain": [
       "<tensorflow.python.keras.callbacks.History at 0x21ef2053b48>"
      ]
     },
     "execution_count": 9,
     "metadata": {},
     "output_type": "execute_result"
    }
   ],
   "source": [
    "model.fit(X_train, y_train, batch_size=50, epochs=120)"
   ]
  },
  {
   "cell_type": "code",
   "execution_count": 10,
   "id": "8b309a62",
   "metadata": {},
   "outputs": [
    {
     "name": "stdout",
     "output_type": "stream",
     "text": [
      "Model: \"sequential\"\n",
      "_________________________________________________________________\n",
      "Layer (type)                 Output Shape              Param #   \n",
      "=================================================================\n",
      "dense (Dense)                (None, 10)                50        \n",
      "_________________________________________________________________\n",
      "dense_1 (Dense)              (None, 100)               1100      \n",
      "_________________________________________________________________\n",
      "dense_2 (Dense)              (None, 3)                 303       \n",
      "=================================================================\n",
      "Total params: 1,453\n",
      "Trainable params: 1,453\n",
      "Non-trainable params: 0\n",
      "_________________________________________________________________\n"
     ]
    }
   ],
   "source": [
    "model.summary()"
   ]
  },
  {
   "cell_type": "code",
   "execution_count": 11,
   "id": "cd0b28db",
   "metadata": {},
   "outputs": [
    {
     "name": "stdout",
     "output_type": "stream",
     "text": [
      "Test loss: 0.1513538509607315\n",
      "Test accuracy: 1.0\n"
     ]
    }
   ],
   "source": [
    "loss, accuracy = model.evaluate(X_test, y_test, verbose=0)\n",
    "print('Test loss:', loss)\n",
    "print('Test accuracy:', accuracy)"
   ]
  },
  {
   "cell_type": "code",
   "execution_count": 12,
   "id": "ec9a5c52",
   "metadata": {},
   "outputs": [
    {
     "data": {
      "text/plain": [
       "array([[1., 0., 0.],\n",
       "       [0., 1., 0.],\n",
       "       [0., 1., 0.],\n",
       "       [1., 0., 0.],\n",
       "       [0., 0., 1.],\n",
       "       [0., 1., 0.],\n",
       "       [0., 0., 1.],\n",
       "       [1., 0., 0.],\n",
       "       [1., 0., 0.],\n",
       "       [0., 0., 1.],\n",
       "       [0., 1., 0.],\n",
       "       [1., 0., 0.],\n",
       "       [0., 0., 1.],\n",
       "       [0., 1., 0.],\n",
       "       [0., 1., 0.],\n",
       "       [1., 0., 0.],\n",
       "       [0., 1., 0.],\n",
       "       [0., 1., 0.],\n",
       "       [1., 0., 0.],\n",
       "       [1., 0., 0.],\n",
       "       [0., 1., 0.],\n",
       "       [0., 1., 0.],\n",
       "       [0., 1., 0.],\n",
       "       [1., 0., 0.],\n",
       "       [0., 0., 1.],\n",
       "       [0., 1., 0.],\n",
       "       [1., 0., 0.],\n",
       "       [1., 0., 0.],\n",
       "       [0., 1., 0.],\n",
       "       [0., 0., 1.],\n",
       "       [0., 1., 0.],\n",
       "       [0., 0., 1.],\n",
       "       [0., 1., 0.],\n",
       "       [0., 0., 1.],\n",
       "       [0., 0., 1.],\n",
       "       [1., 0., 0.],\n",
       "       [0., 1., 0.],\n",
       "       [1., 0., 0.],\n",
       "       [0., 1., 0.],\n",
       "       [0., 0., 1.],\n",
       "       [0., 0., 1.],\n",
       "       [1., 0., 0.],\n",
       "       [0., 0., 1.],\n",
       "       [0., 0., 1.],\n",
       "       [0., 1., 0.]], dtype=float32)"
      ]
     },
     "execution_count": 12,
     "metadata": {},
     "output_type": "execute_result"
    }
   ],
   "source": [
    "y_pred = model.predict(X_test)\n",
    "y_pred = np.round(y_pred)\n",
    "y_pred"
   ]
  },
  {
   "cell_type": "code",
   "execution_count": 13,
   "id": "ec0ad39b",
   "metadata": {},
   "outputs": [
    {
     "data": {
      "text/plain": [
       "1.0"
      ]
     },
     "execution_count": 13,
     "metadata": {},
     "output_type": "execute_result"
    }
   ],
   "source": [
    "from sklearn.metrics import accuracy_score\n",
    "pred_accuracy = accuracy_score(y_pred, y_test)\n",
    "pred_accuracy"
   ]
  },
  {
   "cell_type": "code",
   "execution_count": 14,
   "id": "eb5c4588",
   "metadata": {},
   "outputs": [
    {
     "name": "stdout",
     "output_type": "stream",
     "text": [
      "Actual: [0 1 1 0 2 1 2 0 0 2 1 0 2 1 1 0 1 1 0 0 1 1 1 0 2 1 0 0 1 2 1 2 1 2 2 0 1\n",
      " 0 1 2 2 0 2 2 1]\n",
      "Predicted: [0 1 1 0 2 1 2 0 0 2 1 0 2 1 1 0 1 1 0 0 1 1 1 0 2 1 0 0 1 2 1 2 1 2 2 0 1\n",
      " 0 1 2 2 0 2 2 1]\n"
     ]
    }
   ],
   "source": [
    "actual = np.argmax(y_test,axis=1)\n",
    "predicted = np.argmax(y_pred,axis=1)\n",
    "print(\"Actual: {}\".format(actual))\n",
    "print(\"Predicted: {}\".format(predicted))"
   ]
  },
  {
   "cell_type": "code",
   "execution_count": null,
   "id": "1548dd4d",
   "metadata": {},
   "outputs": [],
   "source": []
  }
 ],
 "metadata": {
  "kernelspec": {
   "display_name": "Python 3",
   "language": "python",
   "name": "python3"
  },
  "language_info": {
   "codemirror_mode": {
    "name": "ipython",
    "version": 3
   },
   "file_extension": ".py",
   "mimetype": "text/x-python",
   "name": "python",
   "nbconvert_exporter": "python",
   "pygments_lexer": "ipython3",
   "version": "3.7.8"
  }
 },
 "nbformat": 4,
 "nbformat_minor": 5
}
