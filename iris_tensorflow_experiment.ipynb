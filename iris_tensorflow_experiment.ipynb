{
 "cells": [
  {
   "cell_type": "markdown",
   "id": "11140017",
   "metadata": {},
   "source": [
    "# Iris Tensorflow experiment"
   ]
  },
  {
   "cell_type": "markdown",
   "id": "f98dce7c",
   "metadata": {},
   "source": [
    "Experimenting the famous iris dataset using Tensorflow neural networks"
   ]
  },
  {
   "cell_type": "code",
   "execution_count": 1,
   "id": "f0f9bc57",
   "metadata": {},
   "outputs": [],
   "source": [
    "import numpy as np\n",
    "import matplotlib.pyplot as plt\n",
    "import tensorflow as tf\n",
    "from sklearn.datasets import load_iris"
   ]
  },
  {
   "cell_type": "code",
   "execution_count": 2,
   "id": "ba32d51c",
   "metadata": {},
   "outputs": [],
   "source": [
    "data = load_iris()"
   ]
  },
  {
   "cell_type": "code",
   "execution_count": 3,
   "id": "2638b8d4",
   "metadata": {},
   "outputs": [],
   "source": [
    "X = data.data\n",
    "y = data.target"
   ]
  },
  {
   "cell_type": "code",
   "execution_count": 4,
   "id": "36db62e0-1037-4dde-8a89-7609edbc3dd5",
   "metadata": {
    "scrolled": true,
    "tags": []
   },
   "outputs": [
    {
     "data": {
      "text/plain": [
       "array([[5.1, 3.5, 1.4, 0.2],\n",
       "       [4.9, 3. , 1.4, 0.2],\n",
       "       [4.7, 3.2, 1.3, 0.2],\n",
       "       [4.6, 3.1, 1.5, 0.2],\n",
       "       [5. , 3.6, 1.4, 0.2],\n",
       "       [5.4, 3.9, 1.7, 0.4],\n",
       "       [4.6, 3.4, 1.4, 0.3],\n",
       "       [5. , 3.4, 1.5, 0.2],\n",
       "       [4.4, 2.9, 1.4, 0.2],\n",
       "       [4.9, 3.1, 1.5, 0.1],\n",
       "       [5.4, 3.7, 1.5, 0.2],\n",
       "       [4.8, 3.4, 1.6, 0.2],\n",
       "       [4.8, 3. , 1.4, 0.1],\n",
       "       [4.3, 3. , 1.1, 0.1],\n",
       "       [5.8, 4. , 1.2, 0.2],\n",
       "       [5.7, 4.4, 1.5, 0.4],\n",
       "       [5.4, 3.9, 1.3, 0.4],\n",
       "       [5.1, 3.5, 1.4, 0.3],\n",
       "       [5.7, 3.8, 1.7, 0.3],\n",
       "       [5.1, 3.8, 1.5, 0.3],\n",
       "       [5.4, 3.4, 1.7, 0.2],\n",
       "       [5.1, 3.7, 1.5, 0.4],\n",
       "       [4.6, 3.6, 1. , 0.2],\n",
       "       [5.1, 3.3, 1.7, 0.5],\n",
       "       [4.8, 3.4, 1.9, 0.2],\n",
       "       [5. , 3. , 1.6, 0.2],\n",
       "       [5. , 3.4, 1.6, 0.4],\n",
       "       [5.2, 3.5, 1.5, 0.2],\n",
       "       [5.2, 3.4, 1.4, 0.2],\n",
       "       [4.7, 3.2, 1.6, 0.2],\n",
       "       [4.8, 3.1, 1.6, 0.2],\n",
       "       [5.4, 3.4, 1.5, 0.4],\n",
       "       [5.2, 4.1, 1.5, 0.1],\n",
       "       [5.5, 4.2, 1.4, 0.2],\n",
       "       [4.9, 3.1, 1.5, 0.2],\n",
       "       [5. , 3.2, 1.2, 0.2],\n",
       "       [5.5, 3.5, 1.3, 0.2],\n",
       "       [4.9, 3.6, 1.4, 0.1],\n",
       "       [4.4, 3. , 1.3, 0.2],\n",
       "       [5.1, 3.4, 1.5, 0.2],\n",
       "       [5. , 3.5, 1.3, 0.3],\n",
       "       [4.5, 2.3, 1.3, 0.3],\n",
       "       [4.4, 3.2, 1.3, 0.2],\n",
       "       [5. , 3.5, 1.6, 0.6],\n",
       "       [5.1, 3.8, 1.9, 0.4],\n",
       "       [4.8, 3. , 1.4, 0.3],\n",
       "       [5.1, 3.8, 1.6, 0.2],\n",
       "       [4.6, 3.2, 1.4, 0.2],\n",
       "       [5.3, 3.7, 1.5, 0.2],\n",
       "       [5. , 3.3, 1.4, 0.2],\n",
       "       [7. , 3.2, 4.7, 1.4],\n",
       "       [6.4, 3.2, 4.5, 1.5],\n",
       "       [6.9, 3.1, 4.9, 1.5],\n",
       "       [5.5, 2.3, 4. , 1.3],\n",
       "       [6.5, 2.8, 4.6, 1.5],\n",
       "       [5.7, 2.8, 4.5, 1.3],\n",
       "       [6.3, 3.3, 4.7, 1.6],\n",
       "       [4.9, 2.4, 3.3, 1. ],\n",
       "       [6.6, 2.9, 4.6, 1.3],\n",
       "       [5.2, 2.7, 3.9, 1.4],\n",
       "       [5. , 2. , 3.5, 1. ],\n",
       "       [5.9, 3. , 4.2, 1.5],\n",
       "       [6. , 2.2, 4. , 1. ],\n",
       "       [6.1, 2.9, 4.7, 1.4],\n",
       "       [5.6, 2.9, 3.6, 1.3],\n",
       "       [6.7, 3.1, 4.4, 1.4],\n",
       "       [5.6, 3. , 4.5, 1.5],\n",
       "       [5.8, 2.7, 4.1, 1. ],\n",
       "       [6.2, 2.2, 4.5, 1.5],\n",
       "       [5.6, 2.5, 3.9, 1.1],\n",
       "       [5.9, 3.2, 4.8, 1.8],\n",
       "       [6.1, 2.8, 4. , 1.3],\n",
       "       [6.3, 2.5, 4.9, 1.5],\n",
       "       [6.1, 2.8, 4.7, 1.2],\n",
       "       [6.4, 2.9, 4.3, 1.3],\n",
       "       [6.6, 3. , 4.4, 1.4],\n",
       "       [6.8, 2.8, 4.8, 1.4],\n",
       "       [6.7, 3. , 5. , 1.7],\n",
       "       [6. , 2.9, 4.5, 1.5],\n",
       "       [5.7, 2.6, 3.5, 1. ],\n",
       "       [5.5, 2.4, 3.8, 1.1],\n",
       "       [5.5, 2.4, 3.7, 1. ],\n",
       "       [5.8, 2.7, 3.9, 1.2],\n",
       "       [6. , 2.7, 5.1, 1.6],\n",
       "       [5.4, 3. , 4.5, 1.5],\n",
       "       [6. , 3.4, 4.5, 1.6],\n",
       "       [6.7, 3.1, 4.7, 1.5],\n",
       "       [6.3, 2.3, 4.4, 1.3],\n",
       "       [5.6, 3. , 4.1, 1.3],\n",
       "       [5.5, 2.5, 4. , 1.3],\n",
       "       [5.5, 2.6, 4.4, 1.2],\n",
       "       [6.1, 3. , 4.6, 1.4],\n",
       "       [5.8, 2.6, 4. , 1.2],\n",
       "       [5. , 2.3, 3.3, 1. ],\n",
       "       [5.6, 2.7, 4.2, 1.3],\n",
       "       [5.7, 3. , 4.2, 1.2],\n",
       "       [5.7, 2.9, 4.2, 1.3],\n",
       "       [6.2, 2.9, 4.3, 1.3],\n",
       "       [5.1, 2.5, 3. , 1.1],\n",
       "       [5.7, 2.8, 4.1, 1.3],\n",
       "       [6.3, 3.3, 6. , 2.5],\n",
       "       [5.8, 2.7, 5.1, 1.9],\n",
       "       [7.1, 3. , 5.9, 2.1],\n",
       "       [6.3, 2.9, 5.6, 1.8],\n",
       "       [6.5, 3. , 5.8, 2.2],\n",
       "       [7.6, 3. , 6.6, 2.1],\n",
       "       [4.9, 2.5, 4.5, 1.7],\n",
       "       [7.3, 2.9, 6.3, 1.8],\n",
       "       [6.7, 2.5, 5.8, 1.8],\n",
       "       [7.2, 3.6, 6.1, 2.5],\n",
       "       [6.5, 3.2, 5.1, 2. ],\n",
       "       [6.4, 2.7, 5.3, 1.9],\n",
       "       [6.8, 3. , 5.5, 2.1],\n",
       "       [5.7, 2.5, 5. , 2. ],\n",
       "       [5.8, 2.8, 5.1, 2.4],\n",
       "       [6.4, 3.2, 5.3, 2.3],\n",
       "       [6.5, 3. , 5.5, 1.8],\n",
       "       [7.7, 3.8, 6.7, 2.2],\n",
       "       [7.7, 2.6, 6.9, 2.3],\n",
       "       [6. , 2.2, 5. , 1.5],\n",
       "       [6.9, 3.2, 5.7, 2.3],\n",
       "       [5.6, 2.8, 4.9, 2. ],\n",
       "       [7.7, 2.8, 6.7, 2. ],\n",
       "       [6.3, 2.7, 4.9, 1.8],\n",
       "       [6.7, 3.3, 5.7, 2.1],\n",
       "       [7.2, 3.2, 6. , 1.8],\n",
       "       [6.2, 2.8, 4.8, 1.8],\n",
       "       [6.1, 3. , 4.9, 1.8],\n",
       "       [6.4, 2.8, 5.6, 2.1],\n",
       "       [7.2, 3. , 5.8, 1.6],\n",
       "       [7.4, 2.8, 6.1, 1.9],\n",
       "       [7.9, 3.8, 6.4, 2. ],\n",
       "       [6.4, 2.8, 5.6, 2.2],\n",
       "       [6.3, 2.8, 5.1, 1.5],\n",
       "       [6.1, 2.6, 5.6, 1.4],\n",
       "       [7.7, 3. , 6.1, 2.3],\n",
       "       [6.3, 3.4, 5.6, 2.4],\n",
       "       [6.4, 3.1, 5.5, 1.8],\n",
       "       [6. , 3. , 4.8, 1.8],\n",
       "       [6.9, 3.1, 5.4, 2.1],\n",
       "       [6.7, 3.1, 5.6, 2.4],\n",
       "       [6.9, 3.1, 5.1, 2.3],\n",
       "       [5.8, 2.7, 5.1, 1.9],\n",
       "       [6.8, 3.2, 5.9, 2.3],\n",
       "       [6.7, 3.3, 5.7, 2.5],\n",
       "       [6.7, 3. , 5.2, 2.3],\n",
       "       [6.3, 2.5, 5. , 1.9],\n",
       "       [6.5, 3. , 5.2, 2. ],\n",
       "       [6.2, 3.4, 5.4, 2.3],\n",
       "       [5.9, 3. , 5.1, 1.8]])"
      ]
     },
     "execution_count": 4,
     "metadata": {},
     "output_type": "execute_result"
    }
   ],
   "source": [
    "X"
   ]
  },
  {
   "cell_type": "code",
   "execution_count": 5,
   "id": "cb0b2207",
   "metadata": {},
   "outputs": [
    {
     "data": {
      "text/plain": [
       "array([0, 0, 0, 0, 0, 0, 0, 0, 0, 0, 0, 0, 0, 0, 0, 0, 0, 0, 0, 0, 0, 0,\n",
       "       0, 0, 0, 0, 0, 0, 0, 0, 0, 0, 0, 0, 0, 0, 0, 0, 0, 0, 0, 0, 0, 0,\n",
       "       0, 0, 0, 0, 0, 0, 1, 1, 1, 1, 1, 1, 1, 1, 1, 1, 1, 1, 1, 1, 1, 1,\n",
       "       1, 1, 1, 1, 1, 1, 1, 1, 1, 1, 1, 1, 1, 1, 1, 1, 1, 1, 1, 1, 1, 1,\n",
       "       1, 1, 1, 1, 1, 1, 1, 1, 1, 1, 1, 1, 2, 2, 2, 2, 2, 2, 2, 2, 2, 2,\n",
       "       2, 2, 2, 2, 2, 2, 2, 2, 2, 2, 2, 2, 2, 2, 2, 2, 2, 2, 2, 2, 2, 2,\n",
       "       2, 2, 2, 2, 2, 2, 2, 2, 2, 2, 2, 2, 2, 2, 2, 2, 2, 2])"
      ]
     },
     "execution_count": 5,
     "metadata": {},
     "output_type": "execute_result"
    }
   ],
   "source": [
    "y"
   ]
  },
  {
   "cell_type": "markdown",
   "id": "3ad83367",
   "metadata": {},
   "source": [
    "## Data Preprocessing"
   ]
  },
  {
   "cell_type": "markdown",
   "id": "3a690304",
   "metadata": {},
   "source": [
    "Using One-Hot-Encoder (for categorical_crossentropy loss)<br>\n",
    "and sklearn test train split"
   ]
  },
  {
   "cell_type": "code",
   "execution_count": 6,
   "id": "059c02e8",
   "metadata": {},
   "outputs": [],
   "source": [
    "from sklearn.preprocessing import OneHotEncoder\n",
    "enc = OneHotEncoder(sparse=False)\n",
    "y = enc.fit_transform(y.reshape(-1, 1))"
   ]
  },
  {
   "cell_type": "code",
   "execution_count": 7,
   "id": "37c98490-3951-4bb3-b100-0aa7402471cd",
   "metadata": {
    "scrolled": true,
    "tags": []
   },
   "outputs": [
    {
     "data": {
      "text/plain": [
       "array([[1., 0., 0.],\n",
       "       [1., 0., 0.],\n",
       "       [1., 0., 0.],\n",
       "       [1., 0., 0.],\n",
       "       [1., 0., 0.],\n",
       "       [1., 0., 0.],\n",
       "       [1., 0., 0.],\n",
       "       [1., 0., 0.],\n",
       "       [1., 0., 0.],\n",
       "       [1., 0., 0.],\n",
       "       [1., 0., 0.],\n",
       "       [1., 0., 0.],\n",
       "       [1., 0., 0.],\n",
       "       [1., 0., 0.],\n",
       "       [1., 0., 0.],\n",
       "       [1., 0., 0.],\n",
       "       [1., 0., 0.],\n",
       "       [1., 0., 0.],\n",
       "       [1., 0., 0.],\n",
       "       [1., 0., 0.],\n",
       "       [1., 0., 0.],\n",
       "       [1., 0., 0.],\n",
       "       [1., 0., 0.],\n",
       "       [1., 0., 0.],\n",
       "       [1., 0., 0.],\n",
       "       [1., 0., 0.],\n",
       "       [1., 0., 0.],\n",
       "       [1., 0., 0.],\n",
       "       [1., 0., 0.],\n",
       "       [1., 0., 0.],\n",
       "       [1., 0., 0.],\n",
       "       [1., 0., 0.],\n",
       "       [1., 0., 0.],\n",
       "       [1., 0., 0.],\n",
       "       [1., 0., 0.],\n",
       "       [1., 0., 0.],\n",
       "       [1., 0., 0.],\n",
       "       [1., 0., 0.],\n",
       "       [1., 0., 0.],\n",
       "       [1., 0., 0.],\n",
       "       [1., 0., 0.],\n",
       "       [1., 0., 0.],\n",
       "       [1., 0., 0.],\n",
       "       [1., 0., 0.],\n",
       "       [1., 0., 0.],\n",
       "       [1., 0., 0.],\n",
       "       [1., 0., 0.],\n",
       "       [1., 0., 0.],\n",
       "       [1., 0., 0.],\n",
       "       [1., 0., 0.],\n",
       "       [0., 1., 0.],\n",
       "       [0., 1., 0.],\n",
       "       [0., 1., 0.],\n",
       "       [0., 1., 0.],\n",
       "       [0., 1., 0.],\n",
       "       [0., 1., 0.],\n",
       "       [0., 1., 0.],\n",
       "       [0., 1., 0.],\n",
       "       [0., 1., 0.],\n",
       "       [0., 1., 0.],\n",
       "       [0., 1., 0.],\n",
       "       [0., 1., 0.],\n",
       "       [0., 1., 0.],\n",
       "       [0., 1., 0.],\n",
       "       [0., 1., 0.],\n",
       "       [0., 1., 0.],\n",
       "       [0., 1., 0.],\n",
       "       [0., 1., 0.],\n",
       "       [0., 1., 0.],\n",
       "       [0., 1., 0.],\n",
       "       [0., 1., 0.],\n",
       "       [0., 1., 0.],\n",
       "       [0., 1., 0.],\n",
       "       [0., 1., 0.],\n",
       "       [0., 1., 0.],\n",
       "       [0., 1., 0.],\n",
       "       [0., 1., 0.],\n",
       "       [0., 1., 0.],\n",
       "       [0., 1., 0.],\n",
       "       [0., 1., 0.],\n",
       "       [0., 1., 0.],\n",
       "       [0., 1., 0.],\n",
       "       [0., 1., 0.],\n",
       "       [0., 1., 0.],\n",
       "       [0., 1., 0.],\n",
       "       [0., 1., 0.],\n",
       "       [0., 1., 0.],\n",
       "       [0., 1., 0.],\n",
       "       [0., 1., 0.],\n",
       "       [0., 1., 0.],\n",
       "       [0., 1., 0.],\n",
       "       [0., 1., 0.],\n",
       "       [0., 1., 0.],\n",
       "       [0., 1., 0.],\n",
       "       [0., 1., 0.],\n",
       "       [0., 1., 0.],\n",
       "       [0., 1., 0.],\n",
       "       [0., 1., 0.],\n",
       "       [0., 1., 0.],\n",
       "       [0., 1., 0.],\n",
       "       [0., 0., 1.],\n",
       "       [0., 0., 1.],\n",
       "       [0., 0., 1.],\n",
       "       [0., 0., 1.],\n",
       "       [0., 0., 1.],\n",
       "       [0., 0., 1.],\n",
       "       [0., 0., 1.],\n",
       "       [0., 0., 1.],\n",
       "       [0., 0., 1.],\n",
       "       [0., 0., 1.],\n",
       "       [0., 0., 1.],\n",
       "       [0., 0., 1.],\n",
       "       [0., 0., 1.],\n",
       "       [0., 0., 1.],\n",
       "       [0., 0., 1.],\n",
       "       [0., 0., 1.],\n",
       "       [0., 0., 1.],\n",
       "       [0., 0., 1.],\n",
       "       [0., 0., 1.],\n",
       "       [0., 0., 1.],\n",
       "       [0., 0., 1.],\n",
       "       [0., 0., 1.],\n",
       "       [0., 0., 1.],\n",
       "       [0., 0., 1.],\n",
       "       [0., 0., 1.],\n",
       "       [0., 0., 1.],\n",
       "       [0., 0., 1.],\n",
       "       [0., 0., 1.],\n",
       "       [0., 0., 1.],\n",
       "       [0., 0., 1.],\n",
       "       [0., 0., 1.],\n",
       "       [0., 0., 1.],\n",
       "       [0., 0., 1.],\n",
       "       [0., 0., 1.],\n",
       "       [0., 0., 1.],\n",
       "       [0., 0., 1.],\n",
       "       [0., 0., 1.],\n",
       "       [0., 0., 1.],\n",
       "       [0., 0., 1.],\n",
       "       [0., 0., 1.],\n",
       "       [0., 0., 1.],\n",
       "       [0., 0., 1.],\n",
       "       [0., 0., 1.],\n",
       "       [0., 0., 1.],\n",
       "       [0., 0., 1.],\n",
       "       [0., 0., 1.],\n",
       "       [0., 0., 1.],\n",
       "       [0., 0., 1.],\n",
       "       [0., 0., 1.],\n",
       "       [0., 0., 1.]])"
      ]
     },
     "execution_count": 7,
     "metadata": {},
     "output_type": "execute_result"
    }
   ],
   "source": [
    "y"
   ]
  },
  {
   "cell_type": "code",
   "execution_count": 8,
   "id": "976c8514",
   "metadata": {},
   "outputs": [],
   "source": [
    "from sklearn.model_selection import train_test_split\n",
    "X_train, X_test, y_train, y_test = train_test_split(X, y, train_size=0.7, random_state=1)"
   ]
  },
  {
   "cell_type": "markdown",
   "id": "eaade644",
   "metadata": {
    "tags": []
   },
   "source": [
    "## Tensorflow Dense layers (Deep Neural Network layers)"
   ]
  },
  {
   "cell_type": "markdown",
   "id": "62f45f14",
   "metadata": {},
   "source": [
    "input layers = 10<br>\n",
    "hidden layers = 100<br>\n",
    "output layers = 3 (label: 3)"
   ]
  },
  {
   "cell_type": "code",
   "execution_count": 9,
   "id": "1b916e7c",
   "metadata": {},
   "outputs": [],
   "source": [
    "model = tf.keras.Sequential([\n",
    "    tf.keras.layers.Dense(10, activation='relu'),\n",
    "    tf.keras.layers.Dense(100, activation='relu'),\n",
    "    tf.keras.layers.Dense(3, activation='softmax')\n",
    "])"
   ]
  },
  {
   "cell_type": "code",
   "execution_count": 10,
   "id": "5ccaad6d",
   "metadata": {},
   "outputs": [],
   "source": [
    "model.compile(optimizer='adam',\n",
    "              loss='categorical_crossentropy',\n",
    "              metrics=['accuracy'])"
   ]
  },
  {
   "cell_type": "code",
   "execution_count": 11,
   "id": "7cef6056",
   "metadata": {
    "tags": []
   },
   "outputs": [
    {
     "name": "stdout",
     "output_type": "stream",
     "text": [
      "Epoch 1/120\n",
      "3/3 [==============================] - 1s 103ms/step - loss: 1.1095 - accuracy: 0.2603 - val_loss: 1.0434 - val_accuracy: 0.4688\n",
      "Epoch 2/120\n",
      "3/3 [==============================] - 0s 21ms/step - loss: 1.0445 - accuracy: 0.3836 - val_loss: 1.0240 - val_accuracy: 0.2812\n",
      "Epoch 3/120\n",
      "3/3 [==============================] - 0s 23ms/step - loss: 0.9875 - accuracy: 0.3836 - val_loss: 1.0075 - val_accuracy: 0.3750\n",
      "Epoch 4/120\n",
      "3/3 [==============================] - 0s 22ms/step - loss: 0.9450 - accuracy: 0.5753 - val_loss: 0.9906 - val_accuracy: 0.5938\n",
      "Epoch 5/120\n",
      "3/3 [==============================] - 0s 24ms/step - loss: 0.9055 - accuracy: 0.7397 - val_loss: 0.9681 - val_accuracy: 0.5938\n",
      "Epoch 6/120\n",
      "3/3 [==============================] - 0s 20ms/step - loss: 0.8713 - accuracy: 0.7397 - val_loss: 0.9434 - val_accuracy: 0.5938\n",
      "Epoch 7/120\n",
      "3/3 [==============================] - 0s 20ms/step - loss: 0.8373 - accuracy: 0.7397 - val_loss: 0.9179 - val_accuracy: 0.5938\n",
      "Epoch 8/120\n",
      "3/3 [==============================] - 0s 19ms/step - loss: 0.8064 - accuracy: 0.7397 - val_loss: 0.8900 - val_accuracy: 0.5938\n",
      "Epoch 9/120\n",
      "3/3 [==============================] - 0s 18ms/step - loss: 0.7724 - accuracy: 0.7397 - val_loss: 0.8625 - val_accuracy: 0.5938\n",
      "Epoch 10/120\n",
      "3/3 [==============================] - 0s 20ms/step - loss: 0.7390 - accuracy: 0.7397 - val_loss: 0.8309 - val_accuracy: 0.5938\n",
      "Epoch 11/120\n",
      "3/3 [==============================] - 0s 20ms/step - loss: 0.7063 - accuracy: 0.7397 - val_loss: 0.7962 - val_accuracy: 0.5938\n",
      "Epoch 12/120\n",
      "3/3 [==============================] - 0s 21ms/step - loss: 0.6737 - accuracy: 0.7397 - val_loss: 0.7634 - val_accuracy: 0.5938\n",
      "Epoch 13/120\n",
      "3/3 [==============================] - 0s 21ms/step - loss: 0.6414 - accuracy: 0.7397 - val_loss: 0.7348 - val_accuracy: 0.5938\n",
      "Epoch 14/120\n",
      "3/3 [==============================] - 0s 21ms/step - loss: 0.6123 - accuracy: 0.7397 - val_loss: 0.7100 - val_accuracy: 0.5938\n",
      "Epoch 15/120\n",
      "3/3 [==============================] - 0s 20ms/step - loss: 0.5841 - accuracy: 0.7397 - val_loss: 0.6840 - val_accuracy: 0.5938\n",
      "Epoch 16/120\n",
      "3/3 [==============================] - 0s 22ms/step - loss: 0.5586 - accuracy: 0.7397 - val_loss: 0.6574 - val_accuracy: 0.6875\n",
      "Epoch 17/120\n",
      "3/3 [==============================] - 0s 21ms/step - loss: 0.5330 - accuracy: 0.7808 - val_loss: 0.6312 - val_accuracy: 0.7500\n",
      "Epoch 18/120\n",
      "3/3 [==============================] - 0s 21ms/step - loss: 0.5076 - accuracy: 0.8630 - val_loss: 0.6015 - val_accuracy: 0.7500\n",
      "Epoch 19/120\n",
      "3/3 [==============================] - 0s 21ms/step - loss: 0.4848 - accuracy: 0.8767 - val_loss: 0.5746 - val_accuracy: 0.8438\n",
      "Epoch 20/120\n",
      "3/3 [==============================] - 0s 22ms/step - loss: 0.4644 - accuracy: 0.9041 - val_loss: 0.5474 - val_accuracy: 0.9062\n",
      "Epoch 21/120\n",
      "3/3 [==============================] - 0s 21ms/step - loss: 0.4439 - accuracy: 0.9178 - val_loss: 0.5244 - val_accuracy: 0.9062\n",
      "Epoch 22/120\n",
      "3/3 [==============================] - 0s 21ms/step - loss: 0.4260 - accuracy: 0.9315 - val_loss: 0.5032 - val_accuracy: 0.9062\n",
      "Epoch 23/120\n",
      "3/3 [==============================] - 0s 22ms/step - loss: 0.4077 - accuracy: 0.9315 - val_loss: 0.4846 - val_accuracy: 0.9062\n",
      "Epoch 24/120\n",
      "3/3 [==============================] - 0s 21ms/step - loss: 0.3917 - accuracy: 0.9315 - val_loss: 0.4667 - val_accuracy: 0.9062\n",
      "Epoch 25/120\n",
      "3/3 [==============================] - 0s 21ms/step - loss: 0.3775 - accuracy: 0.9452 - val_loss: 0.4500 - val_accuracy: 0.9062\n",
      "Epoch 26/120\n",
      "3/3 [==============================] - 0s 20ms/step - loss: 0.3664 - accuracy: 0.9315 - val_loss: 0.4410 - val_accuracy: 0.9062\n",
      "Epoch 27/120\n",
      "3/3 [==============================] - 0s 21ms/step - loss: 0.3502 - accuracy: 0.9315 - val_loss: 0.4227 - val_accuracy: 0.9062\n",
      "Epoch 28/120\n",
      "3/3 [==============================] - 0s 21ms/step - loss: 0.3374 - accuracy: 0.9452 - val_loss: 0.4034 - val_accuracy: 0.9062\n",
      "Epoch 29/120\n",
      "3/3 [==============================] - 0s 21ms/step - loss: 0.3256 - accuracy: 0.9589 - val_loss: 0.3879 - val_accuracy: 0.9375\n",
      "Epoch 30/120\n",
      "3/3 [==============================] - 0s 21ms/step - loss: 0.3148 - accuracy: 0.9589 - val_loss: 0.3758 - val_accuracy: 0.9375\n",
      "Epoch 31/120\n",
      "3/3 [==============================] - 0s 20ms/step - loss: 0.3045 - accuracy: 0.9726 - val_loss: 0.3639 - val_accuracy: 0.9375\n",
      "Epoch 32/120\n",
      "3/3 [==============================] - 0s 21ms/step - loss: 0.2953 - accuracy: 0.9726 - val_loss: 0.3526 - val_accuracy: 0.9375\n",
      "Epoch 33/120\n",
      "3/3 [==============================] - 0s 21ms/step - loss: 0.2852 - accuracy: 0.9726 - val_loss: 0.3440 - val_accuracy: 0.9375\n",
      "Epoch 34/120\n",
      "3/3 [==============================] - 0s 21ms/step - loss: 0.2759 - accuracy: 0.9589 - val_loss: 0.3383 - val_accuracy: 0.9375\n",
      "Epoch 35/120\n",
      "3/3 [==============================] - 0s 22ms/step - loss: 0.2684 - accuracy: 0.9589 - val_loss: 0.3340 - val_accuracy: 0.9062\n",
      "Epoch 36/120\n",
      "3/3 [==============================] - 0s 21ms/step - loss: 0.2628 - accuracy: 0.9452 - val_loss: 0.3287 - val_accuracy: 0.9062\n",
      "Epoch 37/120\n",
      "3/3 [==============================] - 0s 21ms/step - loss: 0.2573 - accuracy: 0.9452 - val_loss: 0.3182 - val_accuracy: 0.9062\n",
      "Epoch 38/120\n",
      "3/3 [==============================] - 0s 21ms/step - loss: 0.2491 - accuracy: 0.9589 - val_loss: 0.2997 - val_accuracy: 0.9375\n",
      "Epoch 39/120\n",
      "3/3 [==============================] - 0s 31ms/step - loss: 0.2411 - accuracy: 0.9726 - val_loss: 0.2865 - val_accuracy: 0.9688\n",
      "Epoch 40/120\n",
      "3/3 [==============================] - 0s 22ms/step - loss: 0.2342 - accuracy: 0.9726 - val_loss: 0.2779 - val_accuracy: 0.9688\n",
      "Epoch 41/120\n",
      "3/3 [==============================] - 0s 22ms/step - loss: 0.2287 - accuracy: 0.9726 - val_loss: 0.2707 - val_accuracy: 0.9688\n",
      "Epoch 42/120\n",
      "3/3 [==============================] - 0s 21ms/step - loss: 0.2230 - accuracy: 0.9726 - val_loss: 0.2653 - val_accuracy: 0.9688\n",
      "Epoch 43/120\n",
      "3/3 [==============================] - 0s 21ms/step - loss: 0.2171 - accuracy: 0.9726 - val_loss: 0.2629 - val_accuracy: 0.9375\n",
      "Epoch 44/120\n",
      "3/3 [==============================] - 0s 21ms/step - loss: 0.2126 - accuracy: 0.9726 - val_loss: 0.2572 - val_accuracy: 0.9375\n",
      "Epoch 45/120\n",
      "3/3 [==============================] - 0s 22ms/step - loss: 0.2077 - accuracy: 0.9726 - val_loss: 0.2514 - val_accuracy: 0.9375\n",
      "Epoch 46/120\n",
      "3/3 [==============================] - 0s 21ms/step - loss: 0.2025 - accuracy: 0.9726 - val_loss: 0.2459 - val_accuracy: 0.9375\n",
      "Epoch 47/120\n",
      "3/3 [==============================] - 0s 19ms/step - loss: 0.1984 - accuracy: 0.9726 - val_loss: 0.2380 - val_accuracy: 0.9688\n",
      "Epoch 48/120\n",
      "3/3 [==============================] - 0s 21ms/step - loss: 0.1933 - accuracy: 0.9726 - val_loss: 0.2313 - val_accuracy: 0.9688\n",
      "Epoch 49/120\n",
      "3/3 [==============================] - 0s 21ms/step - loss: 0.1890 - accuracy: 0.9726 - val_loss: 0.2244 - val_accuracy: 0.9688\n",
      "Epoch 50/120\n",
      "3/3 [==============================] - 0s 21ms/step - loss: 0.1860 - accuracy: 0.9726 - val_loss: 0.2170 - val_accuracy: 0.9688\n",
      "Epoch 51/120\n",
      "3/3 [==============================] - 0s 21ms/step - loss: 0.1826 - accuracy: 0.9726 - val_loss: 0.2120 - val_accuracy: 0.9688\n",
      "Epoch 52/120\n",
      "3/3 [==============================] - 0s 21ms/step - loss: 0.1795 - accuracy: 0.9726 - val_loss: 0.2077 - val_accuracy: 0.9688\n",
      "Epoch 53/120\n",
      "3/3 [==============================] - 0s 19ms/step - loss: 0.1742 - accuracy: 0.9726 - val_loss: 0.2077 - val_accuracy: 0.9688\n",
      "Epoch 54/120\n",
      "3/3 [==============================] - 0s 20ms/step - loss: 0.1713 - accuracy: 0.9726 - val_loss: 0.2071 - val_accuracy: 0.9688\n",
      "Epoch 55/120\n",
      "3/3 [==============================] - 0s 21ms/step - loss: 0.1699 - accuracy: 0.9726 - val_loss: 0.2054 - val_accuracy: 0.9375\n",
      "Epoch 56/120\n",
      "3/3 [==============================] - 0s 21ms/step - loss: 0.1675 - accuracy: 0.9726 - val_loss: 0.2004 - val_accuracy: 0.9688\n",
      "Epoch 57/120\n",
      "3/3 [==============================] - 0s 20ms/step - loss: 0.1643 - accuracy: 0.9726 - val_loss: 0.1929 - val_accuracy: 0.9688\n",
      "Epoch 58/120\n",
      "3/3 [==============================] - 0s 20ms/step - loss: 0.1621 - accuracy: 0.9726 - val_loss: 0.1869 - val_accuracy: 0.9688\n",
      "Epoch 59/120\n",
      "3/3 [==============================] - 0s 22ms/step - loss: 0.1575 - accuracy: 0.9726 - val_loss: 0.1839 - val_accuracy: 0.9688\n",
      "Epoch 60/120\n",
      "3/3 [==============================] - 0s 23ms/step - loss: 0.1555 - accuracy: 0.9726 - val_loss: 0.1806 - val_accuracy: 0.9688\n",
      "Epoch 61/120\n",
      "3/3 [==============================] - 0s 20ms/step - loss: 0.1540 - accuracy: 0.9726 - val_loss: 0.1789 - val_accuracy: 0.9688\n",
      "Epoch 62/120\n",
      "3/3 [==============================] - 0s 20ms/step - loss: 0.1507 - accuracy: 0.9726 - val_loss: 0.1752 - val_accuracy: 0.9688\n",
      "Epoch 63/120\n",
      "3/3 [==============================] - 0s 20ms/step - loss: 0.1488 - accuracy: 0.9726 - val_loss: 0.1721 - val_accuracy: 0.9688\n",
      "Epoch 64/120\n",
      "3/3 [==============================] - 0s 20ms/step - loss: 0.1465 - accuracy: 0.9726 - val_loss: 0.1685 - val_accuracy: 0.9688\n",
      "Epoch 65/120\n",
      "3/3 [==============================] - 0s 19ms/step - loss: 0.1477 - accuracy: 0.9726 - val_loss: 0.1661 - val_accuracy: 1.0000\n",
      "Epoch 66/120\n",
      "3/3 [==============================] - 0s 20ms/step - loss: 0.1452 - accuracy: 0.9726 - val_loss: 0.1632 - val_accuracy: 0.9688\n",
      "Epoch 67/120\n",
      "3/3 [==============================] - 0s 20ms/step - loss: 0.1432 - accuracy: 0.9726 - val_loss: 0.1609 - val_accuracy: 0.9688\n",
      "Epoch 68/120\n",
      "3/3 [==============================] - 0s 21ms/step - loss: 0.1391 - accuracy: 0.9726 - val_loss: 0.1612 - val_accuracy: 0.9688\n",
      "Epoch 69/120\n",
      "3/3 [==============================] - 0s 20ms/step - loss: 0.1406 - accuracy: 0.9726 - val_loss: 0.1634 - val_accuracy: 0.9688\n",
      "Epoch 70/120\n",
      "3/3 [==============================] - 0s 21ms/step - loss: 0.1380 - accuracy: 0.9726 - val_loss: 0.1578 - val_accuracy: 0.9688\n",
      "Epoch 71/120\n",
      "3/3 [==============================] - 0s 20ms/step - loss: 0.1348 - accuracy: 0.9726 - val_loss: 0.1534 - val_accuracy: 0.9688\n",
      "Epoch 72/120\n",
      "3/3 [==============================] - 0s 20ms/step - loss: 0.1336 - accuracy: 0.9726 - val_loss: 0.1507 - val_accuracy: 0.9688\n",
      "Epoch 73/120\n",
      "3/3 [==============================] - 0s 21ms/step - loss: 0.1323 - accuracy: 0.9726 - val_loss: 0.1491 - val_accuracy: 0.9688\n",
      "Epoch 74/120\n",
      "3/3 [==============================] - 0s 19ms/step - loss: 0.1322 - accuracy: 0.9726 - val_loss: 0.1479 - val_accuracy: 0.9688\n",
      "Epoch 75/120\n",
      "3/3 [==============================] - 0s 20ms/step - loss: 0.1297 - accuracy: 0.9726 - val_loss: 0.1462 - val_accuracy: 0.9688\n",
      "Epoch 76/120\n",
      "3/3 [==============================] - 0s 28ms/step - loss: 0.1281 - accuracy: 0.9726 - val_loss: 0.1445 - val_accuracy: 0.9688\n",
      "Epoch 77/120\n",
      "3/3 [==============================] - 0s 21ms/step - loss: 0.1277 - accuracy: 0.9726 - val_loss: 0.1429 - val_accuracy: 0.9688\n",
      "Epoch 78/120\n",
      "3/3 [==============================] - 0s 22ms/step - loss: 0.1256 - accuracy: 0.9726 - val_loss: 0.1426 - val_accuracy: 0.9688\n",
      "Epoch 79/120\n",
      "3/3 [==============================] - 0s 20ms/step - loss: 0.1252 - accuracy: 0.9726 - val_loss: 0.1413 - val_accuracy: 0.9688\n",
      "Epoch 80/120\n",
      "3/3 [==============================] - 0s 22ms/step - loss: 0.1240 - accuracy: 0.9726 - val_loss: 0.1404 - val_accuracy: 0.9688\n",
      "Epoch 81/120\n",
      "3/3 [==============================] - 0s 22ms/step - loss: 0.1242 - accuracy: 0.9726 - val_loss: 0.1397 - val_accuracy: 0.9688\n",
      "Epoch 82/120\n",
      "3/3 [==============================] - 0s 20ms/step - loss: 0.1222 - accuracy: 0.9726 - val_loss: 0.1361 - val_accuracy: 0.9688\n",
      "Epoch 83/120\n",
      "3/3 [==============================] - 0s 20ms/step - loss: 0.1209 - accuracy: 0.9726 - val_loss: 0.1348 - val_accuracy: 1.0000\n",
      "Epoch 84/120\n",
      "3/3 [==============================] - 0s 19ms/step - loss: 0.1218 - accuracy: 0.9726 - val_loss: 0.1350 - val_accuracy: 0.9688\n",
      "Epoch 85/120\n",
      "3/3 [==============================] - 0s 20ms/step - loss: 0.1232 - accuracy: 0.9726 - val_loss: 0.1326 - val_accuracy: 1.0000\n",
      "Epoch 86/120\n",
      "3/3 [==============================] - 0s 20ms/step - loss: 0.1201 - accuracy: 0.9726 - val_loss: 0.1315 - val_accuracy: 1.0000\n",
      "Epoch 87/120\n",
      "3/3 [==============================] - 0s 19ms/step - loss: 0.1193 - accuracy: 0.9726 - val_loss: 0.1303 - val_accuracy: 1.0000\n",
      "Epoch 88/120\n",
      "3/3 [==============================] - 0s 19ms/step - loss: 0.1180 - accuracy: 0.9726 - val_loss: 0.1289 - val_accuracy: 1.0000\n",
      "Epoch 89/120\n",
      "3/3 [==============================] - 0s 20ms/step - loss: 0.1170 - accuracy: 0.9726 - val_loss: 0.1272 - val_accuracy: 0.9688\n",
      "Epoch 90/120\n",
      "3/3 [==============================] - 0s 20ms/step - loss: 0.1154 - accuracy: 0.9726 - val_loss: 0.1271 - val_accuracy: 0.9688\n",
      "Epoch 91/120\n",
      "3/3 [==============================] - 0s 18ms/step - loss: 0.1149 - accuracy: 0.9726 - val_loss: 0.1263 - val_accuracy: 0.9688\n",
      "Epoch 92/120\n",
      "3/3 [==============================] - 0s 21ms/step - loss: 0.1145 - accuracy: 0.9726 - val_loss: 0.1245 - val_accuracy: 0.9688\n",
      "Epoch 93/120\n",
      "3/3 [==============================] - 0s 20ms/step - loss: 0.1166 - accuracy: 0.9726 - val_loss: 0.1240 - val_accuracy: 1.0000\n",
      "Epoch 94/120\n",
      "3/3 [==============================] - 0s 20ms/step - loss: 0.1161 - accuracy: 0.9726 - val_loss: 0.1245 - val_accuracy: 0.9688\n",
      "Epoch 95/120\n",
      "3/3 [==============================] - 0s 20ms/step - loss: 0.1152 - accuracy: 0.9726 - val_loss: 0.1220 - val_accuracy: 1.0000\n",
      "Epoch 96/120\n",
      "3/3 [==============================] - 0s 18ms/step - loss: 0.1122 - accuracy: 0.9726 - val_loss: 0.1208 - val_accuracy: 1.0000\n",
      "Epoch 97/120\n",
      "3/3 [==============================] - 0s 19ms/step - loss: 0.1110 - accuracy: 0.9726 - val_loss: 0.1198 - val_accuracy: 1.0000\n",
      "Epoch 98/120\n",
      "3/3 [==============================] - 0s 19ms/step - loss: 0.1105 - accuracy: 0.9726 - val_loss: 0.1188 - val_accuracy: 0.9688\n",
      "Epoch 99/120\n",
      "3/3 [==============================] - 0s 21ms/step - loss: 0.1093 - accuracy: 0.9726 - val_loss: 0.1181 - val_accuracy: 0.9688\n",
      "Epoch 100/120\n",
      "3/3 [==============================] - 0s 23ms/step - loss: 0.1090 - accuracy: 0.9726 - val_loss: 0.1174 - val_accuracy: 0.9688\n",
      "Epoch 101/120\n",
      "3/3 [==============================] - 0s 19ms/step - loss: 0.1082 - accuracy: 0.9726 - val_loss: 0.1169 - val_accuracy: 0.9688\n",
      "Epoch 102/120\n",
      "3/3 [==============================] - 0s 20ms/step - loss: 0.1107 - accuracy: 0.9726 - val_loss: 0.1176 - val_accuracy: 0.9688\n",
      "Epoch 103/120\n",
      "3/3 [==============================] - 0s 22ms/step - loss: 0.1083 - accuracy: 0.9726 - val_loss: 0.1159 - val_accuracy: 0.9688\n",
      "Epoch 104/120\n",
      "3/3 [==============================] - 0s 20ms/step - loss: 0.1070 - accuracy: 0.9726 - val_loss: 0.1151 - val_accuracy: 0.9688\n",
      "Epoch 105/120\n",
      "3/3 [==============================] - 0s 19ms/step - loss: 0.1076 - accuracy: 0.9726 - val_loss: 0.1145 - val_accuracy: 1.0000\n",
      "Epoch 106/120\n",
      "3/3 [==============================] - 0s 22ms/step - loss: 0.1072 - accuracy: 0.9726 - val_loss: 0.1138 - val_accuracy: 1.0000\n",
      "Epoch 107/120\n",
      "3/3 [==============================] - 0s 20ms/step - loss: 0.1075 - accuracy: 0.9726 - val_loss: 0.1139 - val_accuracy: 1.0000\n",
      "Epoch 108/120\n",
      "3/3 [==============================] - 0s 24ms/step - loss: 0.1067 - accuracy: 0.9726 - val_loss: 0.1119 - val_accuracy: 0.9688\n",
      "Epoch 109/120\n",
      "3/3 [==============================] - 0s 21ms/step - loss: 0.1045 - accuracy: 0.9726 - val_loss: 0.1111 - val_accuracy: 0.9688\n",
      "Epoch 110/120\n",
      "3/3 [==============================] - 0s 21ms/step - loss: 0.1064 - accuracy: 0.9726 - val_loss: 0.1110 - val_accuracy: 0.9688\n",
      "Epoch 111/120\n",
      "3/3 [==============================] - 0s 20ms/step - loss: 0.1034 - accuracy: 0.9726 - val_loss: 0.1099 - val_accuracy: 0.9688\n",
      "Epoch 112/120\n",
      "3/3 [==============================] - 0s 21ms/step - loss: 0.1039 - accuracy: 0.9726 - val_loss: 0.1106 - val_accuracy: 1.0000\n",
      "Epoch 113/120\n",
      "3/3 [==============================] - 0s 23ms/step - loss: 0.1038 - accuracy: 0.9726 - val_loss: 0.1104 - val_accuracy: 1.0000\n",
      "Epoch 114/120\n",
      "3/3 [==============================] - 0s 21ms/step - loss: 0.1034 - accuracy: 0.9726 - val_loss: 0.1098 - val_accuracy: 1.0000\n",
      "Epoch 115/120\n",
      "3/3 [==============================] - 0s 24ms/step - loss: 0.1024 - accuracy: 0.9726 - val_loss: 0.1082 - val_accuracy: 1.0000\n",
      "Epoch 116/120\n",
      "3/3 [==============================] - 0s 21ms/step - loss: 0.1044 - accuracy: 0.9726 - val_loss: 0.1079 - val_accuracy: 0.9688\n",
      "Epoch 117/120\n",
      "3/3 [==============================] - 0s 21ms/step - loss: 0.1016 - accuracy: 0.9726 - val_loss: 0.1072 - val_accuracy: 0.9688\n",
      "Epoch 118/120\n",
      "3/3 [==============================] - 0s 21ms/step - loss: 0.1013 - accuracy: 0.9726 - val_loss: 0.1068 - val_accuracy: 0.9688\n",
      "Epoch 119/120\n",
      "3/3 [==============================] - 0s 21ms/step - loss: 0.1019 - accuracy: 0.9726 - val_loss: 0.1066 - val_accuracy: 1.0000\n",
      "Epoch 120/120\n",
      "3/3 [==============================] - 0s 21ms/step - loss: 0.1008 - accuracy: 0.9726 - val_loss: 0.1059 - val_accuracy: 0.9688\n"
     ]
    }
   ],
   "source": [
    "history = model.fit(X_train, y_train, validation_split = 0.3, batch_size=30, epochs=120)"
   ]
  },
  {
   "cell_type": "code",
   "execution_count": 12,
   "id": "8b309a62",
   "metadata": {},
   "outputs": [
    {
     "name": "stdout",
     "output_type": "stream",
     "text": [
      "Model: \"sequential\"\n",
      "_________________________________________________________________\n",
      " Layer (type)                Output Shape              Param #   \n",
      "=================================================================\n",
      " dense (Dense)               (None, 10)                50        \n",
      "                                                                 \n",
      " dense_1 (Dense)             (None, 100)               1100      \n",
      "                                                                 \n",
      " dense_2 (Dense)             (None, 3)                 303       \n",
      "                                                                 \n",
      "=================================================================\n",
      "Total params: 1,453\n",
      "Trainable params: 1,453\n",
      "Non-trainable params: 0\n",
      "_________________________________________________________________\n"
     ]
    }
   ],
   "source": [
    "model.summary()"
   ]
  },
  {
   "cell_type": "code",
   "execution_count": 13,
   "id": "e1c9edde",
   "metadata": {},
   "outputs": [
    {
     "data": {
      "text/plain": [
       "<matplotlib.legend.Legend at 0x1b8e45c1820>"
      ]
     },
     "execution_count": 13,
     "metadata": {},
     "output_type": "execute_result"
    },
    {
     "data": {
      "image/png": "[encoded data removed]",
      "text/plain": [
       "<Figure size 432x288 with 1 Axes>"
      ]
     },
     "metadata": {
      "needs_background": "light"
     },
     "output_type": "display_data"
    }
   ],
   "source": [
    "plt.plot(history.history['accuracy'])\n",
    "plt.plot(history.history['val_accuracy'])\n",
    "plt.legend(['accuracy','validation accuracy'])"
   ]
  },
  {
   "cell_type": "code",
   "execution_count": 14,
   "id": "d404413a",
   "metadata": {},
   "outputs": [
    {
     "data": {
      "text/plain": [
       "<matplotlib.legend.Legend at 0x1b8f06926d0>"
      ]
     },
     "execution_count": 14,
     "metadata": {},
     "output_type": "execute_result"
    },
    {
     "data": {
      "image/png": "[encoded data removed]",
      "text/plain": [
       "<Figure size 432x288 with 1 Axes>"
      ]
     },
     "metadata": {
      "needs_background": "light"
     },
     "output_type": "display_data"
    }
   ],
   "source": [
    "plt.plot(history.history['loss'])\n",
    "plt.plot(history.history['val_loss'])\n",
    "plt.legend(['loss','validation loss'])"
   ]
  },
  {
   "cell_type": "code",
   "execution_count": 15,
   "id": "cd0b28db",
   "metadata": {},
   "outputs": [
    {
     "name": "stdout",
     "output_type": "stream",
     "text": [
      "Test loss: 0.10467059165239334\n",
      "Test accuracy: 0.9777777791023254\n"
     ]
    }
   ],
   "source": [
    "loss, accuracy = model.evaluate(X_test, y_test, verbose=0)\n",
    "print('Test loss:', loss)\n",
    "print('Test accuracy:', accuracy)"
   ]
  },
  {
   "cell_type": "code",
   "execution_count": 16,
   "id": "ec9a5c52",
   "metadata": {
    "scrolled": true,
    "tags": []
   },
   "outputs": [
    {
     "name": "stdout",
     "output_type": "stream",
     "text": [
      "2/2 [==============================] - 0s 2ms/step\n"
     ]
    },
    {
     "data": {
      "text/plain": [
       "array([[1., 0., 0.],\n",
       "       [0., 1., 0.],\n",
       "       [0., 1., 0.],\n",
       "       [1., 0., 0.],\n",
       "       [0., 0., 1.],\n",
       "       [0., 1., 0.],\n",
       "       [0., 0., 1.],\n",
       "       [1., 0., 0.],\n",
       "       [1., 0., 0.],\n",
       "       [0., 0., 1.],\n",
       "       [0., 1., 0.],\n",
       "       [1., 0., 0.],\n",
       "       [0., 0., 1.],\n",
       "       [0., 1., 0.],\n",
       "       [0., 1., 0.],\n",
       "       [1., 0., 0.],\n",
       "       [0., 1., 0.],\n",
       "       [0., 1., 0.],\n",
       "       [1., 0., 0.],\n",
       "       [1., 0., 0.],\n",
       "       [0., 1., 0.],\n",
       "       [0., 0., 1.],\n",
       "       [0., 1., 0.],\n",
       "       [1., 0., 0.],\n",
       "       [0., 0., 1.],\n",
       "       [0., 1., 0.],\n",
       "       [1., 0., 0.],\n",
       "       [1., 0., 0.],\n",
       "       [0., 1., 0.],\n",
       "       [0., 0., 1.],\n",
       "       [0., 1., 0.],\n",
       "       [0., 0., 1.],\n",
       "       [0., 1., 0.],\n",
       "       [0., 0., 1.],\n",
       "       [0., 0., 1.],\n",
       "       [1., 0., 0.],\n",
       "       [0., 1., 0.],\n",
       "       [1., 0., 0.],\n",
       "       [0., 1., 0.],\n",
       "       [0., 0., 1.],\n",
       "       [0., 0., 1.],\n",
       "       [1., 0., 0.],\n",
       "       [0., 0., 1.],\n",
       "       [0., 0., 1.],\n",
       "       [0., 1., 0.]], dtype=float32)"
      ]
     },
     "execution_count": 16,
     "metadata": {},
     "output_type": "execute_result"
    }
   ],
   "source": [
    "y_pred = model.predict(X_test)\n",
    "y_pred = np.round(y_pred)\n",
    "y_pred"
   ]
  },
  {
   "cell_type": "code",
   "execution_count": 17,
   "id": "ec0ad39b",
   "metadata": {},
   "outputs": [
    {
     "data": {
      "text/plain": [
       "0.9777777777777777"
      ]
     },
     "execution_count": 17,
     "metadata": {},
     "output_type": "execute_result"
    }
   ],
   "source": [
    "from sklearn.metrics import accuracy_score\n",
    "pred_accuracy = accuracy_score(y_pred, y_test)\n",
    "pred_accuracy"
   ]
  },
  {
   "cell_type": "code",
   "execution_count": 18,
   "id": "eb5c4588",
   "metadata": {},
   "outputs": [
    {
     "name": "stdout",
     "output_type": "stream",
     "text": [
      "Actual: [0 1 1 0 2 1 2 0 0 2 1 0 2 1 1 0 1 1 0 0 1 1 1 0 2 1 0 0 1 2 1 2 1 2 2 0 1\n",
      " 0 1 2 2 0 2 2 1]\n",
      "Predicted: [0 1 1 0 2 1 2 0 0 2 1 0 2 1 1 0 1 1 0 0 1 2 1 0 2 1 0 0 1 2 1 2 1 2 2 0 1\n",
      " 0 1 2 2 0 2 2 1]\n"
     ]
    }
   ],
   "source": [
    "actual = np.argmax(y_test,axis=1)\n",
    "predicted = np.argmax(y_pred,axis=1)\n",
    "print(\"Actual: {}\".format(actual))\n",
    "print(\"Predicted: {}\".format(predicted))"
   ]
  },
  {
   "cell_type": "code",
   "execution_count": 19,
   "id": "dc529074-19ba-4399-afbb-7b2adbef1f16",
   "metadata": {},
   "outputs": [
    {
     "name": "stdout",
     "output_type": "stream",
     "text": [
      "                 precision    recall  f1-score   support\n",
      "\n",
      "    Iris-setosa       1.00      1.00      1.00        14\n",
      "Iris-versicolor       1.00      0.94      0.97        18\n",
      " Iris-virginica       0.93      1.00      0.96        13\n",
      "\n",
      "      micro avg       0.98      0.98      0.98        45\n",
      "      macro avg       0.98      0.98      0.98        45\n",
      "   weighted avg       0.98      0.98      0.98        45\n",
      "    samples avg       0.98      0.98      0.98        45\n",
      "\n"
     ]
    }
   ],
   "source": [
    "from sklearn.metrics import classification_report\n",
    "target_names = ['Iris-setosa', 'Iris-versicolor', 'Iris-virginica']\n",
    "print(classification_report(y_test, y_pred, target_names=target_names))"
   ]
  },
  {
   "cell_type": "markdown",
   "id": "ba5f7ada",
   "metadata": {
    "tags": []
   },
   "source": [
    "## Using Tensorflow Convolutional Neural Networks (CNN)"
   ]
  },
  {
   "cell_type": "code",
   "execution_count": 20,
   "id": "d0168c9c",
   "metadata": {},
   "outputs": [],
   "source": [
    "model = tf.keras.Sequential([\n",
    "    tf.keras.layers.Conv1D(64, 2, activation='relu', input_shape=(4,1)),\n",
    "    tf.keras.layers.MaxPooling1D(),\n",
    "    tf.keras.layers.Flatten(),\n",
    "    tf.keras.layers.Dense(16, activation='relu'),\n",
    "    tf.keras.layers.Dense(3, activation='softmax')\n",
    "])"
   ]
  },
  {
   "cell_type": "code",
   "execution_count": 21,
   "id": "6bad9599",
   "metadata": {},
   "outputs": [],
   "source": [
    "model.compile(optimizer='adam',\n",
    "              loss='categorical_crossentropy',\n",
    "              metrics=['accuracy'])"
   ]
  },
  {
   "cell_type": "code",
   "execution_count": 22,
   "id": "57d32cac",
   "metadata": {},
   "outputs": [
    {
     "name": "stdout",
     "output_type": "stream",
     "text": [
      "Epoch 1/120\n",
      "3/3 [==============================] - 2s 137ms/step - loss: 1.5987 - accuracy: 0.2603 - val_loss: 1.2255 - val_accuracy: 0.4062\n",
      "Epoch 2/120\n",
      "3/3 [==============================] - 0s 24ms/step - loss: 1.4417 - accuracy: 0.3425 - val_loss: 1.1465 - val_accuracy: 0.7188\n",
      "Epoch 3/120\n",
      "3/3 [==============================] - 0s 27ms/step - loss: 1.3054 - accuracy: 0.6027 - val_loss: 1.0842 - val_accuracy: 0.7188\n",
      "Epoch 4/120\n",
      "3/3 [==============================] - 0s 22ms/step - loss: 1.1989 - accuracy: 0.6164 - val_loss: 1.0388 - val_accuracy: 0.7188\n",
      "Epoch 5/120\n",
      "3/3 [==============================] - 0s 22ms/step - loss: 1.1053 - accuracy: 0.6164 - val_loss: 1.0113 - val_accuracy: 0.7188\n",
      "Epoch 6/120\n",
      "3/3 [==============================] - 0s 23ms/step - loss: 1.0452 - accuracy: 0.6164 - val_loss: 0.9970 - val_accuracy: 0.7188\n",
      "Epoch 7/120\n",
      "3/3 [==============================] - 0s 22ms/step - loss: 1.0021 - accuracy: 0.6712 - val_loss: 0.9957 - val_accuracy: 0.6250\n",
      "Epoch 8/120\n",
      "3/3 [==============================] - 0s 20ms/step - loss: 0.9679 - accuracy: 0.7534 - val_loss: 1.0033 - val_accuracy: 0.5938\n",
      "Epoch 9/120\n",
      "3/3 [==============================] - 0s 21ms/step - loss: 0.9584 - accuracy: 0.6986 - val_loss: 1.0136 - val_accuracy: 0.3125\n",
      "Epoch 10/120\n",
      "3/3 [==============================] - 0s 20ms/step - loss: 0.9410 - accuracy: 0.4110 - val_loss: 1.0170 - val_accuracy: 0.2812\n",
      "Epoch 11/120\n",
      "3/3 [==============================] - 0s 21ms/step - loss: 0.9335 - accuracy: 0.3836 - val_loss: 1.0174 - val_accuracy: 0.2812\n",
      "Epoch 12/120\n",
      "3/3 [==============================] - 0s 23ms/step - loss: 0.9235 - accuracy: 0.3836 - val_loss: 1.0115 - val_accuracy: 0.2812\n",
      "Epoch 13/120\n",
      "3/3 [==============================] - 0s 22ms/step - loss: 0.9120 - accuracy: 0.4384 - val_loss: 0.9998 - val_accuracy: 0.5312\n",
      "Epoch 14/120\n",
      "3/3 [==============================] - 0s 25ms/step - loss: 0.8977 - accuracy: 0.6849 - val_loss: 0.9840 - val_accuracy: 0.5625\n",
      "Epoch 15/120\n",
      "3/3 [==============================] - 0s 21ms/step - loss: 0.8830 - accuracy: 0.7123 - val_loss: 0.9690 - val_accuracy: 0.5938\n",
      "Epoch 16/120\n",
      "3/3 [==============================] - 0s 21ms/step - loss: 0.8710 - accuracy: 0.7260 - val_loss: 0.9526 - val_accuracy: 0.5938\n",
      "Epoch 17/120\n",
      "3/3 [==============================] - 0s 22ms/step - loss: 0.8589 - accuracy: 0.7397 - val_loss: 0.9403 - val_accuracy: 0.5938\n",
      "Epoch 18/120\n",
      "3/3 [==============================] - 0s 20ms/step - loss: 0.8488 - accuracy: 0.7397 - val_loss: 0.9312 - val_accuracy: 0.5938\n",
      "Epoch 19/120\n",
      "3/3 [==============================] - 0s 19ms/step - loss: 0.8389 - accuracy: 0.7397 - val_loss: 0.9232 - val_accuracy: 0.5938\n",
      "Epoch 20/120\n",
      "3/3 [==============================] - 0s 19ms/step - loss: 0.8301 - accuracy: 0.7397 - val_loss: 0.9137 - val_accuracy: 0.5938\n",
      "Epoch 21/120\n",
      "3/3 [==============================] - 0s 18ms/step - loss: 0.8204 - accuracy: 0.7397 - val_loss: 0.9078 - val_accuracy: 0.5938\n",
      "Epoch 22/120\n",
      "3/3 [==============================] - 0s 23ms/step - loss: 0.8101 - accuracy: 0.7397 - val_loss: 0.8989 - val_accuracy: 0.5938\n",
      "Epoch 23/120\n",
      "3/3 [==============================] - 0s 20ms/step - loss: 0.8012 - accuracy: 0.7397 - val_loss: 0.8888 - val_accuracy: 0.5938\n",
      "Epoch 24/120\n",
      "3/3 [==============================] - 0s 19ms/step - loss: 0.7916 - accuracy: 0.7397 - val_loss: 0.8796 - val_accuracy: 0.5938\n",
      "Epoch 25/120\n",
      "3/3 [==============================] - 0s 20ms/step - loss: 0.7824 - accuracy: 0.7397 - val_loss: 0.8708 - val_accuracy: 0.5938\n",
      "Epoch 26/120\n",
      "3/3 [==============================] - 0s 19ms/step - loss: 0.7732 - accuracy: 0.7397 - val_loss: 0.8594 - val_accuracy: 0.5938\n",
      "Epoch 27/120\n",
      "3/3 [==============================] - 0s 20ms/step - loss: 0.7638 - accuracy: 0.7397 - val_loss: 0.8507 - val_accuracy: 0.5938\n",
      "Epoch 28/120\n",
      "3/3 [==============================] - 0s 20ms/step - loss: 0.7543 - accuracy: 0.7397 - val_loss: 0.8414 - val_accuracy: 0.5938\n",
      "Epoch 29/120\n",
      "3/3 [==============================] - 0s 20ms/step - loss: 0.7450 - accuracy: 0.7397 - val_loss: 0.8351 - val_accuracy: 0.5938\n",
      "Epoch 30/120\n",
      "3/3 [==============================] - 0s 20ms/step - loss: 0.7352 - accuracy: 0.7397 - val_loss: 0.8288 - val_accuracy: 0.5938\n",
      "Epoch 31/120\n",
      "3/3 [==============================] - 0s 27ms/step - loss: 0.7260 - accuracy: 0.7397 - val_loss: 0.8228 - val_accuracy: 0.5938\n",
      "Epoch 32/120\n",
      "3/3 [==============================] - 0s 24ms/step - loss: 0.7166 - accuracy: 0.7397 - val_loss: 0.8128 - val_accuracy: 0.5938\n",
      "Epoch 33/120\n",
      "3/3 [==============================] - 0s 23ms/step - loss: 0.7068 - accuracy: 0.7397 - val_loss: 0.8021 - val_accuracy: 0.5938\n",
      "Epoch 34/120\n",
      "3/3 [==============================] - 0s 22ms/step - loss: 0.6978 - accuracy: 0.7397 - val_loss: 0.7910 - val_accuracy: 0.5938\n",
      "Epoch 35/120\n",
      "3/3 [==============================] - 0s 24ms/step - loss: 0.6894 - accuracy: 0.7397 - val_loss: 0.7824 - val_accuracy: 0.5938\n",
      "Epoch 36/120\n",
      "3/3 [==============================] - 0s 23ms/step - loss: 0.6793 - accuracy: 0.7397 - val_loss: 0.7749 - val_accuracy: 0.5938\n",
      "Epoch 37/120\n",
      "3/3 [==============================] - 0s 21ms/step - loss: 0.6700 - accuracy: 0.7397 - val_loss: 0.7672 - val_accuracy: 0.5938\n",
      "Epoch 38/120\n",
      "3/3 [==============================] - 0s 21ms/step - loss: 0.6615 - accuracy: 0.7397 - val_loss: 0.7608 - val_accuracy: 0.5938\n",
      "Epoch 39/120\n",
      "3/3 [==============================] - 0s 22ms/step - loss: 0.6526 - accuracy: 0.7397 - val_loss: 0.7507 - val_accuracy: 0.5938\n",
      "Epoch 40/120\n",
      "3/3 [==============================] - 0s 21ms/step - loss: 0.6434 - accuracy: 0.7397 - val_loss: 0.7391 - val_accuracy: 0.5938\n",
      "Epoch 41/120\n",
      "3/3 [==============================] - 0s 21ms/step - loss: 0.6348 - accuracy: 0.7397 - val_loss: 0.7296 - val_accuracy: 0.5938\n",
      "Epoch 42/120\n",
      "3/3 [==============================] - 0s 25ms/step - loss: 0.6259 - accuracy: 0.7397 - val_loss: 0.7215 - val_accuracy: 0.5938\n",
      "Epoch 43/120\n",
      "3/3 [==============================] - 0s 20ms/step - loss: 0.6176 - accuracy: 0.7397 - val_loss: 0.7146 - val_accuracy: 0.5938\n",
      "Epoch 44/120\n",
      "3/3 [==============================] - 0s 21ms/step - loss: 0.6094 - accuracy: 0.7397 - val_loss: 0.7071 - val_accuracy: 0.5938\n",
      "Epoch 45/120\n",
      "3/3 [==============================] - 0s 20ms/step - loss: 0.6005 - accuracy: 0.7397 - val_loss: 0.6966 - val_accuracy: 0.5938\n",
      "Epoch 46/120\n",
      "3/3 [==============================] - 0s 22ms/step - loss: 0.5926 - accuracy: 0.7397 - val_loss: 0.6885 - val_accuracy: 0.5938\n",
      "Epoch 47/120\n",
      "3/3 [==============================] - 0s 22ms/step - loss: 0.5852 - accuracy: 0.7397 - val_loss: 0.6821 - val_accuracy: 0.5938\n",
      "Epoch 48/120\n",
      "3/3 [==============================] - 0s 23ms/step - loss: 0.5772 - accuracy: 0.7397 - val_loss: 0.6741 - val_accuracy: 0.5938\n",
      "Epoch 49/120\n",
      "3/3 [==============================] - 0s 22ms/step - loss: 0.5699 - accuracy: 0.7397 - val_loss: 0.6666 - val_accuracy: 0.5938\n",
      "Epoch 50/120\n",
      "3/3 [==============================] - 0s 23ms/step - loss: 0.5634 - accuracy: 0.7397 - val_loss: 0.6621 - val_accuracy: 0.5938\n",
      "Epoch 51/120\n",
      "3/3 [==============================] - 0s 22ms/step - loss: 0.5551 - accuracy: 0.7397 - val_loss: 0.6567 - val_accuracy: 0.5938\n",
      "Epoch 52/120\n",
      "3/3 [==============================] - 0s 21ms/step - loss: 0.5478 - accuracy: 0.7397 - val_loss: 0.6491 - val_accuracy: 0.5938\n",
      "Epoch 53/120\n",
      "3/3 [==============================] - 0s 22ms/step - loss: 0.5408 - accuracy: 0.7397 - val_loss: 0.6423 - val_accuracy: 0.5938\n",
      "Epoch 54/120\n",
      "3/3 [==============================] - 0s 21ms/step - loss: 0.5342 - accuracy: 0.7397 - val_loss: 0.6359 - val_accuracy: 0.5938\n",
      "Epoch 55/120\n",
      "3/3 [==============================] - 0s 21ms/step - loss: 0.5279 - accuracy: 0.7397 - val_loss: 0.6295 - val_accuracy: 0.5938\n",
      "Epoch 56/120\n",
      "3/3 [==============================] - 0s 21ms/step - loss: 0.5214 - accuracy: 0.7397 - val_loss: 0.6249 - val_accuracy: 0.5938\n",
      "Epoch 57/120\n",
      "3/3 [==============================] - 0s 22ms/step - loss: 0.5151 - accuracy: 0.7397 - val_loss: 0.6170 - val_accuracy: 0.5938\n",
      "Epoch 58/120\n",
      "3/3 [==============================] - 0s 21ms/step - loss: 0.5088 - accuracy: 0.7397 - val_loss: 0.6113 - val_accuracy: 0.5938\n",
      "Epoch 59/120\n",
      "3/3 [==============================] - 0s 21ms/step - loss: 0.5034 - accuracy: 0.7397 - val_loss: 0.6065 - val_accuracy: 0.5938\n",
      "Epoch 60/120\n",
      "3/3 [==============================] - 0s 21ms/step - loss: 0.4985 - accuracy: 0.7397 - val_loss: 0.6034 - val_accuracy: 0.5938\n",
      "Epoch 61/120\n",
      "3/3 [==============================] - 0s 32ms/step - loss: 0.4916 - accuracy: 0.7397 - val_loss: 0.5940 - val_accuracy: 0.5938\n",
      "Epoch 62/120\n",
      "3/3 [==============================] - 0s 21ms/step - loss: 0.4886 - accuracy: 0.7397 - val_loss: 0.5823 - val_accuracy: 0.6250\n",
      "Epoch 63/120\n",
      "3/3 [==============================] - 0s 23ms/step - loss: 0.4805 - accuracy: 0.7534 - val_loss: 0.5770 - val_accuracy: 0.6250\n",
      "Epoch 64/120\n",
      "3/3 [==============================] - 0s 20ms/step - loss: 0.4753 - accuracy: 0.7534 - val_loss: 0.5729 - val_accuracy: 0.6250\n",
      "Epoch 65/120\n",
      "3/3 [==============================] - 0s 22ms/step - loss: 0.4708 - accuracy: 0.7534 - val_loss: 0.5650 - val_accuracy: 0.6250\n",
      "Epoch 66/120\n",
      "3/3 [==============================] - 0s 21ms/step - loss: 0.4656 - accuracy: 0.7534 - val_loss: 0.5594 - val_accuracy: 0.6250\n",
      "Epoch 67/120\n",
      "3/3 [==============================] - 0s 21ms/step - loss: 0.4597 - accuracy: 0.7808 - val_loss: 0.5486 - val_accuracy: 0.6875\n",
      "Epoch 68/120\n",
      "3/3 [==============================] - 0s 21ms/step - loss: 0.4533 - accuracy: 0.7808 - val_loss: 0.5384 - val_accuracy: 0.7188\n",
      "Epoch 69/120\n",
      "3/3 [==============================] - 0s 23ms/step - loss: 0.4476 - accuracy: 0.8082 - val_loss: 0.5286 - val_accuracy: 0.7500\n",
      "Epoch 70/120\n",
      "3/3 [==============================] - 0s 20ms/step - loss: 0.4426 - accuracy: 0.8082 - val_loss: 0.5236 - val_accuracy: 0.7812\n",
      "Epoch 71/120\n",
      "3/3 [==============================] - 0s 23ms/step - loss: 0.4376 - accuracy: 0.8082 - val_loss: 0.5176 - val_accuracy: 0.7812\n",
      "Epoch 72/120\n",
      "3/3 [==============================] - 0s 21ms/step - loss: 0.4326 - accuracy: 0.8082 - val_loss: 0.5132 - val_accuracy: 0.7812\n",
      "Epoch 73/120\n",
      "3/3 [==============================] - 0s 20ms/step - loss: 0.4285 - accuracy: 0.8219 - val_loss: 0.5110 - val_accuracy: 0.7500\n",
      "Epoch 74/120\n",
      "3/3 [==============================] - 0s 21ms/step - loss: 0.4250 - accuracy: 0.7945 - val_loss: 0.5175 - val_accuracy: 0.6875\n",
      "Epoch 75/120\n",
      "3/3 [==============================] - 0s 21ms/step - loss: 0.4199 - accuracy: 0.7808 - val_loss: 0.5196 - val_accuracy: 0.6250\n",
      "Epoch 76/120\n",
      "3/3 [==============================] - 0s 22ms/step - loss: 0.4161 - accuracy: 0.7534 - val_loss: 0.5156 - val_accuracy: 0.6250\n",
      "Epoch 77/120\n",
      "3/3 [==============================] - 0s 20ms/step - loss: 0.4115 - accuracy: 0.7808 - val_loss: 0.5070 - val_accuracy: 0.6875\n",
      "Epoch 78/120\n",
      "3/3 [==============================] - 0s 19ms/step - loss: 0.4069 - accuracy: 0.7945 - val_loss: 0.4963 - val_accuracy: 0.7188\n",
      "Epoch 79/120\n",
      "3/3 [==============================] - 0s 21ms/step - loss: 0.4027 - accuracy: 0.8082 - val_loss: 0.4853 - val_accuracy: 0.8125\n",
      "Epoch 80/120\n",
      "3/3 [==============================] - 0s 25ms/step - loss: 0.4001 - accuracy: 0.8356 - val_loss: 0.4772 - val_accuracy: 0.8125\n",
      "Epoch 81/120\n",
      "3/3 [==============================] - 0s 21ms/step - loss: 0.3960 - accuracy: 0.8630 - val_loss: 0.4736 - val_accuracy: 0.8125\n",
      "Epoch 82/120\n",
      "3/3 [==============================] - 0s 20ms/step - loss: 0.3924 - accuracy: 0.8493 - val_loss: 0.4714 - val_accuracy: 0.8125\n",
      "Epoch 83/120\n",
      "3/3 [==============================] - 0s 22ms/step - loss: 0.3887 - accuracy: 0.8356 - val_loss: 0.4681 - val_accuracy: 0.8125\n",
      "Epoch 84/120\n",
      "3/3 [==============================] - 0s 23ms/step - loss: 0.3852 - accuracy: 0.8493 - val_loss: 0.4631 - val_accuracy: 0.8125\n",
      "Epoch 85/120\n",
      "3/3 [==============================] - 0s 22ms/step - loss: 0.3820 - accuracy: 0.8767 - val_loss: 0.4616 - val_accuracy: 0.8125\n",
      "Epoch 86/120\n",
      "3/3 [==============================] - 0s 23ms/step - loss: 0.3792 - accuracy: 0.8493 - val_loss: 0.4609 - val_accuracy: 0.8125\n",
      "Epoch 87/120\n",
      "3/3 [==============================] - 0s 21ms/step - loss: 0.3762 - accuracy: 0.8219 - val_loss: 0.4606 - val_accuracy: 0.8125\n",
      "Epoch 88/120\n",
      "3/3 [==============================] - 0s 21ms/step - loss: 0.3724 - accuracy: 0.8356 - val_loss: 0.4536 - val_accuracy: 0.8125\n",
      "Epoch 89/120\n",
      "3/3 [==============================] - 0s 21ms/step - loss: 0.3694 - accuracy: 0.8493 - val_loss: 0.4467 - val_accuracy: 0.8438\n",
      "Epoch 90/120\n",
      "3/3 [==============================] - 0s 21ms/step - loss: 0.3666 - accuracy: 0.8767 - val_loss: 0.4394 - val_accuracy: 0.8750\n",
      "Epoch 91/120\n",
      "3/3 [==============================] - 0s 20ms/step - loss: 0.3640 - accuracy: 0.8904 - val_loss: 0.4338 - val_accuracy: 0.8750\n",
      "Epoch 92/120\n",
      "3/3 [==============================] - 0s 22ms/step - loss: 0.3617 - accuracy: 0.8904 - val_loss: 0.4331 - val_accuracy: 0.8750\n",
      "Epoch 93/120\n",
      "3/3 [==============================] - 0s 21ms/step - loss: 0.3576 - accuracy: 0.8904 - val_loss: 0.4362 - val_accuracy: 0.8438\n",
      "Epoch 94/120\n",
      "3/3 [==============================] - 0s 21ms/step - loss: 0.3563 - accuracy: 0.8767 - val_loss: 0.4415 - val_accuracy: 0.8125\n",
      "Epoch 95/120\n",
      "3/3 [==============================] - 0s 21ms/step - loss: 0.3539 - accuracy: 0.8356 - val_loss: 0.4378 - val_accuracy: 0.8125\n",
      "Epoch 96/120\n",
      "3/3 [==============================] - 0s 20ms/step - loss: 0.3519 - accuracy: 0.8356 - val_loss: 0.4343 - val_accuracy: 0.8125\n",
      "Epoch 97/120\n",
      "3/3 [==============================] - 0s 21ms/step - loss: 0.3478 - accuracy: 0.8493 - val_loss: 0.4236 - val_accuracy: 0.8750\n",
      "Epoch 98/120\n",
      "3/3 [==============================] - 0s 21ms/step - loss: 0.3442 - accuracy: 0.8904 - val_loss: 0.4109 - val_accuracy: 0.9062\n",
      "Epoch 99/120\n",
      "3/3 [==============================] - 0s 21ms/step - loss: 0.3434 - accuracy: 0.9315 - val_loss: 0.4037 - val_accuracy: 0.9062\n",
      "Epoch 100/120\n",
      "3/3 [==============================] - 0s 23ms/step - loss: 0.3422 - accuracy: 0.9315 - val_loss: 0.4005 - val_accuracy: 0.9062\n",
      "Epoch 101/120\n",
      "3/3 [==============================] - 0s 22ms/step - loss: 0.3394 - accuracy: 0.9315 - val_loss: 0.4006 - val_accuracy: 0.9062\n",
      "Epoch 102/120\n",
      "3/3 [==============================] - 0s 21ms/step - loss: 0.3363 - accuracy: 0.9315 - val_loss: 0.4016 - val_accuracy: 0.9062\n",
      "Epoch 103/120\n",
      "3/3 [==============================] - 0s 29ms/step - loss: 0.3340 - accuracy: 0.9178 - val_loss: 0.4061 - val_accuracy: 0.8750\n",
      "Epoch 104/120\n",
      "3/3 [==============================] - 0s 21ms/step - loss: 0.3314 - accuracy: 0.8904 - val_loss: 0.4048 - val_accuracy: 0.8750\n",
      "Epoch 105/120\n",
      "3/3 [==============================] - 0s 24ms/step - loss: 0.3298 - accuracy: 0.8904 - val_loss: 0.4032 - val_accuracy: 0.8750\n",
      "Epoch 106/120\n",
      "3/3 [==============================] - 0s 23ms/step - loss: 0.3267 - accuracy: 0.8904 - val_loss: 0.3946 - val_accuracy: 0.8750\n",
      "Epoch 107/120\n",
      "3/3 [==============================] - 0s 24ms/step - loss: 0.3242 - accuracy: 0.9315 - val_loss: 0.3863 - val_accuracy: 0.9062\n",
      "Epoch 108/120\n",
      "3/3 [==============================] - 0s 19ms/step - loss: 0.3233 - accuracy: 0.9315 - val_loss: 0.3787 - val_accuracy: 0.9062\n",
      "Epoch 109/120\n",
      "3/3 [==============================] - 0s 20ms/step - loss: 0.3217 - accuracy: 0.9452 - val_loss: 0.3759 - val_accuracy: 0.9062\n",
      "Epoch 110/120\n",
      "3/3 [==============================] - 0s 21ms/step - loss: 0.3196 - accuracy: 0.9452 - val_loss: 0.3751 - val_accuracy: 0.9062\n",
      "Epoch 111/120\n",
      "3/3 [==============================] - 0s 22ms/step - loss: 0.3170 - accuracy: 0.9452 - val_loss: 0.3764 - val_accuracy: 0.9062\n",
      "Epoch 112/120\n",
      "3/3 [==============================] - 0s 21ms/step - loss: 0.3157 - accuracy: 0.9315 - val_loss: 0.3770 - val_accuracy: 0.9062\n",
      "Epoch 113/120\n",
      "3/3 [==============================] - 0s 21ms/step - loss: 0.3126 - accuracy: 0.9315 - val_loss: 0.3710 - val_accuracy: 0.9062\n",
      "Epoch 114/120\n",
      "3/3 [==============================] - 0s 20ms/step - loss: 0.3111 - accuracy: 0.9315 - val_loss: 0.3688 - val_accuracy: 0.9062\n",
      "Epoch 115/120\n",
      "3/3 [==============================] - 0s 20ms/step - loss: 0.3088 - accuracy: 0.9315 - val_loss: 0.3695 - val_accuracy: 0.9062\n",
      "Epoch 116/120\n",
      "3/3 [==============================] - 0s 21ms/step - loss: 0.3095 - accuracy: 0.9315 - val_loss: 0.3757 - val_accuracy: 0.8750\n",
      "Epoch 117/120\n",
      "3/3 [==============================] - 0s 22ms/step - loss: 0.3053 - accuracy: 0.9315 - val_loss: 0.3686 - val_accuracy: 0.9062\n",
      "Epoch 118/120\n",
      "3/3 [==============================] - 0s 19ms/step - loss: 0.3031 - accuracy: 0.9315 - val_loss: 0.3614 - val_accuracy: 0.9062\n",
      "Epoch 119/120\n",
      "3/3 [==============================] - 0s 21ms/step - loss: 0.3010 - accuracy: 0.9315 - val_loss: 0.3565 - val_accuracy: 0.9062\n",
      "Epoch 120/120\n",
      "3/3 [==============================] - 0s 20ms/step - loss: 0.2997 - accuracy: 0.9452 - val_loss: 0.3542 - val_accuracy: 0.9062\n"
     ]
    }
   ],
   "source": [
    "history = model.fit(X_train, y_train, validation_split = 0.3, batch_size=30, epochs=120)"
   ]
  },
  {
   "cell_type": "code",
   "execution_count": 23,
   "id": "08c6bca5",
   "metadata": {},
   "outputs": [
    {
     "name": "stdout",
     "output_type": "stream",
     "text": [
      "Model: \"sequential_1\"\n",
      "_________________________________________________________________\n",
      " Layer (type)                Output Shape              Param #   \n",
      "=================================================================\n",
      " conv1d (Conv1D)             (None, 3, 64)             192       \n",
      "                                                                 \n",
      " max_pooling1d (MaxPooling1D  (None, 1, 64)            0         \n",
      " )                                                               \n",
      "                                                                 \n",
      " flatten (Flatten)           (None, 64)                0         \n",
      "                                                                 \n",
      " dense_3 (Dense)             (None, 16)                1040      \n",
      "                                                                 \n",
      " dense_4 (Dense)             (None, 3)                 51        \n",
      "                                                                 \n",
      "=================================================================\n",
      "Total params: 1,283\n",
      "Trainable params: 1,283\n",
      "Non-trainable params: 0\n",
      "_________________________________________________________________\n"
     ]
    }
   ],
   "source": [
    "model.summary()"
   ]
  },
  {
   "cell_type": "code",
   "execution_count": 24,
   "id": "cf45e5a3",
   "metadata": {},
   "outputs": [
    {
     "data": {
      "text/plain": [
       "<matplotlib.legend.Legend at 0x1b932e3f640>"
      ]
     },
     "execution_count": 24,
     "metadata": {},
     "output_type": "execute_result"
    },
    {
     "data": {
      "image/png": "[encoded data removed]",
      "text/plain": [
       "<Figure size 432x288 with 1 Axes>"
      ]
     },
     "metadata": {
      "needs_background": "light"
     },
     "output_type": "display_data"
    }
   ],
   "source": [
    "plt.plot(history.history['accuracy'])\n",
    "plt.plot(history.history['val_accuracy'])\n",
    "plt.legend(['accuracy','validation accuracy'])"
   ]
  },
  {
   "cell_type": "code",
   "execution_count": 25,
   "id": "7914379b",
   "metadata": {},
   "outputs": [
    {
     "data": {
      "text/plain": [
       "<matplotlib.legend.Legend at 0x1b936b48ac0>"
      ]
     },
     "execution_count": 25,
     "metadata": {},
     "output_type": "execute_result"
    },
    {
     "data": {
      "image/png": "[encoded data removed]",
      "text/plain": [
       "<Figure size 432x288 with 1 Axes>"
      ]
     },
     "metadata": {
      "needs_background": "light"
     },
     "output_type": "display_data"
    }
   ],
   "source": [
    "plt.plot(history.history['loss'])\n",
    "plt.plot(history.history['val_loss'])\n",
    "plt.legend(['loss','validation loss'])"
   ]
  },
  {
   "cell_type": "code",
   "execution_count": 26,
   "id": "19ef67c1",
   "metadata": {},
   "outputs": [
    {
     "name": "stdout",
     "output_type": "stream",
     "text": [
      "Test loss: 0.36096835136413574\n",
      "Test accuracy: 0.8666666746139526\n"
     ]
    }
   ],
   "source": [
    "loss, accuracy = model.evaluate(X_test, y_test, verbose=0)\n",
    "print('Test loss:', loss)\n",
    "print('Test accuracy:', accuracy)"
   ]
  },
  {
   "cell_type": "code",
   "execution_count": 27,
   "id": "1654008c",
   "metadata": {
    "scrolled": true,
    "tags": []
   },
   "outputs": [
    {
     "name": "stdout",
     "output_type": "stream",
     "text": [
      "2/2 [==============================] - 0s 4ms/step\n"
     ]
    },
    {
     "data": {
      "text/plain": [
       "array([[1., 0., 0.],\n",
       "       [0., 1., 0.],\n",
       "       [0., 1., 0.],\n",
       "       [1., 0., 0.],\n",
       "       [0., 0., 1.],\n",
       "       [0., 1., 0.],\n",
       "       [0., 0., 1.],\n",
       "       [1., 0., 0.],\n",
       "       [1., 0., 0.],\n",
       "       [0., 0., 1.],\n",
       "       [0., 1., 0.],\n",
       "       [1., 0., 0.],\n",
       "       [0., 0., 1.],\n",
       "       [0., 1., 0.],\n",
       "       [0., 1., 0.],\n",
       "       [1., 0., 0.],\n",
       "       [0., 1., 0.],\n",
       "       [0., 0., 1.],\n",
       "       [1., 0., 0.],\n",
       "       [1., 0., 0.],\n",
       "       [0., 0., 1.],\n",
       "       [0., 0., 1.],\n",
       "       [0., 0., 1.],\n",
       "       [1., 0., 0.],\n",
       "       [0., 0., 1.],\n",
       "       [0., 1., 0.],\n",
       "       [1., 0., 0.],\n",
       "       [1., 0., 0.],\n",
       "       [0., 0., 1.],\n",
       "       [0., 0., 1.],\n",
       "       [0., 1., 0.],\n",
       "       [0., 0., 1.],\n",
       "       [0., 1., 0.],\n",
       "       [0., 0., 1.],\n",
       "       [0., 0., 1.],\n",
       "       [1., 0., 0.],\n",
       "       [0., 0., 1.],\n",
       "       [1., 0., 0.],\n",
       "       [0., 1., 0.],\n",
       "       [0., 0., 1.],\n",
       "       [0., 0., 1.],\n",
       "       [1., 0., 0.],\n",
       "       [0., 0., 1.],\n",
       "       [0., 0., 1.],\n",
       "       [0., 1., 0.]], dtype=float32)"
      ]
     },
     "execution_count": 27,
     "metadata": {},
     "output_type": "execute_result"
    }
   ],
   "source": [
    "y_pred = model.predict(X_test)\n",
    "y_pred = np.round(y_pred)\n",
    "y_pred"
   ]
  },
  {
   "cell_type": "code",
   "execution_count": 28,
   "id": "0744e959",
   "metadata": {},
   "outputs": [
    {
     "data": {
      "text/plain": [
       "0.8666666666666667"
      ]
     },
     "execution_count": 28,
     "metadata": {},
     "output_type": "execute_result"
    }
   ],
   "source": [
    "from sklearn.metrics import accuracy_score\n",
    "pred_accuracy = accuracy_score(y_pred, y_test)\n",
    "pred_accuracy"
   ]
  },
  {
   "cell_type": "code",
   "execution_count": 29,
   "id": "a3b4924c",
   "metadata": {},
   "outputs": [
    {
     "name": "stdout",
     "output_type": "stream",
     "text": [
      "Actual: [0 1 1 0 2 1 2 0 0 2 1 0 2 1 1 0 1 1 0 0 1 1 1 0 2 1 0 0 1 2 1 2 1 2 2 0 1\n",
      " 0 1 2 2 0 2 2 1]\n",
      "Predicted: [0 1 1 0 2 1 2 0 0 2 1 0 2 1 1 0 1 2 0 0 2 2 2 0 2 1 0 0 2 2 1 2 1 2 2 0 2\n",
      " 0 1 2 2 0 2 2 1]\n"
     ]
    }
   ],
   "source": [
    "actual = np.argmax(y_test,axis=1)\n",
    "predicted = np.argmax(y_pred,axis=1)\n",
    "print(\"Actual: {}\".format(actual))\n",
    "print(\"Predicted: {}\".format(predicted))"
   ]
  },
  {
   "cell_type": "code",
   "execution_count": 30,
   "id": "82729cb8-12d7-455f-b065-9792b9c1fa7a",
   "metadata": {},
   "outputs": [
    {
     "name": "stdout",
     "output_type": "stream",
     "text": [
      "                 precision    recall  f1-score   support\n",
      "\n",
      "    Iris-setosa       1.00      1.00      1.00        14\n",
      "Iris-versicolor       1.00      0.67      0.80        18\n",
      " Iris-virginica       0.68      1.00      0.81        13\n",
      "\n",
      "      micro avg       0.87      0.87      0.87        45\n",
      "      macro avg       0.89      0.89      0.87        45\n",
      "   weighted avg       0.91      0.87      0.87        45\n",
      "    samples avg       0.87      0.87      0.87        45\n",
      "\n"
     ]
    }
   ],
   "source": [
    "from sklearn.metrics import classification_report\n",
    "target_names = ['Iris-setosa', 'Iris-versicolor', 'Iris-virginica']\n",
    "print(classification_report(y_test, y_pred, target_names=target_names))"
   ]
  },
  {
   "cell_type": "markdown",
   "id": "c834ffc6-9e5a-4c01-b756-27d2f8262625",
   "metadata": {
    "tags": []
   },
   "source": [
    "## Using Tensorflow Recurrent Neural Networks (Vanilla RNN)"
   ]
  },
  {
   "cell_type": "code",
   "execution_count": 31,
   "id": "f990d064-2ab6-4017-b589-6d16af8b4479",
   "metadata": {},
   "outputs": [],
   "source": [
    "model = tf.keras.Sequential([\n",
    "    tf.keras.layers.SimpleRNN(64, activation='relu', input_shape=(4,1)),\n",
    "    tf.keras.layers.Dense(16, activation='relu'),\n",
    "    tf.keras.layers.Dense(3, activation='softmax')\n",
    "])"
   ]
  },
  {
   "cell_type": "code",
   "execution_count": 32,
   "id": "587b6b8d-c813-49e2-a583-119752bc1f4e",
   "metadata": {},
   "outputs": [],
   "source": [
    "model.compile(optimizer='adam',\n",
    "              loss='categorical_crossentropy',\n",
    "              metrics=['accuracy'])"
   ]
  },
  {
   "cell_type": "code",
   "execution_count": 33,
   "id": "922a5e1c-25ac-4937-a9be-3f208ecfcc1e",
   "metadata": {},
   "outputs": [
    {
     "name": "stdout",
     "output_type": "stream",
     "text": [
      "Epoch 1/120\n",
      "3/3 [==============================] - 1s 124ms/step - loss: 1.0984 - accuracy: 0.4110 - val_loss: 1.0731 - val_accuracy: 0.5938\n",
      "Epoch 2/120\n",
      "3/3 [==============================] - 0s 28ms/step - loss: 1.0129 - accuracy: 0.7397 - val_loss: 1.0512 - val_accuracy: 0.5938\n",
      "Epoch 3/120\n",
      "3/3 [==============================] - 0s 27ms/step - loss: 0.9557 - accuracy: 0.7397 - val_loss: 1.0076 - val_accuracy: 0.5938\n",
      "Epoch 4/120\n",
      "3/3 [==============================] - 0s 29ms/step - loss: 0.8992 - accuracy: 0.7397 - val_loss: 0.9730 - val_accuracy: 0.5938\n",
      "Epoch 5/120\n",
      "3/3 [==============================] - 0s 27ms/step - loss: 0.8523 - accuracy: 0.7397 - val_loss: 0.9387 - val_accuracy: 0.5938\n",
      "Epoch 6/120\n",
      "3/3 [==============================] - 0s 27ms/step - loss: 0.8135 - accuracy: 0.7397 - val_loss: 0.8879 - val_accuracy: 0.5938\n",
      "Epoch 7/120\n",
      "3/3 [==============================] - 0s 27ms/step - loss: 0.7695 - accuracy: 0.7397 - val_loss: 0.8482 - val_accuracy: 0.5938\n",
      "Epoch 8/120\n",
      "3/3 [==============================] - 0s 28ms/step - loss: 0.7292 - accuracy: 0.7397 - val_loss: 0.8125 - val_accuracy: 0.5938\n",
      "Epoch 9/120\n",
      "3/3 [==============================] - 0s 24ms/step - loss: 0.6879 - accuracy: 0.7397 - val_loss: 0.7505 - val_accuracy: 0.5938\n",
      "Epoch 10/120\n",
      "3/3 [==============================] - 0s 26ms/step - loss: 0.6471 - accuracy: 0.7534 - val_loss: 0.7036 - val_accuracy: 0.8125\n",
      "Epoch 11/120\n",
      "3/3 [==============================] - 0s 26ms/step - loss: 0.6240 - accuracy: 0.9178 - val_loss: 0.6744 - val_accuracy: 0.8750\n",
      "Epoch 12/120\n",
      "3/3 [==============================] - 0s 36ms/step - loss: 0.5842 - accuracy: 0.8904 - val_loss: 0.6698 - val_accuracy: 0.5938\n",
      "Epoch 13/120\n",
      "3/3 [==============================] - 0s 26ms/step - loss: 0.5556 - accuracy: 0.7397 - val_loss: 0.6871 - val_accuracy: 0.5938\n",
      "Epoch 14/120\n",
      "3/3 [==============================] - 0s 26ms/step - loss: 0.5394 - accuracy: 0.7397 - val_loss: 0.6616 - val_accuracy: 0.5938\n",
      "Epoch 15/120\n",
      "3/3 [==============================] - 0s 26ms/step - loss: 0.5083 - accuracy: 0.7397 - val_loss: 0.6102 - val_accuracy: 0.5938\n",
      "Epoch 16/120\n",
      "3/3 [==============================] - 0s 27ms/step - loss: 0.4750 - accuracy: 0.7671 - val_loss: 0.5538 - val_accuracy: 0.9062\n",
      "Epoch 17/120\n",
      "3/3 [==============================] - 0s 26ms/step - loss: 0.4629 - accuracy: 0.9452 - val_loss: 0.5125 - val_accuracy: 0.9375\n",
      "Epoch 18/120\n",
      "3/3 [==============================] - 0s 28ms/step - loss: 0.4428 - accuracy: 0.9726 - val_loss: 0.4904 - val_accuracy: 0.9062\n",
      "Epoch 19/120\n",
      "3/3 [==============================] - 0s 27ms/step - loss: 0.4196 - accuracy: 0.8904 - val_loss: 0.4942 - val_accuracy: 0.7500\n",
      "Epoch 20/120\n",
      "3/3 [==============================] - 0s 26ms/step - loss: 0.4008 - accuracy: 0.8767 - val_loss: 0.4681 - val_accuracy: 0.8750\n",
      "Epoch 21/120\n",
      "3/3 [==============================] - 0s 26ms/step - loss: 0.3766 - accuracy: 0.8904 - val_loss: 0.4430 - val_accuracy: 0.9375\n",
      "Epoch 22/120\n",
      "3/3 [==============================] - 0s 26ms/step - loss: 0.3685 - accuracy: 0.9726 - val_loss: 0.4213 - val_accuracy: 0.9375\n",
      "Epoch 23/120\n",
      "3/3 [==============================] - 0s 25ms/step - loss: 0.3501 - accuracy: 0.9315 - val_loss: 0.4279 - val_accuracy: 0.8438\n",
      "Epoch 24/120\n",
      "3/3 [==============================] - 0s 26ms/step - loss: 0.3342 - accuracy: 0.8767 - val_loss: 0.3936 - val_accuracy: 0.9062\n",
      "Epoch 25/120\n",
      "3/3 [==============================] - 0s 26ms/step - loss: 0.3229 - accuracy: 0.9452 - val_loss: 0.3637 - val_accuracy: 0.9375\n",
      "Epoch 26/120\n",
      "3/3 [==============================] - 0s 28ms/step - loss: 0.3048 - accuracy: 0.9589 - val_loss: 0.3724 - val_accuracy: 0.9062\n",
      "Epoch 27/120\n",
      "3/3 [==============================] - 0s 25ms/step - loss: 0.2962 - accuracy: 0.9178 - val_loss: 0.3585 - val_accuracy: 0.9062\n",
      "Epoch 28/120\n",
      "3/3 [==============================] - 0s 28ms/step - loss: 0.2837 - accuracy: 0.9452 - val_loss: 0.3294 - val_accuracy: 0.9375\n",
      "Epoch 29/120\n",
      "3/3 [==============================] - 0s 26ms/step - loss: 0.2702 - accuracy: 0.9726 - val_loss: 0.3230 - val_accuracy: 0.9062\n",
      "Epoch 30/120\n",
      "3/3 [==============================] - 0s 29ms/step - loss: 0.2601 - accuracy: 0.9589 - val_loss: 0.3125 - val_accuracy: 0.9062\n",
      "Epoch 31/120\n",
      "3/3 [==============================] - 0s 26ms/step - loss: 0.2497 - accuracy: 0.9589 - val_loss: 0.3066 - val_accuracy: 0.9062\n",
      "Epoch 32/120\n",
      "3/3 [==============================] - 0s 25ms/step - loss: 0.2418 - accuracy: 0.9589 - val_loss: 0.2851 - val_accuracy: 0.9375\n",
      "Epoch 33/120\n",
      "3/3 [==============================] - 0s 27ms/step - loss: 0.2314 - accuracy: 0.9726 - val_loss: 0.2685 - val_accuracy: 0.9688\n",
      "Epoch 34/120\n",
      "3/3 [==============================] - 0s 27ms/step - loss: 0.2246 - accuracy: 0.9726 - val_loss: 0.2649 - val_accuracy: 0.9375\n",
      "Epoch 35/120\n",
      "3/3 [==============================] - 0s 26ms/step - loss: 0.2162 - accuracy: 0.9726 - val_loss: 0.2533 - val_accuracy: 0.9375\n",
      "Epoch 36/120\n",
      "3/3 [==============================] - 0s 27ms/step - loss: 0.2067 - accuracy: 0.9589 - val_loss: 0.2458 - val_accuracy: 0.9375\n",
      "Epoch 37/120\n",
      "3/3 [==============================] - 0s 26ms/step - loss: 0.2038 - accuracy: 0.9726 - val_loss: 0.2277 - val_accuracy: 0.9688\n",
      "Epoch 38/120\n",
      "3/3 [==============================] - 0s 25ms/step - loss: 0.1896 - accuracy: 0.9726 - val_loss: 0.2400 - val_accuracy: 0.9062\n",
      "Epoch 39/120\n",
      "3/3 [==============================] - 0s 26ms/step - loss: 0.2029 - accuracy: 0.9589 - val_loss: 0.2094 - val_accuracy: 0.9688\n",
      "Epoch 40/120\n",
      "3/3 [==============================] - 0s 25ms/step - loss: 0.1808 - accuracy: 0.9589 - val_loss: 0.1983 - val_accuracy: 0.9688\n",
      "Epoch 41/120\n",
      "3/3 [==============================] - 0s 24ms/step - loss: 0.1868 - accuracy: 0.9589 - val_loss: 0.2252 - val_accuracy: 0.9062\n",
      "Epoch 42/120\n",
      "3/3 [==============================] - 0s 27ms/step - loss: 0.1811 - accuracy: 0.9589 - val_loss: 0.1826 - val_accuracy: 0.9688\n",
      "Epoch 43/120\n",
      "3/3 [==============================] - 0s 25ms/step - loss: 0.1626 - accuracy: 0.9726 - val_loss: 0.1791 - val_accuracy: 0.9688\n",
      "Epoch 44/120\n",
      "3/3 [==============================] - 0s 29ms/step - loss: 0.1580 - accuracy: 0.9726 - val_loss: 0.1688 - val_accuracy: 0.9688\n",
      "Epoch 45/120\n",
      "3/3 [==============================] - 0s 28ms/step - loss: 0.1585 - accuracy: 0.9726 - val_loss: 0.1621 - val_accuracy: 0.9688\n",
      "Epoch 46/120\n",
      "3/3 [==============================] - 0s 29ms/step - loss: 0.1494 - accuracy: 0.9726 - val_loss: 0.1548 - val_accuracy: 1.0000\n",
      "Epoch 47/120\n",
      "3/3 [==============================] - 0s 27ms/step - loss: 0.1528 - accuracy: 0.9589 - val_loss: 0.1648 - val_accuracy: 0.9688\n",
      "Epoch 48/120\n",
      "3/3 [==============================] - 0s 35ms/step - loss: 0.1481 - accuracy: 0.9726 - val_loss: 0.1505 - val_accuracy: 0.9688\n",
      "Epoch 49/120\n",
      "3/3 [==============================] - 0s 27ms/step - loss: 0.1635 - accuracy: 0.9178 - val_loss: 0.1445 - val_accuracy: 0.9688\n",
      "Epoch 50/120\n",
      "3/3 [==============================] - 0s 31ms/step - loss: 0.1562 - accuracy: 0.9589 - val_loss: 0.1862 - val_accuracy: 0.9062\n",
      "Epoch 51/120\n",
      "3/3 [==============================] - 0s 28ms/step - loss: 0.1363 - accuracy: 0.9726 - val_loss: 0.1536 - val_accuracy: 0.9688\n",
      "Epoch 52/120\n",
      "3/3 [==============================] - 0s 30ms/step - loss: 0.1859 - accuracy: 0.9041 - val_loss: 0.1412 - val_accuracy: 0.9688\n",
      "Epoch 53/120\n",
      "3/3 [==============================] - 0s 26ms/step - loss: 0.1429 - accuracy: 0.9726 - val_loss: 0.2199 - val_accuracy: 0.9062\n",
      "Epoch 54/120\n",
      "3/3 [==============================] - 0s 27ms/step - loss: 0.1601 - accuracy: 0.9589 - val_loss: 0.1325 - val_accuracy: 0.9688\n",
      "Epoch 55/120\n",
      "3/3 [==============================] - 0s 26ms/step - loss: 0.1410 - accuracy: 0.9452 - val_loss: 0.1299 - val_accuracy: 0.9688\n",
      "Epoch 56/120\n",
      "3/3 [==============================] - 0s 28ms/step - loss: 0.1464 - accuracy: 0.9589 - val_loss: 0.1772 - val_accuracy: 0.9062\n",
      "Epoch 57/120\n",
      "3/3 [==============================] - 0s 28ms/step - loss: 0.1450 - accuracy: 0.9589 - val_loss: 0.1349 - val_accuracy: 0.9688\n",
      "Epoch 58/120\n",
      "3/3 [==============================] - 0s 28ms/step - loss: 0.1271 - accuracy: 0.9726 - val_loss: 0.1243 - val_accuracy: 0.9688\n",
      "Epoch 59/120\n",
      "3/3 [==============================] - 0s 29ms/step - loss: 0.1388 - accuracy: 0.9452 - val_loss: 0.1295 - val_accuracy: 0.9688\n",
      "Epoch 60/120\n",
      "3/3 [==============================] - 0s 29ms/step - loss: 0.1277 - accuracy: 0.9589 - val_loss: 0.1698 - val_accuracy: 0.9062\n",
      "Epoch 61/120\n",
      "3/3 [==============================] - 0s 27ms/step - loss: 0.1383 - accuracy: 0.9726 - val_loss: 0.1215 - val_accuracy: 0.9688\n",
      "Epoch 62/120\n",
      "3/3 [==============================] - 0s 31ms/step - loss: 0.1244 - accuracy: 0.9726 - val_loss: 0.1194 - val_accuracy: 0.9688\n",
      "Epoch 63/120\n",
      "3/3 [==============================] - 0s 27ms/step - loss: 0.1210 - accuracy: 0.9726 - val_loss: 0.1405 - val_accuracy: 0.9375\n",
      "Epoch 64/120\n",
      "3/3 [==============================] - 0s 27ms/step - loss: 0.1260 - accuracy: 0.9726 - val_loss: 0.1162 - val_accuracy: 0.9688\n",
      "Epoch 65/120\n",
      "3/3 [==============================] - 0s 28ms/step - loss: 0.1272 - accuracy: 0.9726 - val_loss: 0.1117 - val_accuracy: 0.9688\n",
      "Epoch 66/120\n",
      "3/3 [==============================] - 0s 26ms/step - loss: 0.1181 - accuracy: 0.9726 - val_loss: 0.1337 - val_accuracy: 0.9688\n",
      "Epoch 67/120\n",
      "3/3 [==============================] - 0s 27ms/step - loss: 0.1291 - accuracy: 0.9589 - val_loss: 0.1382 - val_accuracy: 0.9375\n",
      "Epoch 68/120\n",
      "3/3 [==============================] - 0s 28ms/step - loss: 0.1155 - accuracy: 0.9726 - val_loss: 0.1151 - val_accuracy: 1.0000\n",
      "Epoch 69/120\n",
      "3/3 [==============================] - 0s 32ms/step - loss: 0.1443 - accuracy: 0.9178 - val_loss: 0.1077 - val_accuracy: 0.9688\n",
      "Epoch 70/120\n",
      "3/3 [==============================] - 0s 31ms/step - loss: 0.1258 - accuracy: 0.9726 - val_loss: 0.1384 - val_accuracy: 0.9375\n",
      "Epoch 71/120\n",
      "3/3 [==============================] - 0s 29ms/step - loss: 0.1213 - accuracy: 0.9726 - val_loss: 0.1070 - val_accuracy: 0.9688\n",
      "Epoch 72/120\n",
      "3/3 [==============================] - 0s 29ms/step - loss: 0.1215 - accuracy: 0.9726 - val_loss: 0.1114 - val_accuracy: 0.9688\n",
      "Epoch 73/120\n",
      "3/3 [==============================] - 0s 27ms/step - loss: 0.1151 - accuracy: 0.9726 - val_loss: 0.1342 - val_accuracy: 0.9375\n",
      "Epoch 74/120\n",
      "3/3 [==============================] - 0s 27ms/step - loss: 0.1243 - accuracy: 0.9589 - val_loss: 0.1124 - val_accuracy: 0.9688\n",
      "Epoch 75/120\n",
      "3/3 [==============================] - 0s 26ms/step - loss: 0.1173 - accuracy: 0.9726 - val_loss: 0.1057 - val_accuracy: 1.0000\n",
      "Epoch 76/120\n",
      "3/3 [==============================] - 0s 27ms/step - loss: 0.1213 - accuracy: 0.9589 - val_loss: 0.1187 - val_accuracy: 0.9688\n",
      "Epoch 77/120\n",
      "3/3 [==============================] - 0s 30ms/step - loss: 0.1193 - accuracy: 0.9589 - val_loss: 0.1271 - val_accuracy: 0.9688\n",
      "Epoch 78/120\n",
      "3/3 [==============================] - 0s 28ms/step - loss: 0.1167 - accuracy: 0.9726 - val_loss: 0.1016 - val_accuracy: 0.9688\n",
      "Epoch 79/120\n",
      "3/3 [==============================] - 0s 28ms/step - loss: 0.1365 - accuracy: 0.9178 - val_loss: 0.1021 - val_accuracy: 1.0000\n",
      "Epoch 80/120\n",
      "3/3 [==============================] - 0s 27ms/step - loss: 0.1165 - accuracy: 0.9726 - val_loss: 0.1186 - val_accuracy: 0.9688\n",
      "Epoch 81/120\n",
      "3/3 [==============================] - 0s 28ms/step - loss: 0.1249 - accuracy: 0.9726 - val_loss: 0.1127 - val_accuracy: 0.9688\n",
      "Epoch 82/120\n",
      "3/3 [==============================] - 0s 29ms/step - loss: 0.1243 - accuracy: 0.9452 - val_loss: 0.1035 - val_accuracy: 1.0000\n",
      "Epoch 83/120\n",
      "3/3 [==============================] - 0s 27ms/step - loss: 0.1113 - accuracy: 0.9726 - val_loss: 0.1384 - val_accuracy: 0.9375\n",
      "Epoch 84/120\n",
      "3/3 [==============================] - 0s 30ms/step - loss: 0.1348 - accuracy: 0.9589 - val_loss: 0.1346 - val_accuracy: 0.9375\n",
      "Epoch 85/120\n",
      "3/3 [==============================] - 0s 30ms/step - loss: 0.1124 - accuracy: 0.9726 - val_loss: 0.0996 - val_accuracy: 0.9688\n",
      "Epoch 86/120\n",
      "3/3 [==============================] - 0s 28ms/step - loss: 0.1254 - accuracy: 0.9178 - val_loss: 0.0995 - val_accuracy: 0.9688\n",
      "Epoch 87/120\n",
      "3/3 [==============================] - 0s 27ms/step - loss: 0.1049 - accuracy: 0.9589 - val_loss: 0.1428 - val_accuracy: 0.9375\n",
      "Epoch 88/120\n",
      "3/3 [==============================] - 0s 29ms/step - loss: 0.1367 - accuracy: 0.9589 - val_loss: 0.1243 - val_accuracy: 0.9375\n",
      "Epoch 89/120\n",
      "3/3 [==============================] - 0s 27ms/step - loss: 0.1276 - accuracy: 0.9589 - val_loss: 0.1060 - val_accuracy: 1.0000\n",
      "Epoch 90/120\n",
      "3/3 [==============================] - 0s 28ms/step - loss: 0.1194 - accuracy: 0.9315 - val_loss: 0.1163 - val_accuracy: 0.9688\n",
      "Epoch 91/120\n",
      "3/3 [==============================] - 0s 29ms/step - loss: 0.1349 - accuracy: 0.9589 - val_loss: 0.1385 - val_accuracy: 0.9375\n",
      "Epoch 92/120\n",
      "3/3 [==============================] - 0s 27ms/step - loss: 0.1231 - accuracy: 0.9589 - val_loss: 0.0978 - val_accuracy: 0.9688\n",
      "Epoch 93/120\n",
      "3/3 [==============================] - 0s 28ms/step - loss: 0.1144 - accuracy: 0.9589 - val_loss: 0.1059 - val_accuracy: 0.9688\n",
      "Epoch 94/120\n",
      "3/3 [==============================] - 0s 27ms/step - loss: 0.1096 - accuracy: 0.9726 - val_loss: 0.1055 - val_accuracy: 0.9688\n",
      "Epoch 95/120\n",
      "3/3 [==============================] - 0s 30ms/step - loss: 0.1095 - accuracy: 0.9726 - val_loss: 0.0918 - val_accuracy: 0.9688\n",
      "Epoch 96/120\n",
      "3/3 [==============================] - 0s 27ms/step - loss: 0.1157 - accuracy: 0.9452 - val_loss: 0.0928 - val_accuracy: 0.9688\n",
      "Epoch 97/120\n",
      "3/3 [==============================] - 0s 28ms/step - loss: 0.0977 - accuracy: 0.9726 - val_loss: 0.1377 - val_accuracy: 0.9062\n",
      "Epoch 98/120\n",
      "3/3 [==============================] - 0s 28ms/step - loss: 0.1174 - accuracy: 0.9589 - val_loss: 0.1057 - val_accuracy: 0.9688\n",
      "Epoch 99/120\n",
      "3/3 [==============================] - 0s 31ms/step - loss: 0.1290 - accuracy: 0.9452 - val_loss: 0.0873 - val_accuracy: 0.9688\n",
      "Epoch 100/120\n",
      "3/3 [==============================] - 0s 26ms/step - loss: 0.1081 - accuracy: 0.9726 - val_loss: 0.1219 - val_accuracy: 0.9688\n",
      "Epoch 101/120\n",
      "3/3 [==============================] - 0s 29ms/step - loss: 0.1121 - accuracy: 0.9726 - val_loss: 0.0988 - val_accuracy: 0.9688\n",
      "Epoch 102/120\n",
      "3/3 [==============================] - 0s 28ms/step - loss: 0.1032 - accuracy: 0.9726 - val_loss: 0.0967 - val_accuracy: 0.9688\n",
      "Epoch 103/120\n",
      "3/3 [==============================] - 0s 28ms/step - loss: 0.1026 - accuracy: 0.9726 - val_loss: 0.0964 - val_accuracy: 0.9688\n",
      "Epoch 104/120\n",
      "3/3 [==============================] - 0s 27ms/step - loss: 0.1013 - accuracy: 0.9726 - val_loss: 0.1027 - val_accuracy: 0.9688\n",
      "Epoch 105/120\n",
      "3/3 [==============================] - 0s 35ms/step - loss: 0.1025 - accuracy: 0.9726 - val_loss: 0.0871 - val_accuracy: 0.9688\n",
      "Epoch 106/120\n",
      "3/3 [==============================] - 0s 28ms/step - loss: 0.1045 - accuracy: 0.9726 - val_loss: 0.0891 - val_accuracy: 0.9688\n",
      "Epoch 107/120\n",
      "3/3 [==============================] - 0s 28ms/step - loss: 0.0990 - accuracy: 0.9726 - val_loss: 0.1088 - val_accuracy: 0.9688\n",
      "Epoch 108/120\n",
      "3/3 [==============================] - 0s 28ms/step - loss: 0.1199 - accuracy: 0.9589 - val_loss: 0.1137 - val_accuracy: 0.9688\n",
      "Epoch 109/120\n",
      "3/3 [==============================] - 0s 29ms/step - loss: 0.1038 - accuracy: 0.9726 - val_loss: 0.0872 - val_accuracy: 0.9688\n",
      "Epoch 110/120\n",
      "3/3 [==============================] - 0s 29ms/step - loss: 0.1462 - accuracy: 0.9041 - val_loss: 0.1001 - val_accuracy: 0.9688\n",
      "Epoch 111/120\n",
      "3/3 [==============================] - 0s 31ms/step - loss: 0.1263 - accuracy: 0.9726 - val_loss: 0.1525 - val_accuracy: 0.9062\n",
      "Epoch 112/120\n",
      "3/3 [==============================] - 0s 27ms/step - loss: 0.1242 - accuracy: 0.9589 - val_loss: 0.1196 - val_accuracy: 0.9375\n",
      "Epoch 113/120\n",
      "3/3 [==============================] - 0s 31ms/step - loss: 0.1068 - accuracy: 0.9726 - val_loss: 0.0943 - val_accuracy: 0.9688\n",
      "Epoch 114/120\n",
      "3/3 [==============================] - 0s 29ms/step - loss: 0.1004 - accuracy: 0.9726 - val_loss: 0.0897 - val_accuracy: 0.9688\n",
      "Epoch 115/120\n",
      "3/3 [==============================] - 0s 29ms/step - loss: 0.1019 - accuracy: 0.9726 - val_loss: 0.0943 - val_accuracy: 0.9688\n",
      "Epoch 116/120\n",
      "3/3 [==============================] - 0s 31ms/step - loss: 0.1091 - accuracy: 0.9726 - val_loss: 0.1074 - val_accuracy: 0.9688\n",
      "Epoch 117/120\n",
      "3/3 [==============================] - 0s 29ms/step - loss: 0.0979 - accuracy: 0.9726 - val_loss: 0.0799 - val_accuracy: 0.9688\n",
      "Epoch 118/120\n",
      "3/3 [==============================] - 0s 30ms/step - loss: 0.1169 - accuracy: 0.9315 - val_loss: 0.0903 - val_accuracy: 0.9688\n",
      "Epoch 119/120\n",
      "3/3 [==============================] - 0s 28ms/step - loss: 0.1210 - accuracy: 0.9726 - val_loss: 0.1582 - val_accuracy: 0.9062\n",
      "Epoch 120/120\n",
      "3/3 [==============================] - 0s 28ms/step - loss: 0.1225 - accuracy: 0.9726 - val_loss: 0.0938 - val_accuracy: 0.9688\n"
     ]
    }
   ],
   "source": [
    "history = model.fit(X_train, y_train, validation_split = 0.3, batch_size=30, epochs=120)"
   ]
  },
  {
   "cell_type": "code",
   "execution_count": 34,
   "id": "f292d383-4b4c-4649-9932-bffbe25cf4ad",
   "metadata": {},
   "outputs": [
    {
     "name": "stdout",
     "output_type": "stream",
     "text": [
      "Model: \"sequential_2\"\n",
      "_________________________________________________________________\n",
      " Layer (type)                Output Shape              Param #   \n",
      "=================================================================\n",
      " simple_rnn (SimpleRNN)      (None, 64)                4224      \n",
      "                                                                 \n",
      " dense_5 (Dense)             (None, 16)                1040      \n",
      "                                                                 \n",
      " dense_6 (Dense)             (None, 3)                 51        \n",
      "                                                                 \n",
      "=================================================================\n",
      "Total params: 5,315\n",
      "Trainable params: 5,315\n",
      "Non-trainable params: 0\n",
      "_________________________________________________________________\n"
     ]
    }
   ],
   "source": [
    "model.summary()"
   ]
  },
  {
   "cell_type": "code",
   "execution_count": 35,
   "id": "123609a1-69d7-4740-8edf-386ad3f3abab",
   "metadata": {},
   "outputs": [
    {
     "data": {
      "text/plain": [
       "<matplotlib.legend.Legend at 0x1b8e44184c0>"
      ]
     },
     "execution_count": 35,
     "metadata": {},
     "output_type": "execute_result"
    },
    {
     "data": {
      "image/png": "[encoded data removed]",
      "text/plain": [
       "<Figure size 432x288 with 1 Axes>"
      ]
     },
     "metadata": {
      "needs_background": "light"
     },
     "output_type": "display_data"
    }
   ],
   "source": [
    "plt.plot(history.history['accuracy'])\n",
    "plt.plot(history.history['val_accuracy'])\n",
    "plt.legend(['accuracy','validation accuracy'])"
   ]
  },
  {
   "cell_type": "code",
   "execution_count": 36,
   "id": "782d2257-54dc-4ce6-9c1e-348e2d679338",
   "metadata": {},
   "outputs": [
    {
     "data": {
      "text/plain": [
       "<matplotlib.legend.Legend at 0x1b8fb756400>"
      ]
     },
     "execution_count": 36,
     "metadata": {},
     "output_type": "execute_result"
    },
    {
     "data": {
      "image/png": "[encoded data removed]",
      "text/plain": [
       "<Figure size 432x288 with 1 Axes>"
      ]
     },
     "metadata": {
      "needs_background": "light"
     },
     "output_type": "display_data"
    }
   ],
   "source": [
    "plt.plot(history.history['loss'])\n",
    "plt.plot(history.history['val_loss'])\n",
    "plt.legend(['loss','validation loss'])"
   ]
  },
  {
   "cell_type": "code",
   "execution_count": 37,
   "id": "7fec6da7-ac56-4f9e-9422-bb1f70bbc926",
   "metadata": {},
   "outputs": [
    {
     "name": "stdout",
     "output_type": "stream",
     "text": [
      "Test loss: 0.08966762572526932\n",
      "Test accuracy: 1.0\n"
     ]
    }
   ],
   "source": [
    "loss, accuracy = model.evaluate(X_test, y_test, verbose=0)\n",
    "print('Test loss:', loss)\n",
    "print('Test accuracy:', accuracy)"
   ]
  },
  {
   "cell_type": "code",
   "execution_count": 38,
   "id": "c9aa53f0-2559-4977-be01-b768134f9bcd",
   "metadata": {
    "scrolled": true,
    "tags": []
   },
   "outputs": [
    {
     "name": "stdout",
     "output_type": "stream",
     "text": [
      "2/2 [==============================] - 0s 5ms/step\n"
     ]
    },
    {
     "data": {
      "text/plain": [
       "array([[1., 0., 0.],\n",
       "       [0., 1., 0.],\n",
       "       [0., 1., 0.],\n",
       "       [1., 0., 0.],\n",
       "       [0., 0., 1.],\n",
       "       [0., 1., 0.],\n",
       "       [0., 0., 1.],\n",
       "       [1., 0., 0.],\n",
       "       [1., 0., 0.],\n",
       "       [0., 0., 1.],\n",
       "       [0., 1., 0.],\n",
       "       [1., 0., 0.],\n",
       "       [0., 0., 1.],\n",
       "       [0., 1., 0.],\n",
       "       [0., 1., 0.],\n",
       "       [1., 0., 0.],\n",
       "       [0., 1., 0.],\n",
       "       [0., 1., 0.],\n",
       "       [1., 0., 0.],\n",
       "       [1., 0., 0.],\n",
       "       [0., 1., 0.],\n",
       "       [0., 1., 0.],\n",
       "       [0., 1., 0.],\n",
       "       [1., 0., 0.],\n",
       "       [0., 0., 1.],\n",
       "       [0., 1., 0.],\n",
       "       [1., 0., 0.],\n",
       "       [1., 0., 0.],\n",
       "       [0., 1., 0.],\n",
       "       [0., 0., 1.],\n",
       "       [0., 1., 0.],\n",
       "       [0., 0., 1.],\n",
       "       [0., 1., 0.],\n",
       "       [0., 0., 1.],\n",
       "       [0., 0., 1.],\n",
       "       [1., 0., 0.],\n",
       "       [0., 1., 0.],\n",
       "       [1., 0., 0.],\n",
       "       [0., 1., 0.],\n",
       "       [0., 0., 1.],\n",
       "       [0., 0., 1.],\n",
       "       [1., 0., 0.],\n",
       "       [0., 0., 1.],\n",
       "       [0., 0., 1.],\n",
       "       [0., 1., 0.]], dtype=float32)"
      ]
     },
     "execution_count": 38,
     "metadata": {},
     "output_type": "execute_result"
    }
   ],
   "source": [
    "y_pred = model.predict(X_test)\n",
    "y_pred = np.round(y_pred)\n",
    "y_pred"
   ]
  },
  {
   "cell_type": "code",
   "execution_count": 39,
   "id": "4bd9d140-7b26-42d0-a5b2-09de42e6f0d4",
   "metadata": {},
   "outputs": [
    {
     "data": {
      "text/plain": [
       "1.0"
      ]
     },
     "execution_count": 39,
     "metadata": {},
     "output_type": "execute_result"
    }
   ],
   "source": [
    "from sklearn.metrics import accuracy_score\n",
    "pred_accuracy = accuracy_score(y_pred, y_test)\n",
    "pred_accuracy"
   ]
  },
  {
   "cell_type": "code",
   "execution_count": 40,
   "id": "2b08de2f-63e6-461f-ba04-7044ea8597ba",
   "metadata": {},
   "outputs": [
    {
     "name": "stdout",
     "output_type": "stream",
     "text": [
      "Actual: [0 1 1 0 2 1 2 0 0 2 1 0 2 1 1 0 1 1 0 0 1 1 1 0 2 1 0 0 1 2 1 2 1 2 2 0 1\n",
      " 0 1 2 2 0 2 2 1]\n",
      "Predicted: [0 1 1 0 2 1 2 0 0 2 1 0 2 1 1 0 1 1 0 0 1 1 1 0 2 1 0 0 1 2 1 2 1 2 2 0 1\n",
      " 0 1 2 2 0 2 2 1]\n"
     ]
    }
   ],
   "source": [
    "actual = np.argmax(y_test,axis=1)\n",
    "predicted = np.argmax(y_pred,axis=1)\n",
    "print(\"Actual: {}\".format(actual))\n",
    "print(\"Predicted: {}\".format(predicted))"
   ]
  },
  {
   "cell_type": "code",
   "execution_count": 41,
   "id": "bdc10b9d-7249-4947-ad21-d6aad72bd033",
   "metadata": {},
   "outputs": [
    {
     "name": "stdout",
     "output_type": "stream",
     "text": [
      "                 precision    recall  f1-score   support\n",
      "\n",
      "    Iris-setosa       1.00      1.00      1.00        14\n",
      "Iris-versicolor       1.00      1.00      1.00        18\n",
      " Iris-virginica       1.00      1.00      1.00        13\n",
      "\n",
      "      micro avg       1.00      1.00      1.00        45\n",
      "      macro avg       1.00      1.00      1.00        45\n",
      "   weighted avg       1.00      1.00      1.00        45\n",
      "    samples avg       1.00      1.00      1.00        45\n",
      "\n"
     ]
    }
   ],
   "source": [
    "from sklearn.metrics import classification_report\n",
    "target_names = ['Iris-setosa', 'Iris-versicolor', 'Iris-virginica']\n",
    "print(classification_report(y_test, y_pred, target_names=target_names))"
   ]
  },
  {
   "cell_type": "markdown",
   "id": "f7ced8b6-a1b7-44b0-b6df-7a9b73af81b9",
   "metadata": {
    "tags": []
   },
   "source": [
    "## Using Tensorflow Long Short-term Memory (LSTM RNN)"
   ]
  },
  {
   "cell_type": "code",
   "execution_count": 42,
   "id": "f1a575fd-f2a0-4b09-864d-d025afbd6fc0",
   "metadata": {},
   "outputs": [
    {
     "name": "stdout",
     "output_type": "stream",
     "text": [
      "WARNING:tensorflow:Layer lstm will not use cuDNN kernels since it doesn't meet the criteria. It will use a generic GPU kernel as fallback when running on GPU.\n"
     ]
    }
   ],
   "source": [
    "model = tf.keras.Sequential([\n",
    "    tf.keras.layers.LSTM(64, activation='relu', input_shape=(4,1)),\n",
    "    tf.keras.layers.Dense(16, activation='relu'),\n",
    "    tf.keras.layers.Dense(3, activation='softmax')\n",
    "])"
   ]
  },
  {
   "cell_type": "code",
   "execution_count": 43,
   "id": "acdf7ede-45a5-45f4-9de0-8aebaaae335e",
   "metadata": {},
   "outputs": [],
   "source": [
    "model.compile(optimizer='adam',\n",
    "              loss='categorical_crossentropy',\n",
    "              metrics=['accuracy'])"
   ]
  },
  {
   "cell_type": "code",
   "execution_count": 44,
   "id": "167525da-8cb3-4dc7-bf55-504f466627f8",
   "metadata": {},
   "outputs": [
    {
     "name": "stdout",
     "output_type": "stream",
     "text": [
      "Epoch 1/120\n",
      "3/3 [==============================] - 1s 149ms/step - loss: 1.1233 - accuracy: 0.3562 - val_loss: 1.1228 - val_accuracy: 0.3125\n",
      "Epoch 2/120\n",
      "3/3 [==============================] - 0s 37ms/step - loss: 1.1100 - accuracy: 0.3562 - val_loss: 1.1172 - val_accuracy: 0.3125\n",
      "Epoch 3/120\n",
      "3/3 [==============================] - 0s 39ms/step - loss: 1.1004 - accuracy: 0.3562 - val_loss: 1.1148 - val_accuracy: 0.3125\n",
      "Epoch 4/120\n",
      "3/3 [==============================] - 0s 37ms/step - loss: 1.0905 - accuracy: 0.3562 - val_loss: 1.1129 - val_accuracy: 0.3750\n",
      "Epoch 5/120\n",
      "3/3 [==============================] - 0s 43ms/step - loss: 1.0843 - accuracy: 0.4795 - val_loss: 1.1113 - val_accuracy: 0.2812\n",
      "Epoch 6/120\n",
      "3/3 [==============================] - 0s 38ms/step - loss: 1.0764 - accuracy: 0.3836 - val_loss: 1.1108 - val_accuracy: 0.2812\n",
      "Epoch 7/120\n",
      "3/3 [==============================] - 0s 39ms/step - loss: 1.0737 - accuracy: 0.3836 - val_loss: 1.1111 - val_accuracy: 0.2812\n",
      "Epoch 8/120\n",
      "3/3 [==============================] - 0s 42ms/step - loss: 1.0701 - accuracy: 0.3836 - val_loss: 1.1102 - val_accuracy: 0.2812\n",
      "Epoch 9/120\n",
      "3/3 [==============================] - 0s 40ms/step - loss: 1.0663 - accuracy: 0.3836 - val_loss: 1.1103 - val_accuracy: 0.2812\n",
      "Epoch 10/120\n",
      "3/3 [==============================] - 0s 37ms/step - loss: 1.0629 - accuracy: 0.3836 - val_loss: 1.1093 - val_accuracy: 0.2812\n",
      "Epoch 11/120\n",
      "3/3 [==============================] - 0s 41ms/step - loss: 1.0595 - accuracy: 0.3836 - val_loss: 1.1086 - val_accuracy: 0.2812\n",
      "Epoch 12/120\n",
      "3/3 [==============================] - 0s 40ms/step - loss: 1.0560 - accuracy: 0.3836 - val_loss: 1.1069 - val_accuracy: 0.2812\n",
      "Epoch 13/120\n",
      "3/3 [==============================] - 0s 42ms/step - loss: 1.0518 - accuracy: 0.3836 - val_loss: 1.1043 - val_accuracy: 0.2812\n",
      "Epoch 14/120\n",
      "3/3 [==============================] - 0s 42ms/step - loss: 1.0478 - accuracy: 0.3836 - val_loss: 1.1034 - val_accuracy: 0.2812\n",
      "Epoch 15/120\n",
      "3/3 [==============================] - 0s 44ms/step - loss: 1.0431 - accuracy: 0.3836 - val_loss: 1.1009 - val_accuracy: 0.2812\n",
      "Epoch 16/120\n",
      "3/3 [==============================] - 0s 43ms/step - loss: 1.0385 - accuracy: 0.3836 - val_loss: 1.1004 - val_accuracy: 0.2812\n",
      "Epoch 17/120\n",
      "3/3 [==============================] - 0s 49ms/step - loss: 1.0332 - accuracy: 0.3836 - val_loss: 1.0989 - val_accuracy: 0.2812\n",
      "Epoch 18/120\n",
      "3/3 [==============================] - 0s 52ms/step - loss: 1.0270 - accuracy: 0.3836 - val_loss: 1.0999 - val_accuracy: 0.2812\n",
      "Epoch 19/120\n",
      "3/3 [==============================] - 0s 42ms/step - loss: 1.0221 - accuracy: 0.3836 - val_loss: 1.0989 - val_accuracy: 0.2812\n",
      "Epoch 20/120\n",
      "3/3 [==============================] - 0s 45ms/step - loss: 1.0156 - accuracy: 0.3836 - val_loss: 1.0962 - val_accuracy: 0.2812\n",
      "Epoch 21/120\n",
      "3/3 [==============================] - 0s 45ms/step - loss: 1.0081 - accuracy: 0.3836 - val_loss: 1.0924 - val_accuracy: 0.2812\n",
      "Epoch 22/120\n",
      "3/3 [==============================] - 0s 42ms/step - loss: 0.9998 - accuracy: 0.3836 - val_loss: 1.0889 - val_accuracy: 0.2812\n",
      "Epoch 23/120\n",
      "3/3 [==============================] - 0s 39ms/step - loss: 0.9922 - accuracy: 0.3836 - val_loss: 1.0846 - val_accuracy: 0.2812\n",
      "Epoch 24/120\n",
      "3/3 [==============================] - 0s 41ms/step - loss: 0.9819 - accuracy: 0.3836 - val_loss: 1.0698 - val_accuracy: 0.2812\n",
      "Epoch 25/120\n",
      "3/3 [==============================] - 0s 42ms/step - loss: 0.9722 - accuracy: 0.3836 - val_loss: 1.0517 - val_accuracy: 0.2812\n",
      "Epoch 26/120\n",
      "3/3 [==============================] - 0s 40ms/step - loss: 0.9597 - accuracy: 0.3836 - val_loss: 1.0369 - val_accuracy: 0.2812\n",
      "Epoch 27/120\n",
      "3/3 [==============================] - 0s 40ms/step - loss: 0.9489 - accuracy: 0.3836 - val_loss: 1.0191 - val_accuracy: 0.2812\n",
      "Epoch 28/120\n",
      "3/3 [==============================] - 0s 40ms/step - loss: 0.9350 - accuracy: 0.3836 - val_loss: 1.0056 - val_accuracy: 0.2812\n",
      "Epoch 29/120\n",
      "3/3 [==============================] - 0s 38ms/step - loss: 0.9223 - accuracy: 0.3836 - val_loss: 0.9954 - val_accuracy: 0.2812\n",
      "Epoch 30/120\n",
      "3/3 [==============================] - 0s 44ms/step - loss: 0.9069 - accuracy: 0.3836 - val_loss: 0.9918 - val_accuracy: 0.3125\n",
      "Epoch 31/120\n",
      "3/3 [==============================] - 0s 44ms/step - loss: 0.8870 - accuracy: 0.3836 - val_loss: 0.9737 - val_accuracy: 0.3438\n",
      "Epoch 32/120\n",
      "3/3 [==============================] - 0s 37ms/step - loss: 0.8666 - accuracy: 0.3973 - val_loss: 0.9618 - val_accuracy: 0.5000\n",
      "Epoch 33/120\n",
      "3/3 [==============================] - 0s 42ms/step - loss: 0.8451 - accuracy: 0.6164 - val_loss: 0.9435 - val_accuracy: 0.5938\n",
      "Epoch 34/120\n",
      "3/3 [==============================] - 0s 38ms/step - loss: 0.8195 - accuracy: 0.6438 - val_loss: 0.9179 - val_accuracy: 0.5938\n",
      "Epoch 35/120\n",
      "3/3 [==============================] - 0s 42ms/step - loss: 0.7898 - accuracy: 0.7260 - val_loss: 0.8799 - val_accuracy: 0.5938\n",
      "Epoch 36/120\n",
      "3/3 [==============================] - 0s 39ms/step - loss: 0.7599 - accuracy: 0.7397 - val_loss: 0.8301 - val_accuracy: 0.5938\n",
      "Epoch 37/120\n",
      "3/3 [==============================] - 0s 37ms/step - loss: 0.7270 - accuracy: 0.7397 - val_loss: 0.7841 - val_accuracy: 0.5938\n",
      "Epoch 38/120\n",
      "3/3 [==============================] - 0s 37ms/step - loss: 0.6936 - accuracy: 0.7397 - val_loss: 0.7595 - val_accuracy: 0.5938\n",
      "Epoch 39/120\n",
      "3/3 [==============================] - 0s 38ms/step - loss: 0.6546 - accuracy: 0.7397 - val_loss: 0.7290 - val_accuracy: 0.5938\n",
      "Epoch 40/120\n",
      "3/3 [==============================] - 0s 39ms/step - loss: 0.6049 - accuracy: 0.7397 - val_loss: 0.7121 - val_accuracy: 0.5938\n",
      "Epoch 41/120\n",
      "3/3 [==============================] - 0s 40ms/step - loss: 0.5620 - accuracy: 0.7397 - val_loss: 0.6651 - val_accuracy: 0.5938\n",
      "Epoch 42/120\n",
      "3/3 [==============================] - 0s 36ms/step - loss: 0.5210 - accuracy: 0.7397 - val_loss: 0.6051 - val_accuracy: 0.5938\n",
      "Epoch 43/120\n",
      "3/3 [==============================] - 0s 48ms/step - loss: 0.4866 - accuracy: 0.7534 - val_loss: 0.5698 - val_accuracy: 0.5938\n",
      "Epoch 44/120\n",
      "3/3 [==============================] - 0s 38ms/step - loss: 0.4576 - accuracy: 0.7397 - val_loss: 0.5595 - val_accuracy: 0.5938\n",
      "Epoch 45/120\n",
      "3/3 [==============================] - 0s 41ms/step - loss: 0.4275 - accuracy: 0.7671 - val_loss: 0.5030 - val_accuracy: 0.7188\n",
      "Epoch 46/120\n",
      "3/3 [==============================] - 0s 47ms/step - loss: 0.4029 - accuracy: 0.8630 - val_loss: 0.4881 - val_accuracy: 0.6875\n",
      "Epoch 47/120\n",
      "3/3 [==============================] - 0s 45ms/step - loss: 0.3897 - accuracy: 0.7808 - val_loss: 0.5106 - val_accuracy: 0.6562\n",
      "Epoch 48/120\n",
      "3/3 [==============================] - 0s 42ms/step - loss: 0.3687 - accuracy: 0.7671 - val_loss: 0.4483 - val_accuracy: 0.8125\n",
      "Epoch 49/120\n",
      "3/3 [==============================] - 0s 42ms/step - loss: 0.3694 - accuracy: 0.8767 - val_loss: 0.4089 - val_accuracy: 0.9062\n",
      "Epoch 50/120\n",
      "3/3 [==============================] - 0s 42ms/step - loss: 0.3475 - accuracy: 0.8904 - val_loss: 0.4628 - val_accuracy: 0.7188\n",
      "Epoch 51/120\n",
      "3/3 [==============================] - 0s 43ms/step - loss: 0.3337 - accuracy: 0.8356 - val_loss: 0.3961 - val_accuracy: 0.8438\n",
      "Epoch 52/120\n",
      "3/3 [==============================] - 0s 42ms/step - loss: 0.3106 - accuracy: 0.8904 - val_loss: 0.3815 - val_accuracy: 0.8438\n",
      "Epoch 53/120\n",
      "3/3 [==============================] - 0s 42ms/step - loss: 0.3281 - accuracy: 0.8630 - val_loss: 0.3659 - val_accuracy: 0.8438\n",
      "Epoch 54/120\n",
      "3/3 [==============================] - 0s 39ms/step - loss: 0.2963 - accuracy: 0.8767 - val_loss: 0.4076 - val_accuracy: 0.7500\n",
      "Epoch 55/120\n",
      "3/3 [==============================] - 0s 42ms/step - loss: 0.3024 - accuracy: 0.8630 - val_loss: 0.3589 - val_accuracy: 0.8438\n",
      "Epoch 56/120\n",
      "3/3 [==============================] - 0s 39ms/step - loss: 0.2710 - accuracy: 0.9315 - val_loss: 0.3341 - val_accuracy: 0.9062\n",
      "Epoch 57/120\n",
      "3/3 [==============================] - 0s 42ms/step - loss: 0.2668 - accuracy: 0.9589 - val_loss: 0.3196 - val_accuracy: 0.9375\n",
      "Epoch 58/120\n",
      "3/3 [==============================] - 0s 44ms/step - loss: 0.2531 - accuracy: 0.9589 - val_loss: 0.3102 - val_accuracy: 0.8438\n",
      "Epoch 59/120\n",
      "3/3 [==============================] - 0s 41ms/step - loss: 0.2456 - accuracy: 0.9315 - val_loss: 0.3013 - val_accuracy: 0.8438\n",
      "Epoch 60/120\n",
      "3/3 [==============================] - 0s 44ms/step - loss: 0.2503 - accuracy: 0.9315 - val_loss: 0.2755 - val_accuracy: 0.9688\n",
      "Epoch 61/120\n",
      "3/3 [==============================] - 0s 45ms/step - loss: 0.2232 - accuracy: 0.9589 - val_loss: 0.3057 - val_accuracy: 0.8750\n",
      "Epoch 62/120\n",
      "3/3 [==============================] - 0s 47ms/step - loss: 0.2362 - accuracy: 0.9041 - val_loss: 0.2760 - val_accuracy: 0.8438\n",
      "Epoch 63/120\n",
      "3/3 [==============================] - 0s 53ms/step - loss: 0.2112 - accuracy: 0.9589 - val_loss: 0.2611 - val_accuracy: 0.9375\n",
      "Epoch 64/120\n",
      "3/3 [==============================] - 0s 43ms/step - loss: 0.2228 - accuracy: 0.9178 - val_loss: 0.2627 - val_accuracy: 0.8438\n",
      "Epoch 65/120\n",
      "3/3 [==============================] - 0s 42ms/step - loss: 0.2040 - accuracy: 0.9315 - val_loss: 0.2662 - val_accuracy: 0.8750\n",
      "Epoch 66/120\n",
      "3/3 [==============================] - 0s 42ms/step - loss: 0.1944 - accuracy: 0.9452 - val_loss: 0.2252 - val_accuracy: 0.9688\n",
      "Epoch 67/120\n",
      "3/3 [==============================] - 0s 43ms/step - loss: 0.2043 - accuracy: 0.9452 - val_loss: 0.2189 - val_accuracy: 0.9688\n",
      "Epoch 68/120\n",
      "3/3 [==============================] - 0s 42ms/step - loss: 0.1877 - accuracy: 0.9315 - val_loss: 0.2438 - val_accuracy: 0.8750\n",
      "Epoch 69/120\n",
      "3/3 [==============================] - 0s 42ms/step - loss: 0.1872 - accuracy: 0.9315 - val_loss: 0.2059 - val_accuracy: 0.9688\n",
      "Epoch 70/120\n",
      "3/3 [==============================] - 0s 43ms/step - loss: 0.1702 - accuracy: 0.9589 - val_loss: 0.1996 - val_accuracy: 0.9688\n",
      "Epoch 71/120\n",
      "3/3 [==============================] - 0s 45ms/step - loss: 0.1648 - accuracy: 0.9589 - val_loss: 0.1977 - val_accuracy: 0.9688\n",
      "Epoch 72/120\n",
      "3/3 [==============================] - 0s 44ms/step - loss: 0.1623 - accuracy: 0.9589 - val_loss: 0.1819 - val_accuracy: 0.9688\n",
      "Epoch 73/120\n",
      "3/3 [==============================] - 0s 42ms/step - loss: 0.1641 - accuracy: 0.9589 - val_loss: 0.1740 - val_accuracy: 0.9688\n",
      "Epoch 74/120\n",
      "3/3 [==============================] - 0s 40ms/step - loss: 0.1778 - accuracy: 0.9315 - val_loss: 0.1693 - val_accuracy: 0.9688\n",
      "Epoch 75/120\n",
      "3/3 [==============================] - 0s 42ms/step - loss: 0.1534 - accuracy: 0.9452 - val_loss: 0.1981 - val_accuracy: 0.9062\n",
      "Epoch 76/120\n",
      "3/3 [==============================] - 0s 38ms/step - loss: 0.1610 - accuracy: 0.9452 - val_loss: 0.1590 - val_accuracy: 0.9688\n",
      "Epoch 77/120\n",
      "3/3 [==============================] - 0s 40ms/step - loss: 0.1457 - accuracy: 0.9589 - val_loss: 0.1532 - val_accuracy: 1.0000\n",
      "Epoch 78/120\n",
      "3/3 [==============================] - 0s 40ms/step - loss: 0.1465 - accuracy: 0.9452 - val_loss: 0.1465 - val_accuracy: 0.9688\n",
      "Epoch 79/120\n",
      "3/3 [==============================] - 0s 46ms/step - loss: 0.1572 - accuracy: 0.9452 - val_loss: 0.1643 - val_accuracy: 0.9375\n",
      "Epoch 80/120\n",
      "3/3 [==============================] - 0s 42ms/step - loss: 0.1548 - accuracy: 0.9452 - val_loss: 0.1389 - val_accuracy: 0.9688\n",
      "Epoch 81/120\n",
      "3/3 [==============================] - 0s 50ms/step - loss: 0.1324 - accuracy: 0.9589 - val_loss: 0.1697 - val_accuracy: 0.9375\n",
      "Epoch 82/120\n",
      "3/3 [==============================] - 0s 43ms/step - loss: 0.1460 - accuracy: 0.9452 - val_loss: 0.1349 - val_accuracy: 1.0000\n",
      "Epoch 83/120\n",
      "3/3 [==============================] - 0s 41ms/step - loss: 0.1262 - accuracy: 0.9726 - val_loss: 0.1298 - val_accuracy: 0.9688\n",
      "Epoch 84/120\n",
      "3/3 [==============================] - 0s 37ms/step - loss: 0.1368 - accuracy: 0.9452 - val_loss: 0.1259 - val_accuracy: 1.0000\n",
      "Epoch 85/120\n",
      "3/3 [==============================] - 0s 39ms/step - loss: 0.1251 - accuracy: 0.9589 - val_loss: 0.1295 - val_accuracy: 0.9688\n",
      "Epoch 86/120\n",
      "3/3 [==============================] - 0s 41ms/step - loss: 0.1301 - accuracy: 0.9315 - val_loss: 0.1247 - val_accuracy: 1.0000\n",
      "Epoch 87/120\n",
      "3/3 [==============================] - 0s 44ms/step - loss: 0.1293 - accuracy: 0.9726 - val_loss: 0.1240 - val_accuracy: 1.0000\n",
      "Epoch 88/120\n",
      "3/3 [==============================] - 0s 44ms/step - loss: 0.1185 - accuracy: 0.9726 - val_loss: 0.1264 - val_accuracy: 0.9375\n",
      "Epoch 89/120\n",
      "3/3 [==============================] - 0s 48ms/step - loss: 0.1779 - accuracy: 0.9315 - val_loss: 0.1328 - val_accuracy: 0.9688\n",
      "Epoch 90/120\n",
      "3/3 [==============================] - 0s 43ms/step - loss: 0.2346 - accuracy: 0.8904 - val_loss: 0.2621 - val_accuracy: 0.8750\n",
      "Epoch 91/120\n",
      "3/3 [==============================] - 0s 43ms/step - loss: 0.1658 - accuracy: 0.9178 - val_loss: 0.2064 - val_accuracy: 0.9062\n",
      "Epoch 92/120\n",
      "3/3 [==============================] - 0s 45ms/step - loss: 0.2062 - accuracy: 0.8767 - val_loss: 0.1211 - val_accuracy: 1.0000\n",
      "Epoch 93/120\n",
      "3/3 [==============================] - 0s 41ms/step - loss: 0.1951 - accuracy: 0.9178 - val_loss: 0.3315 - val_accuracy: 0.8125\n",
      "Epoch 94/120\n",
      "3/3 [==============================] - 0s 42ms/step - loss: 0.2009 - accuracy: 0.9315 - val_loss: 0.1243 - val_accuracy: 0.9688\n",
      "Epoch 95/120\n",
      "3/3 [==============================] - 0s 48ms/step - loss: 0.1686 - accuracy: 0.9452 - val_loss: 0.1751 - val_accuracy: 0.9375\n",
      "Epoch 96/120\n",
      "3/3 [==============================] - 0s 41ms/step - loss: 0.1477 - accuracy: 0.9315 - val_loss: 0.1595 - val_accuracy: 0.9375\n",
      "Epoch 97/120\n",
      "3/3 [==============================] - 0s 43ms/step - loss: 0.1541 - accuracy: 0.9315 - val_loss: 0.2230 - val_accuracy: 0.8750\n",
      "Epoch 98/120\n",
      "3/3 [==============================] - 0s 43ms/step - loss: 0.1641 - accuracy: 0.9315 - val_loss: 0.1303 - val_accuracy: 0.9688\n",
      "Epoch 99/120\n",
      "3/3 [==============================] - 0s 44ms/step - loss: 0.1188 - accuracy: 0.9726 - val_loss: 0.1422 - val_accuracy: 0.9375\n",
      "Epoch 100/120\n",
      "3/3 [==============================] - 0s 42ms/step - loss: 0.1473 - accuracy: 0.9315 - val_loss: 0.1240 - val_accuracy: 0.9688\n",
      "Epoch 101/120\n",
      "3/3 [==============================] - 0s 44ms/step - loss: 0.1330 - accuracy: 0.9452 - val_loss: 0.1454 - val_accuracy: 0.9688\n",
      "Epoch 102/120\n",
      "3/3 [==============================] - 0s 43ms/step - loss: 0.1283 - accuracy: 0.9589 - val_loss: 0.1203 - val_accuracy: 0.9688\n",
      "Epoch 103/120\n",
      "3/3 [==============================] - 0s 43ms/step - loss: 0.1187 - accuracy: 0.9589 - val_loss: 0.1174 - val_accuracy: 0.9688\n",
      "Epoch 104/120\n",
      "3/3 [==============================] - 0s 43ms/step - loss: 0.1206 - accuracy: 0.9726 - val_loss: 0.1204 - val_accuracy: 1.0000\n",
      "Epoch 105/120\n",
      "3/3 [==============================] - 0s 42ms/step - loss: 0.1159 - accuracy: 0.9726 - val_loss: 0.1126 - val_accuracy: 1.0000\n",
      "Epoch 106/120\n",
      "3/3 [==============================] - 0s 43ms/step - loss: 0.1140 - accuracy: 0.9589 - val_loss: 0.1105 - val_accuracy: 1.0000\n",
      "Epoch 107/120\n",
      "3/3 [==============================] - 0s 36ms/step - loss: 0.1136 - accuracy: 0.9726 - val_loss: 0.1080 - val_accuracy: 1.0000\n",
      "Epoch 108/120\n",
      "3/3 [==============================] - 0s 37ms/step - loss: 0.1128 - accuracy: 0.9726 - val_loss: 0.1049 - val_accuracy: 1.0000\n",
      "Epoch 109/120\n",
      "3/3 [==============================] - 0s 42ms/step - loss: 0.1134 - accuracy: 0.9589 - val_loss: 0.1025 - val_accuracy: 1.0000\n",
      "Epoch 110/120\n",
      "3/3 [==============================] - 0s 43ms/step - loss: 0.1190 - accuracy: 0.9452 - val_loss: 0.1011 - val_accuracy: 1.0000\n",
      "Epoch 111/120\n",
      "3/3 [==============================] - 0s 43ms/step - loss: 0.1066 - accuracy: 0.9726 - val_loss: 0.1290 - val_accuracy: 0.9375\n",
      "Epoch 112/120\n",
      "3/3 [==============================] - 0s 38ms/step - loss: 0.1246 - accuracy: 0.9589 - val_loss: 0.1035 - val_accuracy: 1.0000\n",
      "Epoch 113/120\n",
      "3/3 [==============================] - 0s 41ms/step - loss: 0.1065 - accuracy: 0.9726 - val_loss: 0.0960 - val_accuracy: 1.0000\n",
      "Epoch 114/120\n",
      "3/3 [==============================] - 0s 38ms/step - loss: 0.1116 - accuracy: 0.9452 - val_loss: 0.0943 - val_accuracy: 1.0000\n",
      "Epoch 115/120\n",
      "3/3 [==============================] - 0s 39ms/step - loss: 0.1158 - accuracy: 0.9452 - val_loss: 0.0924 - val_accuracy: 1.0000\n",
      "Epoch 116/120\n",
      "3/3 [==============================] - 0s 45ms/step - loss: 0.1297 - accuracy: 0.9315 - val_loss: 0.0920 - val_accuracy: 1.0000\n",
      "Epoch 117/120\n",
      "3/3 [==============================] - 0s 42ms/step - loss: 0.1225 - accuracy: 0.9726 - val_loss: 0.1704 - val_accuracy: 0.9062\n",
      "Epoch 118/120\n",
      "3/3 [==============================] - 0s 36ms/step - loss: 0.1463 - accuracy: 0.9452 - val_loss: 0.0984 - val_accuracy: 1.0000\n",
      "Epoch 119/120\n",
      "3/3 [==============================] - 0s 40ms/step - loss: 0.1120 - accuracy: 0.9452 - val_loss: 0.1084 - val_accuracy: 0.9375\n",
      "Epoch 120/120\n",
      "3/3 [==============================] - 0s 39ms/step - loss: 0.1237 - accuracy: 0.9178 - val_loss: 0.0897 - val_accuracy: 1.0000\n"
     ]
    }
   ],
   "source": [
    "history = model.fit(X_train, y_train, validation_split = 0.3, batch_size=30, epochs=120)"
   ]
  },
  {
   "cell_type": "code",
   "execution_count": 45,
   "id": "9257e2a6-f017-4432-afe3-c82640209230",
   "metadata": {},
   "outputs": [
    {
     "name": "stdout",
     "output_type": "stream",
     "text": [
      "Model: \"sequential_3\"\n",
      "_________________________________________________________________\n",
      " Layer (type)                Output Shape              Param #   \n",
      "=================================================================\n",
      " lstm (LSTM)                 (None, 64)                16896     \n",
      "                                                                 \n",
      " dense_7 (Dense)             (None, 16)                1040      \n",
      "                                                                 \n",
      " dense_8 (Dense)             (None, 3)                 51        \n",
      "                                                                 \n",
      "=================================================================\n",
      "Total params: 17,987\n",
      "Trainable params: 17,987\n",
      "Non-trainable params: 0\n",
      "_________________________________________________________________\n"
     ]
    }
   ],
   "source": [
    "model.summary()"
   ]
  },
  {
   "cell_type": "code",
   "execution_count": 46,
   "id": "bffa7251-49ff-4166-9dbf-cdcb4e7f5c07",
   "metadata": {},
   "outputs": [
    {
     "data": {
      "text/plain": [
       "<matplotlib.legend.Legend at 0x1b95879ac10>"
      ]
     },
     "execution_count": 46,
     "metadata": {},
     "output_type": "execute_result"
    },
    {
     "data": {
      "image/png": "[encoded data removed]",
      "text/plain": [
       "<Figure size 432x288 with 1 Axes>"
      ]
     },
     "metadata": {
      "needs_background": "light"
     },
     "output_type": "display_data"
    }
   ],
   "source": [
    "plt.plot(history.history['accuracy'])\n",
    "plt.plot(history.history['val_accuracy'])\n",
    "plt.legend(['accuracy','validation accuracy'])"
   ]
  },
  {
   "cell_type": "code",
   "execution_count": 47,
   "id": "682e13f1-3c41-4909-a20a-49810cd372e5",
   "metadata": {},
   "outputs": [
    {
     "data": {
      "text/plain": [
       "<matplotlib.legend.Legend at 0x1b938552610>"
      ]
     },
     "execution_count": 47,
     "metadata": {},
     "output_type": "execute_result"
    },
    {
     "data": {
      "image/png": "[encoded data removed]",
      "text/plain": [
       "<Figure size 432x288 with 1 Axes>"
      ]
     },
     "metadata": {
      "needs_background": "light"
     },
     "output_type": "display_data"
    }
   ],
   "source": [
    "plt.plot(history.history['loss'])\n",
    "plt.plot(history.history['val_loss'])\n",
    "plt.legend(['loss','validation loss'])"
   ]
  },
  {
   "cell_type": "code",
   "execution_count": 48,
   "id": "5aad48a2-5af8-42f2-ad87-f6a411208377",
   "metadata": {},
   "outputs": [
    {
     "name": "stdout",
     "output_type": "stream",
     "text": [
      "Test loss: 0.1204773336648941\n",
      "Test accuracy: 0.9555555582046509\n"
     ]
    }
   ],
   "source": [
    "loss, accuracy = model.evaluate(X_test, y_test, verbose=0)\n",
    "print('Test loss:', loss)\n",
    "print('Test accuracy:', accuracy)"
   ]
  },
  {
   "cell_type": "code",
   "execution_count": 49,
   "id": "d85c101d-71f8-44f9-8617-a7bda2913e1e",
   "metadata": {
    "scrolled": true,
    "tags": []
   },
   "outputs": [
    {
     "name": "stdout",
     "output_type": "stream",
     "text": [
      "2/2 [==============================] - 0s 4ms/step\n"
     ]
    },
    {
     "data": {
      "text/plain": [
       "array([[1., 0., 0.],\n",
       "       [0., 1., 0.],\n",
       "       [0., 1., 0.],\n",
       "       [1., 0., 0.],\n",
       "       [0., 0., 1.],\n",
       "       [0., 1., 0.],\n",
       "       [0., 0., 1.],\n",
       "       [1., 0., 0.],\n",
       "       [1., 0., 0.],\n",
       "       [0., 0., 1.],\n",
       "       [0., 1., 0.],\n",
       "       [1., 0., 0.],\n",
       "       [0., 0., 1.],\n",
       "       [0., 1., 0.],\n",
       "       [0., 1., 0.],\n",
       "       [1., 0., 0.],\n",
       "       [0., 1., 0.],\n",
       "       [0., 1., 0.],\n",
       "       [1., 0., 0.],\n",
       "       [1., 0., 0.],\n",
       "       [0., 1., 0.],\n",
       "       [0., 1., 0.],\n",
       "       [0., 0., 1.],\n",
       "       [1., 0., 0.],\n",
       "       [0., 0., 1.],\n",
       "       [0., 1., 0.],\n",
       "       [1., 0., 0.],\n",
       "       [1., 0., 0.],\n",
       "       [0., 1., 0.],\n",
       "       [0., 0., 1.],\n",
       "       [0., 1., 0.],\n",
       "       [0., 0., 1.],\n",
       "       [0., 1., 0.],\n",
       "       [0., 0., 1.],\n",
       "       [0., 0., 1.],\n",
       "       [1., 0., 0.],\n",
       "       [0., 1., 0.],\n",
       "       [1., 0., 0.],\n",
       "       [0., 1., 0.],\n",
       "       [0., 0., 1.],\n",
       "       [0., 0., 1.],\n",
       "       [1., 0., 0.],\n",
       "       [0., 1., 0.],\n",
       "       [0., 0., 1.],\n",
       "       [0., 1., 0.]], dtype=float32)"
      ]
     },
     "execution_count": 49,
     "metadata": {},
     "output_type": "execute_result"
    }
   ],
   "source": [
    "y_pred = model.predict(X_test)\n",
    "y_pred = np.round(y_pred)\n",
    "y_pred"
   ]
  },
  {
   "cell_type": "code",
   "execution_count": 50,
   "id": "52677f26-8d58-46a8-8cca-c626977d9f11",
   "metadata": {},
   "outputs": [
    {
     "data": {
      "text/plain": [
       "0.9555555555555556"
      ]
     },
     "execution_count": 50,
     "metadata": {},
     "output_type": "execute_result"
    }
   ],
   "source": [
    "from sklearn.metrics import accuracy_score\n",
    "pred_accuracy = accuracy_score(y_pred, y_test)\n",
    "pred_accuracy"
   ]
  },
  {
   "cell_type": "code",
   "execution_count": 51,
   "id": "90b6d2ef-c49e-4653-b243-c930ca6ba443",
   "metadata": {},
   "outputs": [
    {
     "name": "stdout",
     "output_type": "stream",
     "text": [
      "Actual: [0 1 1 0 2 1 2 0 0 2 1 0 2 1 1 0 1 1 0 0 1 1 1 0 2 1 0 0 1 2 1 2 1 2 2 0 1\n",
      " 0 1 2 2 0 2 2 1]\n",
      "Predicted: [0 1 1 0 2 1 2 0 0 2 1 0 2 1 1 0 1 1 0 0 1 1 2 0 2 1 0 0 1 2 1 2 1 2 2 0 1\n",
      " 0 1 2 2 0 1 2 1]\n"
     ]
    }
   ],
   "source": [
    "actual = np.argmax(y_test,axis=1)\n",
    "predicted = np.argmax(y_pred,axis=1)\n",
    "print(\"Actual: {}\".format(actual))\n",
    "print(\"Predicted: {}\".format(predicted))"
   ]
  },
  {
   "cell_type": "code",
   "execution_count": 52,
   "id": "e9262074-25d4-4e85-9bda-98aec92d7048",
   "metadata": {},
   "outputs": [
    {
     "name": "stdout",
     "output_type": "stream",
     "text": [
      "                 precision    recall  f1-score   support\n",
      "\n",
      "    Iris-setosa       1.00      1.00      1.00        14\n",
      "Iris-versicolor       0.94      0.94      0.94        18\n",
      " Iris-virginica       0.92      0.92      0.92        13\n",
      "\n",
      "      micro avg       0.96      0.96      0.96        45\n",
      "      macro avg       0.96      0.96      0.96        45\n",
      "   weighted avg       0.96      0.96      0.96        45\n",
      "    samples avg       0.96      0.96      0.96        45\n",
      "\n"
     ]
    }
   ],
   "source": [
    "from sklearn.metrics import classification_report\n",
    "target_names = ['Iris-setosa', 'Iris-versicolor', 'Iris-virginica']\n",
    "print(classification_report(y_test, y_pred, target_names=target_names))"
   ]
  },
  {
   "cell_type": "markdown",
   "id": "9d3aa424-38db-430a-b68c-a735a209cc9a",
   "metadata": {
    "tags": []
   },
   "source": [
    "## Using Tensorflow Gated Recurrent Unit (GRU RNN)"
   ]
  },
  {
   "cell_type": "code",
   "execution_count": 53,
   "id": "8b0b8f5d-84fc-423f-a42d-0aa496991140",
   "metadata": {},
   "outputs": [
    {
     "name": "stdout",
     "output_type": "stream",
     "text": [
      "WARNING:tensorflow:Layer gru will not use cuDNN kernels since it doesn't meet the criteria. It will use a generic GPU kernel as fallback when running on GPU.\n"
     ]
    }
   ],
   "source": [
    "model = tf.keras.Sequential([\n",
    "    tf.keras.layers.GRU(64, activation='relu', input_shape=(4,1)),\n",
    "    tf.keras.layers.Dense(16, activation='relu'),\n",
    "    tf.keras.layers.Dense(3, activation='softmax')\n",
    "])"
   ]
  },
  {
   "cell_type": "code",
   "execution_count": 54,
   "id": "bb2b89cd-2345-491f-9dd6-c9c58972264e",
   "metadata": {},
   "outputs": [],
   "source": [
    "model.compile(optimizer='adam',\n",
    "              loss='categorical_crossentropy',\n",
    "              metrics=['accuracy'])"
   ]
  },
  {
   "cell_type": "code",
   "execution_count": 55,
   "id": "72d7e695-b28b-4c87-b026-a7d8b3c45a25",
   "metadata": {},
   "outputs": [
    {
     "name": "stdout",
     "output_type": "stream",
     "text": [
      "Epoch 1/120\n",
      "3/3 [==============================] - 1s 169ms/step - loss: 1.0537 - accuracy: 0.3836 - val_loss: 1.0633 - val_accuracy: 0.2812\n",
      "Epoch 2/120\n",
      "3/3 [==============================] - 0s 52ms/step - loss: 1.0319 - accuracy: 0.3836 - val_loss: 1.0609 - val_accuracy: 0.2812\n",
      "Epoch 3/120\n",
      "3/3 [==============================] - 0s 49ms/step - loss: 1.0148 - accuracy: 0.3836 - val_loss: 1.0603 - val_accuracy: 0.2812\n",
      "Epoch 4/120\n",
      "3/3 [==============================] - 0s 50ms/step - loss: 1.0024 - accuracy: 0.3836 - val_loss: 1.0603 - val_accuracy: 0.2812\n",
      "Epoch 5/120\n",
      "3/3 [==============================] - 0s 56ms/step - loss: 0.9901 - accuracy: 0.3836 - val_loss: 1.0568 - val_accuracy: 0.2812\n",
      "Epoch 6/120\n",
      "3/3 [==============================] - 0s 66ms/step - loss: 0.9789 - accuracy: 0.3836 - val_loss: 1.0507 - val_accuracy: 0.2812\n",
      "Epoch 7/120\n",
      "3/3 [==============================] - 0s 54ms/step - loss: 0.9679 - accuracy: 0.3836 - val_loss: 1.0424 - val_accuracy: 0.2812\n",
      "Epoch 8/120\n",
      "3/3 [==============================] - 0s 48ms/step - loss: 0.9560 - accuracy: 0.3836 - val_loss: 1.0304 - val_accuracy: 0.2812\n",
      "Epoch 9/120\n",
      "3/3 [==============================] - 0s 53ms/step - loss: 0.9457 - accuracy: 0.3836 - val_loss: 1.0195 - val_accuracy: 0.3438\n",
      "Epoch 10/120\n",
      "3/3 [==============================] - 0s 46ms/step - loss: 0.9324 - accuracy: 0.4521 - val_loss: 1.0032 - val_accuracy: 0.5625\n",
      "Epoch 11/120\n",
      "3/3 [==============================] - 0s 46ms/step - loss: 0.9214 - accuracy: 0.6438 - val_loss: 0.9891 - val_accuracy: 0.5938\n",
      "Epoch 12/120\n",
      "3/3 [==============================] - 0s 50ms/step - loss: 0.9078 - accuracy: 0.6986 - val_loss: 0.9781 - val_accuracy: 0.5938\n",
      "Epoch 13/120\n",
      "3/3 [==============================] - 0s 53ms/step - loss: 0.8923 - accuracy: 0.7123 - val_loss: 0.9683 - val_accuracy: 0.5938\n",
      "Epoch 14/120\n",
      "3/3 [==============================] - 0s 53ms/step - loss: 0.8763 - accuracy: 0.7123 - val_loss: 0.9590 - val_accuracy: 0.5938\n",
      "Epoch 15/120\n",
      "3/3 [==============================] - 0s 54ms/step - loss: 0.8600 - accuracy: 0.7260 - val_loss: 0.9466 - val_accuracy: 0.5938\n",
      "Epoch 16/120\n",
      "3/3 [==============================] - 0s 47ms/step - loss: 0.8391 - accuracy: 0.7397 - val_loss: 0.9278 - val_accuracy: 0.5938\n",
      "Epoch 17/120\n",
      "3/3 [==============================] - 0s 49ms/step - loss: 0.8182 - accuracy: 0.7397 - val_loss: 0.9097 - val_accuracy: 0.5938\n",
      "Epoch 18/120\n",
      "3/3 [==============================] - 0s 47ms/step - loss: 0.7922 - accuracy: 0.7397 - val_loss: 0.8895 - val_accuracy: 0.5938\n",
      "Epoch 19/120\n",
      "3/3 [==============================] - 0s 54ms/step - loss: 0.7670 - accuracy: 0.7397 - val_loss: 0.8621 - val_accuracy: 0.5938\n",
      "Epoch 20/120\n",
      "3/3 [==============================] - 0s 48ms/step - loss: 0.7397 - accuracy: 0.7397 - val_loss: 0.8298 - val_accuracy: 0.5938\n",
      "Epoch 21/120\n",
      "3/3 [==============================] - 0s 47ms/step - loss: 0.7094 - accuracy: 0.7397 - val_loss: 0.7940 - val_accuracy: 0.5938\n",
      "Epoch 22/120\n",
      "3/3 [==============================] - 0s 52ms/step - loss: 0.6744 - accuracy: 0.7397 - val_loss: 0.7645 - val_accuracy: 0.5938\n",
      "Epoch 23/120\n",
      "3/3 [==============================] - 0s 50ms/step - loss: 0.6369 - accuracy: 0.7397 - val_loss: 0.7397 - val_accuracy: 0.5938\n",
      "Epoch 24/120\n",
      "3/3 [==============================] - 0s 46ms/step - loss: 0.5972 - accuracy: 0.7397 - val_loss: 0.7170 - val_accuracy: 0.5938\n",
      "Epoch 25/120\n",
      "3/3 [==============================] - 0s 47ms/step - loss: 0.5612 - accuracy: 0.7397 - val_loss: 0.6759 - val_accuracy: 0.5938\n",
      "Epoch 26/120\n",
      "3/3 [==============================] - 0s 48ms/step - loss: 0.5214 - accuracy: 0.7397 - val_loss: 0.6338 - val_accuracy: 0.6562\n",
      "Epoch 27/120\n",
      "3/3 [==============================] - 0s 47ms/step - loss: 0.4822 - accuracy: 0.7397 - val_loss: 0.5847 - val_accuracy: 0.6250\n",
      "Epoch 28/120\n",
      "3/3 [==============================] - 0s 51ms/step - loss: 0.4435 - accuracy: 0.8356 - val_loss: 0.5334 - val_accuracy: 0.7500\n",
      "Epoch 29/120\n",
      "3/3 [==============================] - 0s 50ms/step - loss: 0.4142 - accuracy: 0.9178 - val_loss: 0.4870 - val_accuracy: 0.7500\n",
      "Epoch 30/120\n",
      "3/3 [==============================] - 0s 49ms/step - loss: 0.3958 - accuracy: 0.8219 - val_loss: 0.4544 - val_accuracy: 0.8438\n",
      "Epoch 31/120\n",
      "3/3 [==============================] - 0s 46ms/step - loss: 0.3539 - accuracy: 0.9178 - val_loss: 0.4553 - val_accuracy: 0.8750\n",
      "Epoch 32/120\n",
      "3/3 [==============================] - 0s 45ms/step - loss: 0.3432 - accuracy: 0.9178 - val_loss: 0.4417 - val_accuracy: 0.7500\n",
      "Epoch 33/120\n",
      "3/3 [==============================] - 0s 50ms/step - loss: 0.3181 - accuracy: 0.8904 - val_loss: 0.4035 - val_accuracy: 0.8750\n",
      "Epoch 34/120\n",
      "3/3 [==============================] - 0s 51ms/step - loss: 0.2933 - accuracy: 0.9315 - val_loss: 0.3775 - val_accuracy: 0.9688\n",
      "Epoch 35/120\n",
      "3/3 [==============================] - 0s 48ms/step - loss: 0.2782 - accuracy: 0.9726 - val_loss: 0.3515 - val_accuracy: 0.8750\n",
      "Epoch 36/120\n",
      "3/3 [==============================] - 0s 45ms/step - loss: 0.2805 - accuracy: 0.9041 - val_loss: 0.3297 - val_accuracy: 0.8750\n",
      "Epoch 37/120\n",
      "3/3 [==============================] - 0s 52ms/step - loss: 0.2403 - accuracy: 0.9726 - val_loss: 0.3543 - val_accuracy: 0.8750\n",
      "Epoch 38/120\n",
      "3/3 [==============================] - 0s 46ms/step - loss: 0.2768 - accuracy: 0.8904 - val_loss: 0.2964 - val_accuracy: 0.9062\n",
      "Epoch 39/120\n",
      "3/3 [==============================] - 0s 47ms/step - loss: 0.2391 - accuracy: 0.9452 - val_loss: 0.2956 - val_accuracy: 0.8750\n",
      "Epoch 40/120\n",
      "3/3 [==============================] - 0s 46ms/step - loss: 0.2316 - accuracy: 0.9041 - val_loss: 0.2973 - val_accuracy: 0.9375\n",
      "Epoch 41/120\n",
      "3/3 [==============================] - 0s 45ms/step - loss: 0.2147 - accuracy: 0.9315 - val_loss: 0.2918 - val_accuracy: 0.8750\n",
      "Epoch 42/120\n",
      "3/3 [==============================] - 0s 50ms/step - loss: 0.2306 - accuracy: 0.9315 - val_loss: 0.2712 - val_accuracy: 0.8750\n",
      "Epoch 43/120\n",
      "3/3 [==============================] - 0s 45ms/step - loss: 0.1958 - accuracy: 0.9589 - val_loss: 0.3309 - val_accuracy: 0.8125\n",
      "Epoch 44/120\n",
      "3/3 [==============================] - 0s 47ms/step - loss: 0.2391 - accuracy: 0.9041 - val_loss: 0.2603 - val_accuracy: 0.9375\n",
      "Epoch 45/120\n",
      "3/3 [==============================] - 0s 48ms/step - loss: 0.1997 - accuracy: 0.9315 - val_loss: 0.2584 - val_accuracy: 0.8750\n",
      "Epoch 46/120\n",
      "3/3 [==============================] - 0s 55ms/step - loss: 0.1780 - accuracy: 0.9315 - val_loss: 0.2821 - val_accuracy: 0.9375\n",
      "Epoch 47/120\n",
      "3/3 [==============================] - 0s 54ms/step - loss: 0.2487 - accuracy: 0.8630 - val_loss: 0.2261 - val_accuracy: 0.9688\n",
      "Epoch 48/120\n",
      "3/3 [==============================] - 0s 46ms/step - loss: 0.2397 - accuracy: 0.9315 - val_loss: 0.3403 - val_accuracy: 0.8438\n",
      "Epoch 49/120\n",
      "3/3 [==============================] - 0s 53ms/step - loss: 0.2347 - accuracy: 0.9178 - val_loss: 0.2738 - val_accuracy: 0.9375\n",
      "Epoch 50/120\n",
      "3/3 [==============================] - 0s 52ms/step - loss: 0.2130 - accuracy: 0.8904 - val_loss: 0.2620 - val_accuracy: 0.9375\n",
      "Epoch 51/120\n",
      "3/3 [==============================] - 0s 51ms/step - loss: 0.1897 - accuracy: 0.9315 - val_loss: 0.2352 - val_accuracy: 0.9375\n",
      "Epoch 52/120\n",
      "3/3 [==============================] - 0s 49ms/step - loss: 0.1724 - accuracy: 0.9452 - val_loss: 0.2259 - val_accuracy: 0.9688\n",
      "Epoch 53/120\n",
      "3/3 [==============================] - 0s 50ms/step - loss: 0.1674 - accuracy: 0.9452 - val_loss: 0.2183 - val_accuracy: 0.9688\n",
      "Epoch 54/120\n",
      "3/3 [==============================] - 0s 46ms/step - loss: 0.1634 - accuracy: 0.9452 - val_loss: 0.2124 - val_accuracy: 0.9688\n",
      "Epoch 55/120\n",
      "3/3 [==============================] - 0s 50ms/step - loss: 0.1638 - accuracy: 0.9452 - val_loss: 0.2058 - val_accuracy: 0.9688\n",
      "Epoch 56/120\n",
      "3/3 [==============================] - 0s 49ms/step - loss: 0.1581 - accuracy: 0.9726 - val_loss: 0.2077 - val_accuracy: 0.9375\n",
      "Epoch 57/120\n",
      "3/3 [==============================] - 0s 56ms/step - loss: 0.1630 - accuracy: 0.9452 - val_loss: 0.1976 - val_accuracy: 0.9688\n",
      "Epoch 58/120\n",
      "3/3 [==============================] - 0s 50ms/step - loss: 0.1621 - accuracy: 0.9315 - val_loss: 0.1939 - val_accuracy: 0.9688\n",
      "Epoch 59/120\n",
      "3/3 [==============================] - 0s 69ms/step - loss: 0.1574 - accuracy: 0.9589 - val_loss: 0.1950 - val_accuracy: 0.9688\n",
      "Epoch 60/120\n",
      "3/3 [==============================] - 0s 52ms/step - loss: 0.1577 - accuracy: 0.9315 - val_loss: 0.1904 - val_accuracy: 0.9688\n",
      "Epoch 61/120\n",
      "3/3 [==============================] - 0s 45ms/step - loss: 0.1537 - accuracy: 0.9452 - val_loss: 0.1890 - val_accuracy: 0.9688\n",
      "Epoch 62/120\n",
      "3/3 [==============================] - 0s 50ms/step - loss: 0.1472 - accuracy: 0.9452 - val_loss: 0.1863 - val_accuracy: 0.9688\n",
      "Epoch 63/120\n",
      "3/3 [==============================] - 0s 50ms/step - loss: 0.1442 - accuracy: 0.9452 - val_loss: 0.1806 - val_accuracy: 0.9688\n",
      "Epoch 64/120\n",
      "3/3 [==============================] - 0s 50ms/step - loss: 0.1489 - accuracy: 0.9452 - val_loss: 0.1778 - val_accuracy: 0.9688\n",
      "Epoch 65/120\n",
      "3/3 [==============================] - 0s 51ms/step - loss: 0.1455 - accuracy: 0.9452 - val_loss: 0.1933 - val_accuracy: 0.8750\n",
      "Epoch 66/120\n",
      "3/3 [==============================] - 0s 47ms/step - loss: 0.1573 - accuracy: 0.9452 - val_loss: 0.1753 - val_accuracy: 0.9375\n",
      "Epoch 67/120\n",
      "3/3 [==============================] - 0s 51ms/step - loss: 0.1409 - accuracy: 0.9452 - val_loss: 0.1676 - val_accuracy: 0.9688\n",
      "Epoch 68/120\n",
      "3/3 [==============================] - 0s 49ms/step - loss: 0.1378 - accuracy: 0.9178 - val_loss: 0.1639 - val_accuracy: 0.9688\n",
      "Epoch 69/120\n",
      "3/3 [==============================] - 0s 48ms/step - loss: 0.1368 - accuracy: 0.9452 - val_loss: 0.1645 - val_accuracy: 0.9688\n",
      "Epoch 70/120\n",
      "3/3 [==============================] - 0s 45ms/step - loss: 0.1453 - accuracy: 0.9452 - val_loss: 0.1636 - val_accuracy: 0.9375\n",
      "Epoch 71/120\n",
      "3/3 [==============================] - 0s 47ms/step - loss: 0.1376 - accuracy: 0.9452 - val_loss: 0.1952 - val_accuracy: 0.9375\n",
      "Epoch 72/120\n",
      "3/3 [==============================] - 0s 51ms/step - loss: 0.1620 - accuracy: 0.9315 - val_loss: 0.1568 - val_accuracy: 0.9688\n",
      "Epoch 73/120\n",
      "3/3 [==============================] - 0s 46ms/step - loss: 0.1377 - accuracy: 0.9452 - val_loss: 0.1616 - val_accuracy: 0.9375\n",
      "Epoch 74/120\n",
      "3/3 [==============================] - 0s 48ms/step - loss: 0.1284 - accuracy: 0.9589 - val_loss: 0.1529 - val_accuracy: 1.0000\n",
      "Epoch 75/120\n",
      "3/3 [==============================] - 0s 47ms/step - loss: 0.1314 - accuracy: 0.9452 - val_loss: 0.1505 - val_accuracy: 0.9688\n",
      "Epoch 76/120\n",
      "3/3 [==============================] - 0s 52ms/step - loss: 0.1277 - accuracy: 0.9726 - val_loss: 0.1546 - val_accuracy: 0.9375\n",
      "Epoch 77/120\n",
      "3/3 [==============================] - 0s 48ms/step - loss: 0.1309 - accuracy: 0.9315 - val_loss: 0.1443 - val_accuracy: 0.9688\n",
      "Epoch 78/120\n",
      "3/3 [==============================] - 0s 51ms/step - loss: 0.1272 - accuracy: 0.9589 - val_loss: 0.1466 - val_accuracy: 1.0000\n",
      "Epoch 79/120\n",
      "3/3 [==============================] - 0s 47ms/step - loss: 0.1254 - accuracy: 0.9452 - val_loss: 0.1474 - val_accuracy: 0.9375\n",
      "Epoch 80/120\n",
      "3/3 [==============================] - 0s 48ms/step - loss: 0.1486 - accuracy: 0.9315 - val_loss: 0.1387 - val_accuracy: 0.9688\n",
      "Epoch 81/120\n",
      "3/3 [==============================] - 0s 48ms/step - loss: 0.1402 - accuracy: 0.9452 - val_loss: 0.1913 - val_accuracy: 0.8750\n",
      "Epoch 82/120\n",
      "3/3 [==============================] - 0s 51ms/step - loss: 0.1401 - accuracy: 0.9452 - val_loss: 0.1760 - val_accuracy: 0.9375\n",
      "Epoch 83/120\n",
      "3/3 [==============================] - 0s 48ms/step - loss: 0.1454 - accuracy: 0.9452 - val_loss: 0.1350 - val_accuracy: 0.9688\n",
      "Epoch 84/120\n",
      "3/3 [==============================] - 0s 55ms/step - loss: 0.1114 - accuracy: 0.9589 - val_loss: 0.1932 - val_accuracy: 0.8750\n",
      "Epoch 85/120\n",
      "3/3 [==============================] - 0s 46ms/step - loss: 0.1652 - accuracy: 0.9315 - val_loss: 0.1322 - val_accuracy: 0.9688\n",
      "Epoch 86/120\n",
      "3/3 [==============================] - 0s 46ms/step - loss: 0.1192 - accuracy: 0.9452 - val_loss: 0.1426 - val_accuracy: 0.9375\n",
      "Epoch 87/120\n",
      "3/3 [==============================] - 0s 46ms/step - loss: 0.1156 - accuracy: 0.9726 - val_loss: 0.1458 - val_accuracy: 1.0000\n",
      "Epoch 88/120\n",
      "3/3 [==============================] - 0s 46ms/step - loss: 0.1282 - accuracy: 0.9452 - val_loss: 0.1283 - val_accuracy: 0.9688\n",
      "Epoch 89/120\n",
      "3/3 [==============================] - 0s 57ms/step - loss: 0.1184 - accuracy: 0.9726 - val_loss: 0.1332 - val_accuracy: 0.9375\n",
      "Epoch 90/120\n",
      "3/3 [==============================] - 0s 45ms/step - loss: 0.1181 - accuracy: 0.9589 - val_loss: 0.1259 - val_accuracy: 1.0000\n",
      "Epoch 91/120\n",
      "3/3 [==============================] - 0s 47ms/step - loss: 0.1126 - accuracy: 0.9726 - val_loss: 0.1293 - val_accuracy: 0.9375\n",
      "Epoch 92/120\n",
      "3/3 [==============================] - 0s 46ms/step - loss: 0.1143 - accuracy: 0.9452 - val_loss: 0.1251 - val_accuracy: 0.9375\n",
      "Epoch 93/120\n",
      "3/3 [==============================] - 0s 44ms/step - loss: 0.1159 - accuracy: 0.9452 - val_loss: 0.1176 - val_accuracy: 0.9688\n",
      "Epoch 94/120\n",
      "3/3 [==============================] - 0s 48ms/step - loss: 0.1178 - accuracy: 0.9589 - val_loss: 0.1171 - val_accuracy: 0.9688\n",
      "Epoch 95/120\n",
      "3/3 [==============================] - 0s 46ms/step - loss: 0.1328 - accuracy: 0.9315 - val_loss: 0.1145 - val_accuracy: 1.0000\n",
      "Epoch 96/120\n",
      "3/3 [==============================] - 0s 46ms/step - loss: 0.1136 - accuracy: 0.9589 - val_loss: 0.1435 - val_accuracy: 0.9375\n",
      "Epoch 97/120\n",
      "3/3 [==============================] - 0s 48ms/step - loss: 0.1217 - accuracy: 0.9452 - val_loss: 0.1119 - val_accuracy: 1.0000\n",
      "Epoch 98/120\n",
      "3/3 [==============================] - 0s 49ms/step - loss: 0.1274 - accuracy: 0.9452 - val_loss: 0.1108 - val_accuracy: 1.0000\n",
      "Epoch 99/120\n",
      "3/3 [==============================] - 0s 48ms/step - loss: 0.1371 - accuracy: 0.9315 - val_loss: 0.1289 - val_accuracy: 0.9375\n",
      "Epoch 100/120\n",
      "3/3 [==============================] - 0s 46ms/step - loss: 0.0998 - accuracy: 0.9726 - val_loss: 0.1623 - val_accuracy: 0.8750\n",
      "Epoch 101/120\n",
      "3/3 [==============================] - 0s 45ms/step - loss: 0.1456 - accuracy: 0.9452 - val_loss: 0.1092 - val_accuracy: 1.0000\n",
      "Epoch 102/120\n",
      "3/3 [==============================] - 0s 47ms/step - loss: 0.0960 - accuracy: 0.9726 - val_loss: 0.2260 - val_accuracy: 0.9375\n",
      "Epoch 103/120\n",
      "3/3 [==============================] - 0s 52ms/step - loss: 0.1834 - accuracy: 0.9041 - val_loss: 0.1155 - val_accuracy: 1.0000\n",
      "Epoch 104/120\n",
      "3/3 [==============================] - 0s 45ms/step - loss: 0.2144 - accuracy: 0.9315 - val_loss: 0.2028 - val_accuracy: 0.8750\n",
      "Epoch 105/120\n",
      "3/3 [==============================] - 0s 50ms/step - loss: 0.1099 - accuracy: 0.9589 - val_loss: 0.1931 - val_accuracy: 0.9375\n",
      "Epoch 106/120\n",
      "3/3 [==============================] - 0s 48ms/step - loss: 0.2156 - accuracy: 0.8904 - val_loss: 0.1264 - val_accuracy: 0.9375\n",
      "Epoch 107/120\n",
      "3/3 [==============================] - 0s 47ms/step - loss: 0.1850 - accuracy: 0.9452 - val_loss: 0.2616 - val_accuracy: 0.8750\n",
      "Epoch 108/120\n",
      "3/3 [==============================] - 0s 51ms/step - loss: 0.1722 - accuracy: 0.9315 - val_loss: 0.1179 - val_accuracy: 0.9375\n",
      "Epoch 109/120\n",
      "3/3 [==============================] - 0s 49ms/step - loss: 0.1551 - accuracy: 0.9315 - val_loss: 0.2330 - val_accuracy: 0.9062\n",
      "Epoch 110/120\n",
      "3/3 [==============================] - 0s 45ms/step - loss: 0.1768 - accuracy: 0.9041 - val_loss: 0.1261 - val_accuracy: 1.0000\n",
      "Epoch 111/120\n",
      "3/3 [==============================] - 0s 46ms/step - loss: 0.1382 - accuracy: 0.9452 - val_loss: 0.1437 - val_accuracy: 0.9688\n",
      "Epoch 112/120\n",
      "3/3 [==============================] - 0s 48ms/step - loss: 0.1174 - accuracy: 0.9452 - val_loss: 0.1314 - val_accuracy: 0.9375\n",
      "Epoch 113/120\n",
      "3/3 [==============================] - 0s 50ms/step - loss: 0.1253 - accuracy: 0.9315 - val_loss: 0.1464 - val_accuracy: 0.9375\n",
      "Epoch 114/120\n",
      "3/3 [==============================] - 0s 49ms/step - loss: 0.1143 - accuracy: 0.9452 - val_loss: 0.1229 - val_accuracy: 1.0000\n",
      "Epoch 115/120\n",
      "3/3 [==============================] - 0s 60ms/step - loss: 0.1176 - accuracy: 0.9589 - val_loss: 0.1302 - val_accuracy: 1.0000\n",
      "Epoch 116/120\n",
      "3/3 [==============================] - 0s 51ms/step - loss: 0.1160 - accuracy: 0.9589 - val_loss: 0.1208 - val_accuracy: 0.9375\n",
      "Epoch 117/120\n",
      "3/3 [==============================] - 0s 46ms/step - loss: 0.1130 - accuracy: 0.9452 - val_loss: 0.1204 - val_accuracy: 0.9375\n",
      "Epoch 118/120\n",
      "3/3 [==============================] - 0s 58ms/step - loss: 0.1124 - accuracy: 0.9452 - val_loss: 0.1244 - val_accuracy: 1.0000\n",
      "Epoch 119/120\n",
      "3/3 [==============================] - 0s 60ms/step - loss: 0.1151 - accuracy: 0.9589 - val_loss: 0.1141 - val_accuracy: 1.0000\n",
      "Epoch 120/120\n",
      "3/3 [==============================] - 0s 52ms/step - loss: 0.1051 - accuracy: 0.9726 - val_loss: 0.1278 - val_accuracy: 0.9375\n"
     ]
    }
   ],
   "source": [
    "history = model.fit(X_train, y_train, validation_split = 0.3, batch_size=30, epochs=120)"
   ]
  },
  {
   "cell_type": "code",
   "execution_count": 56,
   "id": "d5fb3f1a-5e43-4d9e-b185-0b7786db61de",
   "metadata": {},
   "outputs": [
    {
     "name": "stdout",
     "output_type": "stream",
     "text": [
      "Model: \"sequential_4\"\n",
      "_________________________________________________________________\n",
      " Layer (type)                Output Shape              Param #   \n",
      "=================================================================\n",
      " gru (GRU)                   (None, 64)                12864     \n",
      "                                                                 \n",
      " dense_9 (Dense)             (None, 16)                1040      \n",
      "                                                                 \n",
      " dense_10 (Dense)            (None, 3)                 51        \n",
      "                                                                 \n",
      "=================================================================\n",
      "Total params: 13,955\n",
      "Trainable params: 13,955\n",
      "Non-trainable params: 0\n",
      "_________________________________________________________________\n"
     ]
    }
   ],
   "source": [
    "model.summary()"
   ]
  },
  {
   "cell_type": "code",
   "execution_count": 57,
   "id": "28e03f6d-7efa-4803-bce4-610196396c28",
   "metadata": {},
   "outputs": [
    {
     "data": {
      "text/plain": [
       "<matplotlib.legend.Legend at 0x1b95fb7aeb0>"
      ]
     },
     "execution_count": 57,
     "metadata": {},
     "output_type": "execute_result"
    },
    {
     "data": {
      "image/png": "[encoded data removed]",
      "text/plain": [
       "<Figure size 432x288 with 1 Axes>"
      ]
     },
     "metadata": {
      "needs_background": "light"
     },
     "output_type": "display_data"
    }
   ],
   "source": [
    "plt.plot(history.history['accuracy'])\n",
    "plt.plot(history.history['val_accuracy'])\n",
    "plt.legend(['accuracy','validation accuracy'])"
   ]
  },
  {
   "cell_type": "code",
   "execution_count": 58,
   "id": "4af6e23a-e112-44eb-bf20-5f4a47cea8dc",
   "metadata": {},
   "outputs": [
    {
     "data": {
      "text/plain": [
       "<matplotlib.legend.Legend at 0x1b95fbce5e0>"
      ]
     },
     "execution_count": 58,
     "metadata": {},
     "output_type": "execute_result"
    },
    {
     "data": {
      "image/png": "[encoded data removed]",
      "text/plain": [
       "<Figure size 432x288 with 1 Axes>"
      ]
     },
     "metadata": {
      "needs_background": "light"
     },
     "output_type": "display_data"
    }
   ],
   "source": [
    "plt.plot(history.history['loss'])\n",
    "plt.plot(history.history['val_loss'])\n",
    "plt.legend(['loss','validation loss'])"
   ]
  },
  {
   "cell_type": "code",
   "execution_count": 59,
   "id": "7f955b0a-787d-4e88-9dd7-4b9dde8e9378",
   "metadata": {},
   "outputs": [
    {
     "name": "stdout",
     "output_type": "stream",
     "text": [
      "Test loss: 0.11523469537496567\n",
      "Test accuracy: 0.9777777791023254\n"
     ]
    }
   ],
   "source": [
    "loss, accuracy = model.evaluate(X_test, y_test, verbose=0)\n",
    "print('Test loss:', loss)\n",
    "print('Test accuracy:', accuracy)"
   ]
  },
  {
   "cell_type": "code",
   "execution_count": 61,
   "id": "dc4d704f-1959-4447-9117-6b6a8dbaf0e7",
   "metadata": {
    "scrolled": true,
    "tags": []
   },
   "outputs": [
    {
     "name": "stdout",
     "output_type": "stream",
     "text": [
      "2/2 [==============================] - 0s 6ms/step\n"
     ]
    },
    {
     "data": {
      "text/plain": [
       "array([[1., 0., 0.],\n",
       "       [0., 1., 0.],\n",
       "       [0., 1., 0.],\n",
       "       [1., 0., 0.],\n",
       "       [0., 0., 1.],\n",
       "       [0., 1., 0.],\n",
       "       [0., 0., 1.],\n",
       "       [1., 0., 0.],\n",
       "       [1., 0., 0.],\n",
       "       [0., 0., 1.],\n",
       "       [0., 1., 0.],\n",
       "       [1., 0., 0.],\n",
       "       [0., 0., 1.],\n",
       "       [0., 1., 0.],\n",
       "       [0., 1., 0.],\n",
       "       [1., 0., 0.],\n",
       "       [0., 1., 0.],\n",
       "       [0., 1., 0.],\n",
       "       [1., 0., 0.],\n",
       "       [1., 0., 0.],\n",
       "       [0., 1., 0.],\n",
       "       [0., 1., 0.],\n",
       "       [0., 1., 0.],\n",
       "       [1., 0., 0.],\n",
       "       [0., 0., 1.],\n",
       "       [0., 1., 0.],\n",
       "       [1., 0., 0.],\n",
       "       [1., 0., 0.],\n",
       "       [0., 1., 0.],\n",
       "       [0., 0., 1.],\n",
       "       [0., 1., 0.],\n",
       "       [0., 0., 1.],\n",
       "       [0., 1., 0.],\n",
       "       [0., 0., 1.],\n",
       "       [0., 0., 1.],\n",
       "       [1., 0., 0.],\n",
       "       [0., 1., 0.],\n",
       "       [1., 0., 0.],\n",
       "       [0., 1., 0.],\n",
       "       [0., 0., 1.],\n",
       "       [0., 0., 1.],\n",
       "       [1., 0., 0.],\n",
       "       [0., 1., 0.],\n",
       "       [0., 0., 1.],\n",
       "       [0., 1., 0.]], dtype=float32)"
      ]
     },
     "execution_count": 61,
     "metadata": {},
     "output_type": "execute_result"
    }
   ],
   "source": [
    "y_pred = model.predict(X_test)\n",
    "y_pred = np.round(y_pred)\n",
    "y_pred"
   ]
  },
  {
   "cell_type": "code",
   "execution_count": 62,
   "id": "53c41733-22db-4139-81a8-547838a69d99",
   "metadata": {},
   "outputs": [
    {
     "data": {
      "text/plain": [
       "0.9777777777777777"
      ]
     },
     "execution_count": 62,
     "metadata": {},
     "output_type": "execute_result"
    }
   ],
   "source": [
    "from sklearn.metrics import accuracy_score\n",
    "pred_accuracy = accuracy_score(y_pred, y_test)\n",
    "pred_accuracy"
   ]
  },
  {
   "cell_type": "code",
   "execution_count": 63,
   "id": "631ab562-1f0b-463a-94cb-d76376ff2a9f",
   "metadata": {},
   "outputs": [
    {
     "name": "stdout",
     "output_type": "stream",
     "text": [
      "Actual: [0 1 1 0 2 1 2 0 0 2 1 0 2 1 1 0 1 1 0 0 1 1 1 0 2 1 0 0 1 2 1 2 1 2 2 0 1\n",
      " 0 1 2 2 0 2 2 1]\n",
      "Predicted: [0 1 1 0 2 1 2 0 0 2 1 0 2 1 1 0 1 1 0 0 1 1 1 0 2 1 0 0 1 2 1 2 1 2 2 0 1\n",
      " 0 1 2 2 0 1 2 1]\n"
     ]
    }
   ],
   "source": [
    "actual = np.argmax(y_test,axis=1)\n",
    "predicted = np.argmax(y_pred,axis=1)\n",
    "print(\"Actual: {}\".format(actual))\n",
    "print(\"Predicted: {}\".format(predicted))"
   ]
  },
  {
   "cell_type": "code",
   "execution_count": 64,
   "id": "737cbe9e-7d7b-44ad-8fd9-614733ed9b44",
   "metadata": {},
   "outputs": [
    {
     "name": "stdout",
     "output_type": "stream",
     "text": [
      "                 precision    recall  f1-score   support\n",
      "\n",
      "    Iris-setosa       1.00      1.00      1.00        14\n",
      "Iris-versicolor       0.95      1.00      0.97        18\n",
      " Iris-virginica       1.00      0.92      0.96        13\n",
      "\n",
      "      micro avg       0.98      0.98      0.98        45\n",
      "      macro avg       0.98      0.97      0.98        45\n",
      "   weighted avg       0.98      0.98      0.98        45\n",
      "    samples avg       0.98      0.98      0.98        45\n",
      "\n"
     ]
    }
   ],
   "source": [
    "from sklearn.metrics import classification_report\n",
    "target_names = ['Iris-setosa', 'Iris-versicolor', 'Iris-virginica']\n",
    "print(classification_report(y_test, y_pred, target_names=target_names))"
   ]
  },
  {
   "cell_type": "code",
   "execution_count": null,
   "id": "2198a4fb-ea8b-4d45-a443-80ebfd03fef7",
   "metadata": {},
   "outputs": [],
   "source": []
  }
 ],
 "metadata": {
  "kernelspec": {
   "display_name": "Python 3 (ipykernel)",
   "language": "python",
   "name": "python3"
  },
  "language_info": {
   "codemirror_mode": {
    "name": "ipython",
    "version": 3
   },
   "file_extension": ".py",
   "mimetype": "text/x-python",
   "name": "python",
   "nbconvert_exporter": "python",
   "pygments_lexer": "ipython3",
   "version": "3.8.10"
  }
 },
 "nbformat": 4,
 "nbformat_minor": 5
}
